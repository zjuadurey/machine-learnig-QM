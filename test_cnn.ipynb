{
 "cells": [
  {
   "cell_type": "code",
   "execution_count": 1,
   "metadata": {},
   "outputs": [],
   "source": [
    "import netket as nk\n",
    "import numpy as np\n",
    "import os\n",
    "os.environ[\"JAX_PLATFORM_NAME\"] = 'cpu'"
   ]
  },
  {
   "cell_type": "code",
   "execution_count": 2,
   "metadata": {},
   "outputs": [],
   "source": [
    "#晶格相互作用对定义\n",
    "size = (10,10)\n",
    "row_num, col_num = size\n",
    "n_lattice = row_num * col_num\n",
    "num = [ i for i in range(row_num * col_num)]\n",
    "\n",
    "begin = [ i * col_num for i in range(row_num)]\n",
    "end = [(i + 1) * col_num - 1 for i in range(row_num)]"
   ]
  },
  {
   "cell_type": "code",
   "execution_count": 3,
   "metadata": {},
   "outputs": [],
   "source": [
    "edgesx = []\n",
    "edgesy = []\n",
    "edgesz = []"
   ]
  },
  {
   "cell_type": "code",
   "execution_count": 4,
   "metadata": {},
   "outputs": [
    {
     "data": {
      "text/plain": [
       "range(0, 16)"
      ]
     },
     "execution_count": 4,
     "metadata": {},
     "output_type": "execute_result"
    }
   ],
   "source": [
    "for i in num:\n",
    "    if i in begin:\n",
    "        edgesx.append([i, i + col_num - 1])\n",
    "    else:\n",
    "        edgesx.append([i, i - 1])\n",
    "\n",
    "for i in num:\n",
    "    if i in num [ :col_num]:\n",
    "        edgesy.append([i, num[- (col_num - i)]])\n",
    "    else:\n",
    "        edgesy.append([i, i - col_num])\n",
    "\n",
    "for i in num:\n",
    "    if i in num [-col_num:-1]:\n",
    "        edgesz.append([i, num[- (col_num*3 - i)]+1])\n",
    "    elif i in end:\n",
    "        if i==n_lattice-1:\n",
    "            edgesz.append([0, i])\n",
    "        else:\n",
    "            edgesz.append([i, i + 1])     \n",
    "    else:\n",
    "        edgesz.append([i, i + col_num + 1])\n",
    "\n",
    "edges = edgesx + edgesz + edgesy\n",
    "graph = nk.graph.Graph(edges)\n",
    "graph.nodes()"
   ]
  },
  {
   "cell_type": "markdown",
   "metadata": {},
   "source": [
    "hilbert space"
   ]
  },
  {
   "cell_type": "code",
   "execution_count": 5,
   "metadata": {},
   "outputs": [],
   "source": [
    "#希尔伯特空间\n",
    "hi = nk.hilbert.Spin(s = 0.5, N = graph.n_nodes)"
   ]
  },
  {
   "cell_type": "markdown",
   "metadata": {},
   "source": [
    "哈密顿量"
   ]
  },
  {
   "cell_type": "code",
   "execution_count": 6,
   "metadata": {},
   "outputs": [],
   "source": [
    "#pauli matrix\n",
    "sx = [[0, 1], [1, 0]]\n",
    "sy = [[0, -1j], [1j, 0]]\n",
    "sz = [[1, 0], [0, -1]]\n",
    "#parameter\n",
    "h=1\n",
    "J=1\n",
    "#g = J / h\n",
    "H = nk.operator.LocalOperator(hi)\n",
    "for i in edges:\n",
    "    H += -J*nk.operator.LocalOperator(hi, np.kron(sz, sz), i)\n",
    "sxx = -h* nk.operator.LocalOperator(hi, [sx] * n_lattice, [[i] for i in range(n_lattice)])\n",
    "H += sxx #This term is magnetization, which can be regarded as an operator Mx(g)\n"
   ]
  },
  {
   "cell_type": "code",
   "execution_count": 7,
   "metadata": {},
   "outputs": [
    {
     "data": {
      "text/plain": [
       "LocalOperator(dim=16, #acting_on=64 locations, constant=0.0, dtype=float64)"
      ]
     },
     "execution_count": 7,
     "metadata": {},
     "output_type": "execute_result"
    }
   ],
   "source": [
    "H"
   ]
  },
  {
   "cell_type": "code",
   "execution_count": 8,
   "metadata": {},
   "outputs": [
    {
     "name": "stdout",
     "output_type": "stream",
     "text": [
      "eigenvalues with scipy sparse: [-49.33521061 -49.33521061]\n"
     ]
    }
   ],
   "source": [
    "#精确对角化（5x5时会崩溃）\n",
    "sp_h=H.to_sparse()\n",
    "sp_h.shape\n",
    "\n",
    "# the k-th lowest eigenvalues\n",
    "from scipy.sparse.linalg import eigsh\n",
    "\n",
    "eig_vals, eig_vecs = eigsh(sp_h, k=2, which=\"SA\")\n",
    "\n",
    "print(\"eigenvalues with scipy sparse:\", eig_vals)\n",
    "\n",
    "E_gs = eig_vals[0]"
   ]
  },
  {
   "cell_type": "code",
   "execution_count": 9,
   "metadata": {},
   "outputs": [],
   "source": [
    "import jax.numpy as jnp\n",
    "\n",
    "# Flax is a framework to define models using jax\n",
    "import flax\n",
    "# we refer to `flax.linen` as `nn`. It's a repository of \n",
    "# layers, initializers and nonlinear functions.\n",
    "import flax.linen as nn\n",
    "\n",
    "import jax\n",
    "\n",
    "from flax.training import train_state  # Useful dataclass to keep train state\n",
    "\n",
    "import numpy as np                     # Ordinary NumPy\n",
    "import optax  "
   ]
  },
  {
   "cell_type": "code",
   "execution_count": 10,
   "metadata": {},
   "outputs": [],
   "source": [
    "import jax.numpy as jnp\n",
    "\n",
    "# Flax is a framework to define models using jax\n",
    "import flax\n",
    "# we refer to `flax.linen` as `nn`. It's a repository of \n",
    "# layers, initializers and nonlinear functions.\n",
    "import flax.linen as nn\n",
    "\n",
    "# A Flax model must be a class subclassing `nn.Module`\n",
    "class MF(nn.Module):\n",
    "    \n",
    "    # The most compact way to define the model is this.\n",
    "    # The __call__(self, x) function should take as \n",
    "    # input a batch of states x.shape = (n_samples, L)\n",
    "    # and should return a vector of n_samples log-amplitudes\n",
    "    @nn.compact\n",
    "    def __call__(self, x):\n",
    "        \n",
    "        # A tensor of variational parameters is defined by calling\n",
    "        # the method `self.param` where the arguments will be:\n",
    "        # - arbitrary name used to refer to this set of parameters\n",
    "        # - an initializer used to provide the initial values. \n",
    "        # - The shape of the tensor\n",
    "        # - The dtype of the tensor.\n",
    "        lam = self.param(\n",
    "            \"lambda\", nn.initializers.normal(), (1,), float\n",
    "        )\n",
    "        \n",
    "        # compute the probabilities\n",
    "        p = nn.log_sigmoid(lam*x)\n",
    "\n",
    "        # sum the output\n",
    "        return 0.5 * jnp.sum(p, axis=-1)"
   ]
  },
  {
   "cell_type": "code",
   "execution_count": 11,
   "metadata": {},
   "outputs": [],
   "source": [
    "# Create an instance of the model. \n",
    "# Notice that this does not create the parameters.\n",
    "mf_model=MF()\n",
    "\n",
    "# Create the local sampler on the hilbert space\n",
    "sampler = nk.sampler.MetropolisLocal(hi)\n",
    "\n",
    "# Construct the variational state using the model and the sampler above.\n",
    "# n_samples specifies how many samples should be used to compute expectation\n",
    "# values.\n",
    "vstate = nk.vqs.MCState(sampler, mf_model, n_samples=512)\n"
   ]
  },
  {
   "cell_type": "code",
   "execution_count": 12,
   "metadata": {},
   "outputs": [],
   "source": [
    "class FFN(nn.Module):\n",
    "    \n",
    "    # You can define attributes at the module-level\n",
    "    # with a default. This allows you to easily change\n",
    "    # some hyper-parameter without redefining the whole \n",
    "    # flax module.\n",
    "    alpha : int = 1\n",
    "            \n",
    "    @nn.compact\n",
    "    def __call__(self, x):\n",
    "\n",
    "        # here we construct the first dense layer using a\n",
    "        # pre-built implementation in flax.\n",
    "        # features is the number of output nodes\n",
    "        # WARNING: Won't work with complex hamiltonians because\n",
    "        # of a bug in flax. Use nk.nn.Dense otherwise. \n",
    "        dense = nn.Dense(features=self.alpha * x.shape[-1])\n",
    "        \n",
    "        # we apply the dense layer to the input\n",
    "        y = dense(x)\n",
    "\n",
    "        # the non-linearity is a simple ReLu\n",
    "        y = nn.relu(y)\n",
    "                \n",
    "        # sum the output\n",
    "        return jnp.sum(y, axis=-1)\n",
    "\n",
    "#model = nk.models.ARNNDense(hilbert=hi, layers=1,features=10)\n",
    "model = nk.models.ARNNConv1D(hilbert=hi, layers=1, features=10,kernel_size=2)\n",
    "#model = FFN(alpha=1)"
   ]
  },
  {
   "cell_type": "code",
   "execution_count": 13,
   "metadata": {},
   "outputs": [],
   "source": [
    "vstate = nk.vqs.MCState(sampler, model, n_samples=1008)"
   ]
  },
  {
   "cell_type": "code",
   "execution_count": 14,
   "metadata": {},
   "outputs": [
    {
     "name": "stderr",
     "output_type": "stream",
     "text": [
      "  2%|▏         | 15/1000 [00:36<39:44,  2.42s/it, Energy=-11.05 ± 0.24 [σ²=55.71, R̂=1.0075]]\n"
     ]
    },
    {
     "ename": "KeyboardInterrupt",
     "evalue": "",
     "output_type": "error",
     "traceback": [
      "\u001b[0;31m---------------------------------------------------------------------------\u001b[0m",
      "\u001b[0;31mKeyboardInterrupt\u001b[0m                         Traceback (most recent call last)",
      "\u001b[1;32m/usr/local/machine-learnig-QM/test_cnn.ipynb Cell 16'\u001b[0m in \u001b[0;36m<cell line: 7>\u001b[0;34m()\u001b[0m\n\u001b[1;32m      <a href='vscode-notebook-cell://wsl%2Bubuntu-20.04/usr/local/machine-learnig-QM/test_cnn.ipynb#ch0000015vscode-remote?line=3'>4</a>\u001b[0m gs \u001b[39m=\u001b[39m nk\u001b[39m.\u001b[39mdriver\u001b[39m.\u001b[39mVMC(H, optimizer, variational_state\u001b[39m=\u001b[39mvstate,preconditioner\u001b[39m=\u001b[39mnk\u001b[39m.\u001b[39moptimizer\u001b[39m.\u001b[39mSR(diag_shift\u001b[39m=\u001b[39m\u001b[39m0.01\u001b[39m))\n\u001b[1;32m      <a href='vscode-notebook-cell://wsl%2Bubuntu-20.04/usr/local/machine-learnig-QM/test_cnn.ipynb#ch0000015vscode-remote?line=5'>6</a>\u001b[0m log\u001b[39m=\u001b[39mnk\u001b[39m.\u001b[39mlogging\u001b[39m.\u001b[39mRuntimeLog()\n\u001b[0;32m----> <a href='vscode-notebook-cell://wsl%2Bubuntu-20.04/usr/local/machine-learnig-QM/test_cnn.ipynb#ch0000015vscode-remote?line=6'>7</a>\u001b[0m gs\u001b[39m.\u001b[39;49mrun(n_iter\u001b[39m=\u001b[39;49m\u001b[39m1000\u001b[39;49m,out\u001b[39m=\u001b[39;49mlog)\n\u001b[1;32m      <a href='vscode-notebook-cell://wsl%2Bubuntu-20.04/usr/local/machine-learnig-QM/test_cnn.ipynb#ch0000015vscode-remote?line=8'>9</a>\u001b[0m ffn_energy\u001b[39m=\u001b[39mvstate\u001b[39m.\u001b[39mexpect(H)\n\u001b[1;32m     <a href='vscode-notebook-cell://wsl%2Bubuntu-20.04/usr/local/machine-learnig-QM/test_cnn.ipynb#ch0000015vscode-remote?line=9'>10</a>\u001b[0m \u001b[39m#error=abs((ffn_energy.mean-eig_vals[0])/eig_vals[0])\u001b[39;00m\n",
      "File \u001b[0;32m/usr/local/lib/python3.8/dist-packages/netket/driver/abstract_variational_driver.py:252\u001b[0m, in \u001b[0;36mAbstractVariationalDriver.run\u001b[0;34m(self, n_iter, out, obs, show_progress, save_params_every, write_every, step_size, callback)\u001b[0m\n\u001b[1;32m    <a href='file:///usr/local/lib/python3.8/dist-packages/netket/driver/abstract_variational_driver.py?line=248'>249</a>\u001b[0m old_step \u001b[39m=\u001b[39m \u001b[39mself\u001b[39m\u001b[39m.\u001b[39mstep_count\n\u001b[1;32m    <a href='file:///usr/local/lib/python3.8/dist-packages/netket/driver/abstract_variational_driver.py?line=249'>250</a>\u001b[0m first_step \u001b[39m=\u001b[39m \u001b[39mTrue\u001b[39;00m\n\u001b[0;32m--> <a href='file:///usr/local/lib/python3.8/dist-packages/netket/driver/abstract_variational_driver.py?line=251'>252</a>\u001b[0m \u001b[39mfor\u001b[39;00m step \u001b[39min\u001b[39;00m \u001b[39mself\u001b[39m\u001b[39m.\u001b[39miter(n_iter, step_size):\n\u001b[1;32m    <a href='file:///usr/local/lib/python3.8/dist-packages/netket/driver/abstract_variational_driver.py?line=253'>254</a>\u001b[0m     log_data \u001b[39m=\u001b[39m \u001b[39mself\u001b[39m\u001b[39m.\u001b[39mestimate(obs)\n\u001b[1;32m    <a href='file:///usr/local/lib/python3.8/dist-packages/netket/driver/abstract_variational_driver.py?line=254'>255</a>\u001b[0m     \u001b[39mself\u001b[39m\u001b[39m.\u001b[39m_log_additional_data(log_data, step)\n",
      "File \u001b[0;32m/usr/local/lib/python3.8/dist-packages/netket/driver/abstract_variational_driver.py:168\u001b[0m, in \u001b[0;36mAbstractVariationalDriver.iter\u001b[0;34m(self, n_steps, step)\u001b[0m\n\u001b[1;32m    <a href='file:///usr/local/lib/python3.8/dist-packages/netket/driver/abstract_variational_driver.py?line=165'>166</a>\u001b[0m \u001b[39mfor\u001b[39;00m _ \u001b[39min\u001b[39;00m \u001b[39mrange\u001b[39m(\u001b[39m0\u001b[39m, n_steps, step):\n\u001b[1;32m    <a href='file:///usr/local/lib/python3.8/dist-packages/netket/driver/abstract_variational_driver.py?line=166'>167</a>\u001b[0m     \u001b[39mfor\u001b[39;00m i \u001b[39min\u001b[39;00m \u001b[39mrange\u001b[39m(\u001b[39m0\u001b[39m, step):\n\u001b[0;32m--> <a href='file:///usr/local/lib/python3.8/dist-packages/netket/driver/abstract_variational_driver.py?line=167'>168</a>\u001b[0m         dp \u001b[39m=\u001b[39m \u001b[39mself\u001b[39;49m\u001b[39m.\u001b[39;49m_forward_and_backward()\n\u001b[1;32m    <a href='file:///usr/local/lib/python3.8/dist-packages/netket/driver/abstract_variational_driver.py?line=168'>169</a>\u001b[0m         \u001b[39mif\u001b[39;00m i \u001b[39m==\u001b[39m \u001b[39m0\u001b[39m:\n\u001b[1;32m    <a href='file:///usr/local/lib/python3.8/dist-packages/netket/driver/abstract_variational_driver.py?line=169'>170</a>\u001b[0m             \u001b[39myield\u001b[39;00m \u001b[39mself\u001b[39m\u001b[39m.\u001b[39mstep_count\n",
      "File \u001b[0;32m/usr/local/lib/python3.8/dist-packages/netket/driver/vmc.py:132\u001b[0m, in \u001b[0;36mVMC._forward_and_backward\u001b[0;34m(self)\u001b[0m\n\u001b[1;32m    <a href='file:///usr/local/lib/python3.8/dist-packages/netket/driver/vmc.py?line=128'>129</a>\u001b[0m \u001b[39mself\u001b[39m\u001b[39m.\u001b[39mstate\u001b[39m.\u001b[39mreset()\n\u001b[1;32m    <a href='file:///usr/local/lib/python3.8/dist-packages/netket/driver/vmc.py?line=130'>131</a>\u001b[0m \u001b[39m# Compute the local energy estimator and average Energy\u001b[39;00m\n\u001b[0;32m--> <a href='file:///usr/local/lib/python3.8/dist-packages/netket/driver/vmc.py?line=131'>132</a>\u001b[0m \u001b[39mself\u001b[39m\u001b[39m.\u001b[39m_loss_stats, \u001b[39mself\u001b[39m\u001b[39m.\u001b[39m_loss_grad \u001b[39m=\u001b[39m \u001b[39mself\u001b[39;49m\u001b[39m.\u001b[39;49mstate\u001b[39m.\u001b[39;49mexpect_and_grad(\u001b[39mself\u001b[39;49m\u001b[39m.\u001b[39;49m_ham)\n\u001b[1;32m    <a href='file:///usr/local/lib/python3.8/dist-packages/netket/driver/vmc.py?line=133'>134</a>\u001b[0m \u001b[39m# if it's the identity it does\u001b[39;00m\n\u001b[1;32m    <a href='file:///usr/local/lib/python3.8/dist-packages/netket/driver/vmc.py?line=134'>135</a>\u001b[0m \u001b[39m# self._dp = self._loss_grad\u001b[39;00m\n\u001b[1;32m    <a href='file:///usr/local/lib/python3.8/dist-packages/netket/driver/vmc.py?line=135'>136</a>\u001b[0m \u001b[39mself\u001b[39m\u001b[39m.\u001b[39m_dp \u001b[39m=\u001b[39m \u001b[39mself\u001b[39m\u001b[39m.\u001b[39mpreconditioner(\u001b[39mself\u001b[39m\u001b[39m.\u001b[39mstate, \u001b[39mself\u001b[39m\u001b[39m.\u001b[39m_loss_grad)\n",
      "File \u001b[0;32m/usr/local/lib/python3.8/dist-packages/netket/vqs/mc/mc_state/state.py:595\u001b[0m, in \u001b[0;36mMCState.expect_and_grad\u001b[0;34m(self, Ô, mutable, use_covariance)\u001b[0m\n\u001b[1;32m    <a href='file:///usr/local/lib/python3.8/dist-packages/netket/vqs/mc/mc_state/state.py?line=591'>592</a>\u001b[0m \u001b[39mif\u001b[39;00m mutable \u001b[39mis\u001b[39;00m \u001b[39mNone\u001b[39;00m:\n\u001b[1;32m    <a href='file:///usr/local/lib/python3.8/dist-packages/netket/vqs/mc/mc_state/state.py?line=592'>593</a>\u001b[0m     mutable \u001b[39m=\u001b[39m \u001b[39mself\u001b[39m\u001b[39m.\u001b[39mmutable\n\u001b[0;32m--> <a href='file:///usr/local/lib/python3.8/dist-packages/netket/vqs/mc/mc_state/state.py?line=594'>595</a>\u001b[0m \u001b[39mreturn\u001b[39;00m expect_and_grad(\n\u001b[1;32m    <a href='file:///usr/local/lib/python3.8/dist-packages/netket/vqs/mc/mc_state/state.py?line=595'>596</a>\u001b[0m     \u001b[39mself\u001b[39;49m, Ô, use_covariance, \u001b[39mself\u001b[39;49m\u001b[39m.\u001b[39;49mchunk_size, mutable\u001b[39m=\u001b[39;49mmutable\n\u001b[1;32m    <a href='file:///usr/local/lib/python3.8/dist-packages/netket/vqs/mc/mc_state/state.py?line=596'>597</a>\u001b[0m )\n",
      "File \u001b[0;32m/usr/local/lib/python3.8/dist-packages/plum/function.py:527\u001b[0m, in \u001b[0;36mplum.function.Function.__call__\u001b[0;34m()\u001b[0m\n",
      "File \u001b[0;32m/usr/local/lib/python3.8/dist-packages/netket/vqs/base.py:381\u001b[0m, in \u001b[0;36mexpect_and_grad\u001b[0;34m(vstate, operator, use_covariance, mutable, *args, **kwargs)\u001b[0m\n\u001b[1;32m    <a href='file:///usr/local/lib/python3.8/dist-packages/netket/vqs/base.py?line=377'>378</a>\u001b[0m \u001b[39mif\u001b[39;00m mutable \u001b[39mis\u001b[39;00m \u001b[39mNone\u001b[39;00m:\n\u001b[1;32m    <a href='file:///usr/local/lib/python3.8/dist-packages/netket/vqs/base.py?line=378'>379</a>\u001b[0m     mutable \u001b[39m=\u001b[39m vstate\u001b[39m.\u001b[39mmutable\n\u001b[0;32m--> <a href='file:///usr/local/lib/python3.8/dist-packages/netket/vqs/base.py?line=380'>381</a>\u001b[0m \u001b[39mreturn\u001b[39;00m expect_and_grad(\n\u001b[1;32m    <a href='file:///usr/local/lib/python3.8/dist-packages/netket/vqs/base.py?line=381'>382</a>\u001b[0m     vstate, operator, use_covariance, \u001b[39m*\u001b[39;49margs, mutable\u001b[39m=\u001b[39;49mmutable, \u001b[39m*\u001b[39;49m\u001b[39m*\u001b[39;49mkwargs\n\u001b[1;32m    <a href='file:///usr/local/lib/python3.8/dist-packages/netket/vqs/base.py?line=382'>383</a>\u001b[0m )\n",
      "File \u001b[0;32m/usr/local/lib/python3.8/dist-packages/plum/function.py:527\u001b[0m, in \u001b[0;36mplum.function.Function.__call__\u001b[0;34m()\u001b[0m\n",
      "File \u001b[0;32m/usr/local/lib/python3.8/dist-packages/netket/vqs/mc/mc_state/expect_grad_chunked.py:49\u001b[0m, in \u001b[0;36mexpect_and_grad_nochunking\u001b[0;34m(vstate, operator, use_covariance, chunk_size, *args, **kwargs)\u001b[0m\n\u001b[1;32m     <a href='file:///usr/local/lib/python3.8/dist-packages/netket/vqs/mc/mc_state/expect_grad_chunked.py?line=39'>40</a>\u001b[0m \u001b[39m@expect_and_grad\u001b[39m\u001b[39m.\u001b[39mdispatch\n\u001b[1;32m     <a href='file:///usr/local/lib/python3.8/dist-packages/netket/vqs/mc/mc_state/expect_grad_chunked.py?line=40'>41</a>\u001b[0m \u001b[39mdef\u001b[39;00m \u001b[39mexpect_and_grad_nochunking\u001b[39m(  \u001b[39m# noqa: F811\u001b[39;00m\n\u001b[1;32m     <a href='file:///usr/local/lib/python3.8/dist-packages/netket/vqs/mc/mc_state/expect_grad_chunked.py?line=41'>42</a>\u001b[0m     vstate: MCState,\n\u001b[0;32m   (...)\u001b[0m\n\u001b[1;32m     <a href='file:///usr/local/lib/python3.8/dist-packages/netket/vqs/mc/mc_state/expect_grad_chunked.py?line=46'>47</a>\u001b[0m     \u001b[39m*\u001b[39m\u001b[39m*\u001b[39mkwargs,\n\u001b[1;32m     <a href='file:///usr/local/lib/python3.8/dist-packages/netket/vqs/mc/mc_state/expect_grad_chunked.py?line=47'>48</a>\u001b[0m ):\n\u001b[0;32m---> <a href='file:///usr/local/lib/python3.8/dist-packages/netket/vqs/mc/mc_state/expect_grad_chunked.py?line=48'>49</a>\u001b[0m     \u001b[39mreturn\u001b[39;00m expect_and_grad(vstate, operator, use_covariance, \u001b[39m*\u001b[39;49margs, \u001b[39m*\u001b[39;49m\u001b[39m*\u001b[39;49mkwargs)\n",
      "File \u001b[0;32m/usr/local/lib/python3.8/dist-packages/plum/function.py:529\u001b[0m, in \u001b[0;36mplum.function.Function.__call__\u001b[0;34m()\u001b[0m\n",
      "File \u001b[0;32m/usr/local/lib/python3.8/dist-packages/netket/vqs/mc/mc_state/expect_grad.py:50\u001b[0m, in \u001b[0;36mexpect_and_grad\u001b[0;34m(vstate, Ô, use_covariance, mutable)\u001b[0m\n\u001b[1;32m     <a href='file:///usr/local/lib/python3.8/dist-packages/netket/vqs/mc/mc_state/expect_grad.py?line=41'>42</a>\u001b[0m \u001b[39m@dispatch\u001b[39m\n\u001b[1;32m     <a href='file:///usr/local/lib/python3.8/dist-packages/netket/vqs/mc/mc_state/expect_grad.py?line=42'>43</a>\u001b[0m \u001b[39mdef\u001b[39;00m \u001b[39mexpect_and_grad\u001b[39m(  \u001b[39m# noqa: F811\u001b[39;00m\n\u001b[1;32m     <a href='file:///usr/local/lib/python3.8/dist-packages/netket/vqs/mc/mc_state/expect_grad.py?line=43'>44</a>\u001b[0m     vstate: MCState,\n\u001b[0;32m   (...)\u001b[0m\n\u001b[1;32m     <a href='file:///usr/local/lib/python3.8/dist-packages/netket/vqs/mc/mc_state/expect_grad.py?line=47'>48</a>\u001b[0m     mutable: Any,\n\u001b[1;32m     <a href='file:///usr/local/lib/python3.8/dist-packages/netket/vqs/mc/mc_state/expect_grad.py?line=48'>49</a>\u001b[0m ) \u001b[39m-\u001b[39m\u001b[39m>\u001b[39m Tuple[Stats, PyTree]:\n\u001b[0;32m---> <a href='file:///usr/local/lib/python3.8/dist-packages/netket/vqs/mc/mc_state/expect_grad.py?line=49'>50</a>\u001b[0m     σ, args \u001b[39m=\u001b[39m get_local_kernel_arguments(vstate, Ô)\n\u001b[1;32m     <a href='file:///usr/local/lib/python3.8/dist-packages/netket/vqs/mc/mc_state/expect_grad.py?line=51'>52</a>\u001b[0m     local_estimator_fun \u001b[39m=\u001b[39m get_local_kernel(vstate, Ô)\n\u001b[1;32m     <a href='file:///usr/local/lib/python3.8/dist-packages/netket/vqs/mc/mc_state/expect_grad.py?line=53'>54</a>\u001b[0m     Ō, Ō_grad, new_model_state \u001b[39m=\u001b[39m grad_expect_hermitian(\n\u001b[1;32m     <a href='file:///usr/local/lib/python3.8/dist-packages/netket/vqs/mc/mc_state/expect_grad.py?line=54'>55</a>\u001b[0m         local_estimator_fun,\n\u001b[1;32m     <a href='file:///usr/local/lib/python3.8/dist-packages/netket/vqs/mc/mc_state/expect_grad.py?line=55'>56</a>\u001b[0m         vstate\u001b[39m.\u001b[39m_apply_fun,\n\u001b[0;32m   (...)\u001b[0m\n\u001b[1;32m     <a href='file:///usr/local/lib/python3.8/dist-packages/netket/vqs/mc/mc_state/expect_grad.py?line=60'>61</a>\u001b[0m         args,\n\u001b[1;32m     <a href='file:///usr/local/lib/python3.8/dist-packages/netket/vqs/mc/mc_state/expect_grad.py?line=61'>62</a>\u001b[0m     )\n",
      "File \u001b[0;32m/usr/local/lib/python3.8/dist-packages/plum/function.py:527\u001b[0m, in \u001b[0;36mplum.function.Function.__call__\u001b[0;34m()\u001b[0m\n",
      "File \u001b[0;32m/usr/local/lib/python3.8/dist-packages/netket/vqs/mc/mc_state/expect.py:61\u001b[0m, in \u001b[0;36mget_local_kernel_arguments\u001b[0;34m(vstate, Ô)\u001b[0m\n\u001b[1;32m     <a href='file:///usr/local/lib/python3.8/dist-packages/netket/vqs/mc/mc_state/expect.py?line=56'>57</a>\u001b[0m \u001b[39m@dispatch\u001b[39m\n\u001b[1;32m     <a href='file:///usr/local/lib/python3.8/dist-packages/netket/vqs/mc/mc_state/expect.py?line=57'>58</a>\u001b[0m \u001b[39mdef\u001b[39;00m \u001b[39mget_local_kernel_arguments\u001b[39m(vstate: MCState, Ô: DiscreteOperator):  \u001b[39m# noqa: F811\u001b[39;00m\n\u001b[1;32m     <a href='file:///usr/local/lib/python3.8/dist-packages/netket/vqs/mc/mc_state/expect.py?line=58'>59</a>\u001b[0m     check_hilbert(vstate\u001b[39m.\u001b[39mhilbert, Ô\u001b[39m.\u001b[39mhilbert)\n\u001b[0;32m---> <a href='file:///usr/local/lib/python3.8/dist-packages/netket/vqs/mc/mc_state/expect.py?line=60'>61</a>\u001b[0m     σ \u001b[39m=\u001b[39m vstate\u001b[39m.\u001b[39;49msamples\n\u001b[1;32m     <a href='file:///usr/local/lib/python3.8/dist-packages/netket/vqs/mc/mc_state/expect.py?line=61'>62</a>\u001b[0m     σp, mels \u001b[39m=\u001b[39m Ô\u001b[39m.\u001b[39mget_conn_padded(σ)\n\u001b[1;32m     <a href='file:///usr/local/lib/python3.8/dist-packages/netket/vqs/mc/mc_state/expect.py?line=62'>63</a>\u001b[0m     \u001b[39mreturn\u001b[39;00m σ, (σp, mels)\n",
      "File \u001b[0;32m/usr/local/lib/python3.8/dist-packages/netket/vqs/mc/mc_state/state.py:535\u001b[0m, in \u001b[0;36mMCState.samples\u001b[0;34m(self)\u001b[0m\n\u001b[1;32m    <a href='file:///usr/local/lib/python3.8/dist-packages/netket/vqs/mc/mc_state/state.py?line=524'>525</a>\u001b[0m \u001b[39m\"\"\"\u001b[39;00m\n\u001b[1;32m    <a href='file:///usr/local/lib/python3.8/dist-packages/netket/vqs/mc/mc_state/state.py?line=525'>526</a>\u001b[0m \u001b[39mReturns the set of cached samples.\u001b[39;00m\n\u001b[1;32m    <a href='file:///usr/local/lib/python3.8/dist-packages/netket/vqs/mc/mc_state/state.py?line=526'>527</a>\u001b[0m \n\u001b[0;32m   (...)\u001b[0m\n\u001b[1;32m    <a href='file:///usr/local/lib/python3.8/dist-packages/netket/vqs/mc/mc_state/state.py?line=531'>532</a>\u001b[0m \u001b[39mTo obtain a new set of samples either use :ref:`reset` or :ref:`sample`.\u001b[39;00m\n\u001b[1;32m    <a href='file:///usr/local/lib/python3.8/dist-packages/netket/vqs/mc/mc_state/state.py?line=532'>533</a>\u001b[0m \u001b[39m\"\"\"\u001b[39;00m\n\u001b[1;32m    <a href='file:///usr/local/lib/python3.8/dist-packages/netket/vqs/mc/mc_state/state.py?line=533'>534</a>\u001b[0m \u001b[39mif\u001b[39;00m \u001b[39mself\u001b[39m\u001b[39m.\u001b[39m_samples \u001b[39mis\u001b[39;00m \u001b[39mNone\u001b[39;00m:\n\u001b[0;32m--> <a href='file:///usr/local/lib/python3.8/dist-packages/netket/vqs/mc/mc_state/state.py?line=534'>535</a>\u001b[0m     \u001b[39mself\u001b[39;49m\u001b[39m.\u001b[39;49msample()\n\u001b[1;32m    <a href='file:///usr/local/lib/python3.8/dist-packages/netket/vqs/mc/mc_state/state.py?line=535'>536</a>\u001b[0m \u001b[39mreturn\u001b[39;00m \u001b[39mself\u001b[39m\u001b[39m.\u001b[39m_samples\n",
      "File \u001b[0;32m/usr/local/lib/python3.8/dist-packages/netket/vqs/mc/mc_state/state.py:508\u001b[0m, in \u001b[0;36mMCState.sample\u001b[0;34m(self, chain_length, n_samples, n_discard_per_chain)\u001b[0m\n\u001b[1;32m    <a href='file:///usr/local/lib/python3.8/dist-packages/netket/vqs/mc/mc_state/state.py?line=502'>503</a>\u001b[0m \u001b[39mself\u001b[39m\u001b[39m.\u001b[39msampler_state \u001b[39m=\u001b[39m \u001b[39mself\u001b[39m\u001b[39m.\u001b[39msampler\u001b[39m.\u001b[39mreset(\n\u001b[1;32m    <a href='file:///usr/local/lib/python3.8/dist-packages/netket/vqs/mc/mc_state/state.py?line=503'>504</a>\u001b[0m     \u001b[39mself\u001b[39m\u001b[39m.\u001b[39mmodel, \u001b[39mself\u001b[39m\u001b[39m.\u001b[39mvariables, \u001b[39mself\u001b[39m\u001b[39m.\u001b[39msampler_state\n\u001b[1;32m    <a href='file:///usr/local/lib/python3.8/dist-packages/netket/vqs/mc/mc_state/state.py?line=504'>505</a>\u001b[0m )\n\u001b[1;32m    <a href='file:///usr/local/lib/python3.8/dist-packages/netket/vqs/mc/mc_state/state.py?line=506'>507</a>\u001b[0m \u001b[39mif\u001b[39;00m \u001b[39mself\u001b[39m\u001b[39m.\u001b[39mn_discard_per_chain \u001b[39m>\u001b[39m \u001b[39m0\u001b[39m:\n\u001b[0;32m--> <a href='file:///usr/local/lib/python3.8/dist-packages/netket/vqs/mc/mc_state/state.py?line=507'>508</a>\u001b[0m     _, \u001b[39mself\u001b[39m\u001b[39m.\u001b[39msampler_state \u001b[39m=\u001b[39m \u001b[39mself\u001b[39;49m\u001b[39m.\u001b[39;49msampler\u001b[39m.\u001b[39;49msample(\n\u001b[1;32m    <a href='file:///usr/local/lib/python3.8/dist-packages/netket/vqs/mc/mc_state/state.py?line=508'>509</a>\u001b[0m         \u001b[39mself\u001b[39;49m\u001b[39m.\u001b[39;49mmodel,\n\u001b[1;32m    <a href='file:///usr/local/lib/python3.8/dist-packages/netket/vqs/mc/mc_state/state.py?line=509'>510</a>\u001b[0m         \u001b[39mself\u001b[39;49m\u001b[39m.\u001b[39;49mvariables,\n\u001b[1;32m    <a href='file:///usr/local/lib/python3.8/dist-packages/netket/vqs/mc/mc_state/state.py?line=510'>511</a>\u001b[0m         state\u001b[39m=\u001b[39;49m\u001b[39mself\u001b[39;49m\u001b[39m.\u001b[39;49msampler_state,\n\u001b[1;32m    <a href='file:///usr/local/lib/python3.8/dist-packages/netket/vqs/mc/mc_state/state.py?line=511'>512</a>\u001b[0m         chain_length\u001b[39m=\u001b[39;49mn_discard_per_chain,\n\u001b[1;32m    <a href='file:///usr/local/lib/python3.8/dist-packages/netket/vqs/mc/mc_state/state.py?line=512'>513</a>\u001b[0m     )\n\u001b[1;32m    <a href='file:///usr/local/lib/python3.8/dist-packages/netket/vqs/mc/mc_state/state.py?line=514'>515</a>\u001b[0m \u001b[39mself\u001b[39m\u001b[39m.\u001b[39m_samples, \u001b[39mself\u001b[39m\u001b[39m.\u001b[39msampler_state \u001b[39m=\u001b[39m \u001b[39mself\u001b[39m\u001b[39m.\u001b[39msampler\u001b[39m.\u001b[39msample(\n\u001b[1;32m    <a href='file:///usr/local/lib/python3.8/dist-packages/netket/vqs/mc/mc_state/state.py?line=515'>516</a>\u001b[0m     \u001b[39mself\u001b[39m\u001b[39m.\u001b[39mmodel,\n\u001b[1;32m    <a href='file:///usr/local/lib/python3.8/dist-packages/netket/vqs/mc/mc_state/state.py?line=516'>517</a>\u001b[0m     \u001b[39mself\u001b[39m\u001b[39m.\u001b[39mvariables,\n\u001b[1;32m    <a href='file:///usr/local/lib/python3.8/dist-packages/netket/vqs/mc/mc_state/state.py?line=517'>518</a>\u001b[0m     state\u001b[39m=\u001b[39m\u001b[39mself\u001b[39m\u001b[39m.\u001b[39msampler_state,\n\u001b[1;32m    <a href='file:///usr/local/lib/python3.8/dist-packages/netket/vqs/mc/mc_state/state.py?line=518'>519</a>\u001b[0m     chain_length\u001b[39m=\u001b[39mchain_length,\n\u001b[1;32m    <a href='file:///usr/local/lib/python3.8/dist-packages/netket/vqs/mc/mc_state/state.py?line=519'>520</a>\u001b[0m )\n\u001b[1;32m    <a href='file:///usr/local/lib/python3.8/dist-packages/netket/vqs/mc/mc_state/state.py?line=520'>521</a>\u001b[0m \u001b[39mreturn\u001b[39;00m \u001b[39mself\u001b[39m\u001b[39m.\u001b[39m_samples\n",
      "File \u001b[0;32m/usr/local/lib/python3.8/dist-packages/netket/sampler/base.py:263\u001b[0m, in \u001b[0;36mSampler.sample\u001b[0;34m(sampler, machine, parameters, state, chain_length)\u001b[0m\n\u001b[1;32m    <a href='file:///usr/local/lib/python3.8/dist-packages/netket/sampler/base.py?line=259'>260</a>\u001b[0m \u001b[39mif\u001b[39;00m state \u001b[39mis\u001b[39;00m \u001b[39mNone\u001b[39;00m:\n\u001b[1;32m    <a href='file:///usr/local/lib/python3.8/dist-packages/netket/sampler/base.py?line=260'>261</a>\u001b[0m     state \u001b[39m=\u001b[39m sampler\u001b[39m.\u001b[39mreset(machine, parameters)\n\u001b[0;32m--> <a href='file:///usr/local/lib/python3.8/dist-packages/netket/sampler/base.py?line=262'>263</a>\u001b[0m \u001b[39mreturn\u001b[39;00m sampler\u001b[39m.\u001b[39;49m_sample_chain(\n\u001b[1;32m    <a href='file:///usr/local/lib/python3.8/dist-packages/netket/sampler/base.py?line=263'>264</a>\u001b[0m     wrap_afun(machine), parameters, state, chain_length\n\u001b[1;32m    <a href='file:///usr/local/lib/python3.8/dist-packages/netket/sampler/base.py?line=264'>265</a>\u001b[0m )\n",
      "File \u001b[0;32m/usr/local/lib/python3.8/dist-packages/netket/sampler/metropolis.py:393\u001b[0m, in \u001b[0;36mMetropolisSampler._sample_chain\u001b[0;34m(sampler, machine, parameters, state, chain_length)\u001b[0m\n\u001b[1;32m    <a href='file:///usr/local/lib/python3.8/dist-packages/netket/sampler/metropolis.py?line=391'>392</a>\u001b[0m \u001b[39mdef\u001b[39;00m \u001b[39m_sample_chain\u001b[39m(sampler, machine, parameters, state, chain_length):\n\u001b[0;32m--> <a href='file:///usr/local/lib/python3.8/dist-packages/netket/sampler/metropolis.py?line=392'>393</a>\u001b[0m     \u001b[39mreturn\u001b[39;00m _sample_chain(sampler, machine, parameters, state, chain_length)\n",
      "File \u001b[0;32m/usr/local/lib/python3.8/dist-packages/netket/utils/struct/dataclass.py:448\u001b[0m, in \u001b[0;36mdataclass.<locals>.clz_from_iterable\u001b[0;34m(meta, data)\u001b[0m\n\u001b[1;32m    <a href='file:///usr/local/lib/python3.8/dist-packages/netket/utils/struct/dataclass.py?line=444'>445</a>\u001b[0m     data \u001b[39m=\u001b[39m \u001b[39mtuple\u001b[39m(\u001b[39mgetattr\u001b[39m(x, name) \u001b[39mfor\u001b[39;00m name \u001b[39min\u001b[39;00m data_fields)\n\u001b[1;32m    <a href='file:///usr/local/lib/python3.8/dist-packages/netket/utils/struct/dataclass.py?line=445'>446</a>\u001b[0m     \u001b[39mreturn\u001b[39;00m data, meta\n\u001b[0;32m--> <a href='file:///usr/local/lib/python3.8/dist-packages/netket/utils/struct/dataclass.py?line=447'>448</a>\u001b[0m \u001b[39mdef\u001b[39;00m \u001b[39mclz_from_iterable\u001b[39m(meta, data):\n\u001b[1;32m    <a href='file:///usr/local/lib/python3.8/dist-packages/netket/utils/struct/dataclass.py?line=448'>449</a>\u001b[0m     meta_args \u001b[39m=\u001b[39m \u001b[39mtuple\u001b[39m(\u001b[39mzip\u001b[39m(meta_fields, meta))\n\u001b[1;32m    <a href='file:///usr/local/lib/python3.8/dist-packages/netket/utils/struct/dataclass.py?line=449'>450</a>\u001b[0m     data_args \u001b[39m=\u001b[39m \u001b[39mtuple\u001b[39m(\u001b[39mzip\u001b[39m(data_fields, data))\n",
      "\u001b[0;31mKeyboardInterrupt\u001b[0m: "
     ]
    }
   ],
   "source": [
    "optimizer = nk.optimizer.Sgd(learning_rate=0.01)\n",
    "\n",
    "# Notice the use, again of Stochastic Reconfiguration, which considerably improves the optimisation\n",
    "gs = nk.driver.VMC(H, optimizer, variational_state=vstate,preconditioner=nk.optimizer.SR(diag_shift=0.01))\n",
    "\n",
    "log=nk.logging.RuntimeLog()\n",
    "gs.run(n_iter=1000,out=log)\n",
    "\n",
    "ffn_energy=vstate.expect(H)\n",
    "#error=abs((ffn_energy.mean-eig_vals[0])/eig_vals[0])\n",
    "print(\"Optimized energy and relative error: \",ffn_energy)"
   ]
  },
  {
   "cell_type": "code",
   "execution_count": null,
   "metadata": {},
   "outputs": [
    {
     "data": {
      "text/plain": [
       "Text(0, 0.5, 'Energy')"
      ]
     },
     "execution_count": 41,
     "metadata": {},
     "output_type": "execute_result"
    },
    {
     "data": {
      "image/png": "[encoded data removed]",
      "text/plain": [
       "<Figure size 432x288 with 1 Axes>"
      ]
     },
     "metadata": {
      "needs_background": "light"
     },
     "output_type": "display_data"
    }
   ],
   "source": [
    "from matplotlib import pyplot as plt\n",
    "\n",
    "data_FFN = log.data\n",
    "\n",
    "plt.errorbar(data_FFN[\"Energy\"].iters, data_FFN[\"Energy\"].Mean, yerr=data_FFN[\"Energy\"].Sigma, label=\"FFN\")\n",
    "#plt.hlines([E_gs], xmin=0, xmax=100, color='black', label=\"Exact\")\n",
    "from jupyterthemes import jtplot\n",
    "#jtplot.style(theme='onedork') #选择一个绘图主题\n",
    "\n",
    "plt.legend()\n",
    "plt.style.use('seaborn-darkgrid') # 设置画图的风格 \n",
    "plt.title(\"10 x 10\")\n",
    "plt.xlabel('Iterations')\n",
    "plt.ylabel('Energy')"
   ]
  }
 ],
 "metadata": {
  "interpreter": {
   "hash": "916dbcbb3f70747c44a77c7bcd40155683ae19c65e1c03b4aa3499c5328201f1"
  },
  "kernelspec": {
   "display_name": "Python 3.8.10 64-bit",
   "language": "python",
   "name": "python3"
  },
  "language_info": {
   "codemirror_mode": {
    "name": "ipython",
    "version": 3
   },
   "file_extension": ".py",
   "mimetype": "text/x-python",
   "name": "python",
   "nbconvert_exporter": "python",
   "pygments_lexer": "ipython3",
   "version": "3.8.10"
  },
  "orig_nbformat": 4
 },
 "nbformat": 4,
 "nbformat_minor": 2
}

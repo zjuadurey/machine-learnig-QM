{
 "cells": [
  {
   "cell_type": "code",
   "execution_count": 57,
   "metadata": {},
   "outputs": [],
   "source": [
    "import netket as nk\n",
    "import numpy as np"
   ]
  },
  {
   "cell_type": "code",
   "execution_count": 58,
   "metadata": {},
   "outputs": [],
   "source": [
    "#晶格相互作用对定义\n",
    "size = (2,2)\n",
    "row_num, col_num = size\n",
    "n_lattice = row_num * col_num\n",
    "num = [ i for i in range(row_num * col_num)]\n",
    "\n",
    "begin = [ i * col_num for i in range(row_num)]\n",
    "end = [(i + 1) * col_num - 1 for i in range(row_num)]"
   ]
  },
  {
   "cell_type": "code",
   "execution_count": 59,
   "metadata": {},
   "outputs": [],
   "source": [
    "edgesx = []\n",
    "edgesy = []\n",
    "edgesz = []"
   ]
  },
  {
   "cell_type": "code",
   "execution_count": 60,
   "metadata": {},
   "outputs": [
    {
     "data": {
      "text/plain": [
       "range(0, 4)"
      ]
     },
     "execution_count": 60,
     "metadata": {},
     "output_type": "execute_result"
    }
   ],
   "source": [
    "for i in num:\n",
    "    if i in begin:\n",
    "        edgesx.append([i, i + col_num - 1])\n",
    "    else:\n",
    "        edgesx.append([i, i - 1])\n",
    "\n",
    "for i in num:\n",
    "    if i in num [ :col_num]:\n",
    "        edgesy.append([i, num[- (col_num - i)]])\n",
    "    else:\n",
    "        edgesy.append([i, i - col_num])\n",
    "\n",
    "for i in num:\n",
    "    if i in num [-col_num:-1]:\n",
    "        edgesz.append([i, num[- (col_num*3 - i)]+1])\n",
    "    elif i in end:\n",
    "        if i==n_lattice-1:\n",
    "            edgesz.append([0, i])\n",
    "        else:\n",
    "            edgesz.append([i, i + 1])     \n",
    "    else:\n",
    "        edgesz.append([i, i + col_num + 1])\n",
    "\n",
    "edges = edgesx + edgesz + edgesy\n",
    "graph = nk.graph.Graph(edges)\n",
    "graph.nodes()"
   ]
  },
  {
   "cell_type": "markdown",
   "metadata": {},
   "source": [
    "hilbert space"
   ]
  },
  {
   "cell_type": "code",
   "execution_count": 61,
   "metadata": {},
   "outputs": [],
   "source": [
    "#希尔伯特空间\n",
    "hi = nk.hilbert.Spin(s = 0.5, N = graph.n_nodes)"
   ]
  },
  {
   "cell_type": "markdown",
   "metadata": {},
   "source": [
    "哈密顿量"
   ]
  },
  {
   "cell_type": "code",
   "execution_count": 62,
   "metadata": {},
   "outputs": [],
   "source": [
    "#pauli matrix\n",
    "sx = [[0, 1], [1, 0]]\n",
    "sy = [[0, -1j], [1j, 0]]\n",
    "sz = [[1, 0], [0, -1]]\n",
    "#parameter\n",
    "h=1\n",
    "J=1\n",
    "#g = J / h\n",
    "H = nk.operator.LocalOperator(hi)\n",
    "for i in edges:\n",
    "    H += -J*nk.operator.LocalOperator(hi, np.kron(sz, sz), i)\n",
    "sxx = -h* nk.operator.LocalOperator(hi, [sx] * n_lattice, [[i] for i in range(n_lattice)])\n",
    "H += sxx #This term is magnetization, which can be regarded as an operator Mx(g)\n"
   ]
  },
  {
   "cell_type": "code",
   "execution_count": 63,
   "metadata": {},
   "outputs": [
    {
     "data": {
      "text/plain": [
       "LocalOperator(dim=4, #acting_on=10 locations, constant=0, dtype=float64)"
      ]
     },
     "execution_count": 63,
     "metadata": {},
     "output_type": "execute_result"
    }
   ],
   "source": [
    "H"
   ]
  },
  {
   "cell_type": "code",
   "execution_count": 64,
   "metadata": {},
   "outputs": [],
   "source": [
    "#精确对角化（5x5时会崩溃）\n",
    "#sp_h=H.to_sparse()\n",
    "#sp_h.shape\n",
    "\n",
    "# the k-th lowest eigenvalues\n",
    "from scipy.sparse.linalg import eigsh\n",
    "\n",
    "#eig_vals, eig_vecs = eigsh(sp_h, k=2, which=\"SA\")\n",
    "\n",
    "#print(\"eigenvalues with scipy sparse:\", eig_vals)\n",
    "\n",
    "#E_gs = eig_vals[0]"
   ]
  },
  {
   "cell_type": "code",
   "execution_count": 65,
   "metadata": {},
   "outputs": [],
   "source": [
    "import jax.numpy as jnp\n",
    "\n",
    "# Flax is a framework to define models using jax\n",
    "import flax\n",
    "# we refer to `flax.linen` as `nn`. It's a repository of \n",
    "# layers, initializers and nonlinear functions.\n",
    "import flax.linen as nn\n",
    "\n",
    "import jax\n",
    "\n",
    "from flax.training import train_state  # Useful dataclass to keep train state\n",
    "\n",
    "import numpy as np                     # Ordinary NumPy\n",
    "import optax  "
   ]
  },
  {
   "cell_type": "code",
   "execution_count": 66,
   "metadata": {},
   "outputs": [],
   "source": [
    "#神经网络量子态\n",
    "class FFN(nn.Module):\n",
    "    \n",
    "    # You can define attributes at the module-level\n",
    "    # with a default. This allows you to easily change\n",
    "    # some hyper-parameter without redefining the whole \n",
    "    # flax module.\n",
    "    alpha : int = 1\n",
    "            \n",
    "    @nn.compact\n",
    "    def __call__(self, x):\n",
    "\n",
    "        # here we construct the first dense layer using a\n",
    "        # pre-built implementation in flax.\n",
    "        # features is the number of output nodes\n",
    "        # WARNING: Won't work with complex hamiltonians because\n",
    "        # of a bug in flax. Use nk.nn.Dense otherwise. \n",
    "        dense = nn.Dense(features=self.alpha * x.shape[-1])\n",
    "        \n",
    "        # we apply the dense layer to the input\n",
    "        y = dense(x)\n",
    "\n",
    "        # the non-linearity is a simple ReLu\n",
    "        y = nn.relu(y)\n",
    "                \n",
    "        # sum the output\n",
    "        return jnp.sum(y, axis=-1)\n",
    "    \n",
    "\n",
    "\n"
   ]
  },
  {
   "cell_type": "code",
   "execution_count": 67,
   "metadata": {},
   "outputs": [],
   "source": [
    "\n"
   ]
  },
  {
   "cell_type": "code",
   "execution_count": 68,
   "metadata": {},
   "outputs": [],
   "source": [
    "class FFN(nn.Module):\n",
    "    \n",
    "    # You can define attributes at the module-level\n",
    "    # with a default. This allows you to easily change\n",
    "    # some hyper-parameter without redefining the whole \n",
    "    # flax module.\n",
    "    alpha : int = 1\n",
    "            \n",
    "    @nn.compact\n",
    "    def __call__(self, x):\n",
    "\n",
    "        # here we construct the first dense layer using a\n",
    "        # pre-built implementation in flax.\n",
    "        # features is the number of output nodes\n",
    "        # WARNING: Won't work with complex hamiltonians because\n",
    "        # of a bug in flax. Use nk.nn.Dense otherwise. \n",
    "        dense = nn.Dense(features=self.alpha * x.shape[-1])\n",
    "        \n",
    "        # we apply the dense layer to the input\n",
    "        y = dense(x)\n",
    "\n",
    "        # the non-linearity is a simple ReLu\n",
    "        y = nn.relu(y)\n",
    "                \n",
    "        # sum the output\n",
    "        return jnp.sum(y, axis=-1)\n",
    "\n",
    "\n",
    "\n",
    "\n",
    "\n",
    "model = FFN"
   ]
  },
  {
   "cell_type": "code",
   "execution_count": 69,
   "metadata": {},
   "outputs": [
    {
     "ename": "AttributeError",
     "evalue": "'dict' object has no attribute 'init_with_output'",
     "output_type": "error",
     "traceback": [
      "\u001b[0;31m---------------------------------------------------------------------------\u001b[0m",
      "\u001b[0;31mAttributeError\u001b[0m                            Traceback (most recent call last)",
      "\u001b[1;32m/usr/local/machine-learning-QM/test_cnn.ipynb Cell 16'\u001b[0m in \u001b[0;36m<cell line: 1>\u001b[0;34m()\u001b[0m\n\u001b[0;32m----> <a href='vscode-notebook-cell://wsl%2Bubuntu-20.04/usr/local/machine-learning-QM/test_cnn.ipynb#ch0000015vscode-remote?line=0'>1</a>\u001b[0m vstate \u001b[39m=\u001b[39m nk\u001b[39m.\u001b[39;49mvqs\u001b[39m.\u001b[39;49mMCState(sampler, model, n_samples\u001b[39m=\u001b[39;49m\u001b[39m1008\u001b[39;49m)\n",
      "File \u001b[0;32m/usr/local/lib/python3.8/dist-packages/netket/vqs/mc/mc_state/state.py:248\u001b[0m, in \u001b[0;36mMCState.__init__\u001b[0;34m(self, sampler, model, n_samples, n_samples_per_rank, n_discard, n_discard_per_chain, chunk_size, variables, init_fun, apply_fun, sample_fun, seed, sampler_seed, mutable, training_kwargs)\u001b[0m\n\u001b[1;32m    <a href='file:///usr/local/lib/python3.8/dist-packages/netket/vqs/mc/mc_state/state.py?line=245'>246</a>\u001b[0m     \u001b[39mself\u001b[39m\u001b[39m.\u001b[39mvariables \u001b[39m=\u001b[39m variables\n\u001b[1;32m    <a href='file:///usr/local/lib/python3.8/dist-packages/netket/vqs/mc/mc_state/state.py?line=246'>247</a>\u001b[0m \u001b[39melse\u001b[39;00m:\n\u001b[0;32m--> <a href='file:///usr/local/lib/python3.8/dist-packages/netket/vqs/mc/mc_state/state.py?line=247'>248</a>\u001b[0m     \u001b[39mself\u001b[39;49m\u001b[39m.\u001b[39;49minit(seed, dtype\u001b[39m=\u001b[39;49msampler\u001b[39m.\u001b[39;49mdtype)\n\u001b[1;32m    <a href='file:///usr/local/lib/python3.8/dist-packages/netket/vqs/mc/mc_state/state.py?line=249'>250</a>\u001b[0m \u001b[39mif\u001b[39;00m sampler_seed \u001b[39mis\u001b[39;00m \u001b[39mNone\u001b[39;00m \u001b[39mand\u001b[39;00m seed \u001b[39mis\u001b[39;00m \u001b[39mnot\u001b[39;00m \u001b[39mNone\u001b[39;00m:\n\u001b[1;32m    <a href='file:///usr/local/lib/python3.8/dist-packages/netket/vqs/mc/mc_state/state.py?line=250'>251</a>\u001b[0m     key, key2 \u001b[39m=\u001b[39m jax\u001b[39m.\u001b[39mrandom\u001b[39m.\u001b[39msplit(nkjax\u001b[39m.\u001b[39mPRNGKey(seed), \u001b[39m2\u001b[39m)\n",
      "File \u001b[0;32m/usr/local/lib/python3.8/dist-packages/netket/vqs/mc/mc_state/state.py:283\u001b[0m, in \u001b[0;36mMCState.init\u001b[0;34m(self, seed, dtype)\u001b[0m\n\u001b[1;32m    <a href='file:///usr/local/lib/python3.8/dist-packages/netket/vqs/mc/mc_state/state.py?line=278'>279</a>\u001b[0m key \u001b[39m=\u001b[39m nkjax\u001b[39m.\u001b[39mPRNGKey(seed)\n\u001b[1;32m    <a href='file:///usr/local/lib/python3.8/dist-packages/netket/vqs/mc/mc_state/state.py?line=280'>281</a>\u001b[0m dummy_input \u001b[39m=\u001b[39m jnp\u001b[39m.\u001b[39mzeros((\u001b[39m1\u001b[39m, \u001b[39mself\u001b[39m\u001b[39m.\u001b[39mhilbert\u001b[39m.\u001b[39msize), dtype\u001b[39m=\u001b[39mdtype)\n\u001b[0;32m--> <a href='file:///usr/local/lib/python3.8/dist-packages/netket/vqs/mc/mc_state/state.py?line=282'>283</a>\u001b[0m variables \u001b[39m=\u001b[39m jit_evaluate(\u001b[39mself\u001b[39;49m\u001b[39m.\u001b[39;49m_init_fun, {\u001b[39m\"\u001b[39;49m\u001b[39mparams\u001b[39;49m\u001b[39m\"\u001b[39;49m: key}, dummy_input)\n\u001b[1;32m    <a href='file:///usr/local/lib/python3.8/dist-packages/netket/vqs/mc/mc_state/state.py?line=283'>284</a>\u001b[0m \u001b[39mself\u001b[39m\u001b[39m.\u001b[39mvariables \u001b[39m=\u001b[39m variables\n",
      "    \u001b[0;31m[... skipping hidden 14 frame]\u001b[0m\n",
      "File \u001b[0;32m/usr/local/lib/python3.8/dist-packages/netket/vqs/mc/mc_state/state.py:93\u001b[0m, in \u001b[0;36mjit_evaluate\u001b[0;34m(fun, *args)\u001b[0m\n\u001b[1;32m     <a href='file:///usr/local/lib/python3.8/dist-packages/netket/vqs/mc/mc_state/state.py?line=83'>84</a>\u001b[0m \u001b[39m@partial\u001b[39m(jax\u001b[39m.\u001b[39mjit, static_argnums\u001b[39m=\u001b[39m\u001b[39m0\u001b[39m)\n\u001b[1;32m     <a href='file:///usr/local/lib/python3.8/dist-packages/netket/vqs/mc/mc_state/state.py?line=84'>85</a>\u001b[0m \u001b[39mdef\u001b[39;00m \u001b[39mjit_evaluate\u001b[39m(fun: Callable, \u001b[39m*\u001b[39margs):\n\u001b[1;32m     <a href='file:///usr/local/lib/python3.8/dist-packages/netket/vqs/mc/mc_state/state.py?line=85'>86</a>\u001b[0m     \u001b[39m\"\"\"\u001b[39;00m\n\u001b[1;32m     <a href='file:///usr/local/lib/python3.8/dist-packages/netket/vqs/mc/mc_state/state.py?line=86'>87</a>\u001b[0m \u001b[39m    call `fun(*args)` inside of a `jax.jit` frame.\u001b[39;00m\n\u001b[1;32m     <a href='file:///usr/local/lib/python3.8/dist-packages/netket/vqs/mc/mc_state/state.py?line=87'>88</a>\u001b[0m \n\u001b[0;32m   (...)\u001b[0m\n\u001b[1;32m     <a href='file:///usr/local/lib/python3.8/dist-packages/netket/vqs/mc/mc_state/state.py?line=90'>91</a>\u001b[0m \u001b[39m        args: the arguments to the function.\u001b[39;00m\n\u001b[1;32m     <a href='file:///usr/local/lib/python3.8/dist-packages/netket/vqs/mc/mc_state/state.py?line=91'>92</a>\u001b[0m \u001b[39m    \"\"\"\u001b[39;00m\n\u001b[0;32m---> <a href='file:///usr/local/lib/python3.8/dist-packages/netket/vqs/mc/mc_state/state.py?line=92'>93</a>\u001b[0m     \u001b[39mreturn\u001b[39;00m fun(\u001b[39m*\u001b[39;49margs)\n",
      "File \u001b[0;32m/usr/local/lib/python3.8/dist-packages/netket/vqs/mc/mc_state/state.py:187\u001b[0m, in \u001b[0;36mMCState.__init__.<locals>.<lambda>\u001b[0;34m(model, *args, **kwargs)\u001b[0m\n\u001b[1;32m    <a href='file:///usr/local/lib/python3.8/dist-packages/netket/vqs/mc/mc_state/state.py?line=181'>182</a>\u001b[0m     _, model \u001b[39m=\u001b[39m maybe_wrap_module(model)\n\u001b[1;32m    <a href='file:///usr/local/lib/python3.8/dist-packages/netket/vqs/mc/mc_state/state.py?line=183'>184</a>\u001b[0m     \u001b[39mself\u001b[39m\u001b[39m.\u001b[39m_model \u001b[39m=\u001b[39m model\n\u001b[1;32m    <a href='file:///usr/local/lib/python3.8/dist-packages/netket/vqs/mc/mc_state/state.py?line=185'>186</a>\u001b[0m     \u001b[39mself\u001b[39m\u001b[39m.\u001b[39m_init_fun \u001b[39m=\u001b[39m nkjax\u001b[39m.\u001b[39mHashablePartial(\n\u001b[0;32m--> <a href='file:///usr/local/lib/python3.8/dist-packages/netket/vqs/mc/mc_state/state.py?line=186'>187</a>\u001b[0m         \u001b[39mlambda\u001b[39;00m model, \u001b[39m*\u001b[39margs, \u001b[39m*\u001b[39m\u001b[39m*\u001b[39mkwargs: model\u001b[39m.\u001b[39;49minit(\u001b[39m*\u001b[39;49margs, \u001b[39m*\u001b[39;49m\u001b[39m*\u001b[39;49mkwargs), model\n\u001b[1;32m    <a href='file:///usr/local/lib/python3.8/dist-packages/netket/vqs/mc/mc_state/state.py?line=187'>188</a>\u001b[0m     )\n\u001b[1;32m    <a href='file:///usr/local/lib/python3.8/dist-packages/netket/vqs/mc/mc_state/state.py?line=188'>189</a>\u001b[0m     \u001b[39mself\u001b[39m\u001b[39m.\u001b[39m_apply_fun \u001b[39m=\u001b[39m wrap_to_support_scalar(\n\u001b[1;32m    <a href='file:///usr/local/lib/python3.8/dist-packages/netket/vqs/mc/mc_state/state.py?line=189'>190</a>\u001b[0m         nkjax\u001b[39m.\u001b[39mHashablePartial(\n\u001b[1;32m    <a href='file:///usr/local/lib/python3.8/dist-packages/netket/vqs/mc/mc_state/state.py?line=190'>191</a>\u001b[0m             \u001b[39mlambda\u001b[39;00m model, pars, x, \u001b[39m*\u001b[39m\u001b[39m*\u001b[39mkwargs: model\u001b[39m.\u001b[39mapply(pars, x, \u001b[39m*\u001b[39m\u001b[39m*\u001b[39mkwargs),\n\u001b[1;32m    <a href='file:///usr/local/lib/python3.8/dist-packages/netket/vqs/mc/mc_state/state.py?line=191'>192</a>\u001b[0m             model,\n\u001b[1;32m    <a href='file:///usr/local/lib/python3.8/dist-packages/netket/vqs/mc/mc_state/state.py?line=192'>193</a>\u001b[0m         )\n\u001b[1;32m    <a href='file:///usr/local/lib/python3.8/dist-packages/netket/vqs/mc/mc_state/state.py?line=193'>194</a>\u001b[0m     )\n\u001b[1;32m    <a href='file:///usr/local/lib/python3.8/dist-packages/netket/vqs/mc/mc_state/state.py?line=195'>196</a>\u001b[0m \u001b[39melif\u001b[39;00m apply_fun \u001b[39mis\u001b[39;00m \u001b[39mnot\u001b[39;00m \u001b[39mNone\u001b[39;00m:\n",
      "    \u001b[0;31m[... skipping hidden 1 frame]\u001b[0m\n",
      "File \u001b[0;32m/usr/local/lib/python3.8/dist-packages/flax/linen/module.py:1171\u001b[0m, in \u001b[0;36mModule.init\u001b[0;34m(self, rngs, method, mutable, *args, **kwargs)\u001b[0m\n\u001b[1;32m   <a href='file:///usr/local/lib/python3.8/dist-packages/flax/linen/module.py?line=1142'>1143</a>\u001b[0m \u001b[39m@traceback_util\u001b[39m\u001b[39m.\u001b[39mapi_boundary\n\u001b[1;32m   <a href='file:///usr/local/lib/python3.8/dist-packages/flax/linen/module.py?line=1143'>1144</a>\u001b[0m \u001b[39mdef\u001b[39;00m \u001b[39minit\u001b[39m(\u001b[39mself\u001b[39m,\n\u001b[1;32m   <a href='file:///usr/local/lib/python3.8/dist-packages/flax/linen/module.py?line=1144'>1145</a>\u001b[0m          rngs: Union[PRNGKey, RNGSequences],\n\u001b[0;32m   (...)\u001b[0m\n\u001b[1;32m   <a href='file:///usr/local/lib/python3.8/dist-packages/flax/linen/module.py?line=1147'>1148</a>\u001b[0m          mutable: CollectionFilter \u001b[39m=\u001b[39m DenyList(\u001b[39m\"\u001b[39m\u001b[39mintermediates\u001b[39m\u001b[39m\"\u001b[39m),\n\u001b[1;32m   <a href='file:///usr/local/lib/python3.8/dist-packages/flax/linen/module.py?line=1148'>1149</a>\u001b[0m          \u001b[39m*\u001b[39m\u001b[39m*\u001b[39mkwargs) \u001b[39m-\u001b[39m\u001b[39m>\u001b[39m FrozenVariableDict:\n\u001b[1;32m   <a href='file:///usr/local/lib/python3.8/dist-packages/flax/linen/module.py?line=1149'>1150</a>\u001b[0m   \u001b[39m\"\"\"Initializes a module method with variables and returns modified variables.\u001b[39;00m\n\u001b[1;32m   <a href='file:///usr/local/lib/python3.8/dist-packages/flax/linen/module.py?line=1150'>1151</a>\u001b[0m \n\u001b[1;32m   <a href='file:///usr/local/lib/python3.8/dist-packages/flax/linen/module.py?line=1151'>1152</a>\u001b[0m \u001b[39m  Jitting `init` initializes a model lazily using only the shapes of the\u001b[39;00m\n\u001b[0;32m   (...)\u001b[0m\n\u001b[1;32m   <a href='file:///usr/local/lib/python3.8/dist-packages/flax/linen/module.py?line=1168'>1169</a>\u001b[0m \u001b[39m    The initialized variable dict.\u001b[39;00m\n\u001b[1;32m   <a href='file:///usr/local/lib/python3.8/dist-packages/flax/linen/module.py?line=1169'>1170</a>\u001b[0m \u001b[39m  \"\"\"\u001b[39;00m\n\u001b[0;32m-> <a href='file:///usr/local/lib/python3.8/dist-packages/flax/linen/module.py?line=1170'>1171</a>\u001b[0m   _, v_out \u001b[39m=\u001b[39m \u001b[39mself\u001b[39;49m\u001b[39m.\u001b[39;49minit_with_output(\n\u001b[1;32m   <a href='file:///usr/local/lib/python3.8/dist-packages/flax/linen/module.py?line=1171'>1172</a>\u001b[0m       rngs, \u001b[39m*\u001b[39margs,\n\u001b[1;32m   <a href='file:///usr/local/lib/python3.8/dist-packages/flax/linen/module.py?line=1172'>1173</a>\u001b[0m       method\u001b[39m=\u001b[39mmethod, mutable\u001b[39m=\u001b[39mmutable, \u001b[39m*\u001b[39m\u001b[39m*\u001b[39mkwargs)\n\u001b[1;32m   <a href='file:///usr/local/lib/python3.8/dist-packages/flax/linen/module.py?line=1173'>1174</a>\u001b[0m   \u001b[39mreturn\u001b[39;00m v_out\n",
      "\u001b[0;31mAttributeError\u001b[0m: 'dict' object has no attribute 'init_with_output'"
     ]
    }
   ],
   "source": [
    "vstate = nk.vqs.MCState(sampler, model, n_samples=1008)"
   ]
  },
  {
   "cell_type": "code",
   "execution_count": null,
   "metadata": {},
   "outputs": [
    {
     "name": "stderr",
     "output_type": "stream",
     "text": [
      "100%|██████████| 1000/1000 [04:55<00:00,  3.38it/s, Energy=-308.363 ± 0.014 [σ²=0.210, R̂=0.9999]]  \n"
     ]
    },
    {
     "name": "stdout",
     "output_type": "stream",
     "text": [
      "Optimized energy and relative error:  -308.406 ± 0.018 [σ²=0.343, R̂=1.0017]\n"
     ]
    }
   ],
   "source": [
    "optimizer = nk.optimizer.Sgd(learning_rate=0.01)\n",
    "\n",
    "# Notice the use, again of Stochastic Reconfiguration, which considerably improves the optimisation\n",
    "gs = nk.driver.VMC(H, optimizer, variational_state=vstate,preconditioner=nk.optimizer.SR(diag_shift=0.01))\n",
    "\n",
    "log=nk.logging.RuntimeLog()\n",
    "gs.run(n_iter=1000,out=log)\n",
    "\n",
    "ffn_energy=vstate.expect(H)\n",
    "#error=abs((ffn_energy.mean-eig_vals[0])/eig_vals[0])\n",
    "print(\"Optimized energy and relative error: \",ffn_energy)"
   ]
  },
  {
   "cell_type": "code",
   "execution_count": null,
   "metadata": {},
   "outputs": [
    {
     "data": {
      "text/plain": [
       "Text(0, 0.5, 'Energy')"
      ]
     },
     "execution_count": 13,
     "metadata": {},
     "output_type": "execute_result"
    },
    {
     "data": {
      "image/png": "[encoded data removed]",
      "text/plain": [
       "<Figure size 432x288 with 1 Axes>"
      ]
     },
     "metadata": {
      "needs_background": "light"
     },
     "output_type": "display_data"
    }
   ],
   "source": [
    "from matplotlib import pyplot as plt\n",
    "\n",
    "data_FFN = log.data\n",
    "\n",
    "plt.errorbar(data_FFN[\"Energy\"].iters, data_FFN[\"Energy\"].Mean, yerr=data_FFN[\"Energy\"].Sigma, label=\"FFN\")\n",
    "#plt.hlines([E_gs], xmin=0, xmax=100, color='black', label=\"Exact\")\n",
    "from jupyterthemes import jtplot\n",
    "#jtplot.style(theme='onedork') #选择一个绘图主题\n",
    "\n",
    "plt.legend()\n",
    "plt.style.use('seaborn-darkgrid') # 设置画图的风格 \n",
    "plt.title(\"10 x 10, \")\n",
    "plt.xlabel('Iterations')\n",
    "plt.ylabel('Energy')"
   ]
  }
 ],
 "metadata": {
  "interpreter": {
   "hash": "916dbcbb3f70747c44a77c7bcd40155683ae19c65e1c03b4aa3499c5328201f1"
  },
  "kernelspec": {
   "display_name": "Python 3.8.10 64-bit",
   "language": "python",
   "name": "python3"
  },
  "language_info": {
   "codemirror_mode": {
    "name": "ipython",
    "version": 3
   },
   "file_extension": ".py",
   "mimetype": "text/x-python",
   "name": "python",
   "nbconvert_exporter": "python",
   "pygments_lexer": "ipython3",
   "version": "3.8.10"
  },
  "orig_nbformat": 4
 },
 "nbformat": 4,
 "nbformat_minor": 2
}

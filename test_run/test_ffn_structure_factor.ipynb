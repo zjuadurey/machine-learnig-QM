{
 "cells": [
  {
   "cell_type": "code",
   "execution_count": 40,
   "metadata": {},
   "outputs": [],
   "source": [
    "import netket as nk\n",
    "import numpy as np\n",
    "import jax.numpy as jnp\n",
    "\n",
    "# Flax is a framework to define models using jax\n",
    "import flax\n",
    "# we refer to `flax.linen` as `nn`. It's a repository of \n",
    "# layers, initializers and nonlinear functions.\n",
    "import flax.linen as nn\n",
    "\n",
    "import jax\n",
    "import jax.numpy as jnp                # JAX NumPy\n",
    "\n",
    "from flax import linen as nn           # The Linen API\n",
    "from flax.training import train_state  # Useful dataclass to keep train state\n",
    "\n",
    "import numpy as np                     # Ordinary NumPy\n",
    "import optax  \n",
    "\n",
    "#晶格相互作用对定义\n",
    "size = (4,4)\n",
    "row_num, col_num = size\n",
    "n_lattice = row_num * col_num\n",
    "num = [ i for i in range(row_num * col_num)]\n",
    "\n",
    "begin = [ i * col_num for i in range(row_num)]\n",
    "end = [(i + 1) * col_num - 1 for i in range(row_num)]\n",
    "\n",
    "edgesx = []\n",
    "edgesy = []\n",
    "edgesz = []\n",
    "\n",
    "for i in num:\n",
    "    if i in begin:\n",
    "        edgesx.append([i, i + col_num - 1])\n",
    "    else:\n",
    "        edgesx.append([i, i - 1])\n",
    "\n",
    "for i in num:\n",
    "    if i in num [ :col_num]:\n",
    "        edgesy.append([i, num[- (col_num - i)]])\n",
    "    else:\n",
    "        edgesy.append([i, i - col_num])\n",
    "\n",
    "for i in num:\n",
    "    if i in num [-col_num:-1]:\n",
    "        edgesz.append([i, num[- (col_num*3 - i)]+1])\n",
    "    elif i in end:\n",
    "        if i==n_lattice-1:\n",
    "            edgesz.append([0, i])\n",
    "        else:\n",
    "            edgesz.append([i, i + 1])     \n",
    "    else:\n",
    "        edgesz.append([i, i + col_num + 1])\n",
    "\n",
    "edges = edgesx + edgesz + edgesy\n",
    "graph = nk.graph.Graph(edges)\n",
    "graph.nodes()\n",
    "\n",
    "#希尔伯特空间\n",
    "hi = nk.hilbert.Spin(s = 0.5, N = graph.n_nodes)\n",
    "\n",
    "#pauli matrix\n",
    "sx = [[0, 1], [1, 0]]\n",
    "sy = [[0, -1j], [1j, 0]]\n",
    "sz = [[1, 0], [0, -1]]\n",
    "#parameter\n",
    "h=1\n",
    "J=1\n",
    "#g = J / h\n",
    "H = nk.operator.LocalOperator(hi)\n",
    "for i in edges:\n",
    "    H += -J*nk.operator.LocalOperator(hi, np.kron(sz, sz), i)\n",
    "sxx = -h* nk.operator.LocalOperator(hi, [sx] * n_lattice, [[i] for i in range(n_lattice)])\n",
    "H += sxx #This term is magnetization, which can be regarded as an operator Mx(g)"
   ]
  },
  {
   "cell_type": "code",
   "execution_count": 41,
   "metadata": {},
   "outputs": [],
   "source": [
    "#神经网络量子态\n",
    "class FFN(nn.Module):\n",
    "    \n",
    "    # You can define attributes at the module-level\n",
    "    # with a default. This allows you to easily change\n",
    "    # some hyper-parameter without redefining the whole \n",
    "    # flax module.\n",
    "    alpha : int = 1\n",
    "            \n",
    "    @nn.compact\n",
    "    def __call__(self, x):\n",
    "\n",
    "        # here we construct the first dense layer using a\n",
    "        # pre-built implementation in flax.\n",
    "        # features is the number of output nodes\n",
    "        # WARNING: Won't work with complex hamiltonians because\n",
    "        # of a bug in flax. Use nk.nn.Dense otherwise. \n",
    "        dense = nn.Dense(features=self.alpha * x.shape[-1])\n",
    "        \n",
    "        # we apply the dense layer to the input\n",
    "        y = dense(x)\n",
    "\n",
    "        # the non-linearity is a simple ReLu\n",
    "        y = nn.relu(y)\n",
    "                \n",
    "        # sum the output\n",
    "        return jnp.sum(y, axis=-1)"
   ]
  },
  {
   "cell_type": "code",
   "execution_count": 42,
   "metadata": {},
   "outputs": [],
   "source": [
    "# Create the local sampler on the hilbert space\n",
    "sampler = nk.sampler.MetropolisLocal(hi)\n",
    "\n",
    "model = FFN(alpha=1)\n",
    "\n",
    "vstate = nk.vqs.MCState(sampler, model, n_samples=1008)"
   ]
  },
  {
   "cell_type": "markdown",
   "metadata": {},
   "source": [
    "# Measuring Observables"
   ]
  },
  {
   "cell_type": "code",
   "execution_count": 43,
   "metadata": {},
   "outputs": [],
   "source": [
    "obs={}"
   ]
  },
  {
   "cell_type": "markdown",
   "metadata": {},
   "source": [
    "$$\n",
    "S^{xx}(\\vec{k})=\\frac{1}{N(N-1)}\\sum_{l\\neq j}e^{-i\\vec{k}.(\\vec{r_l}-\\vec{r_j})}\\langle\\sigma_l^x\\sigma_j^x\\rangle,\n",
    "$$\n",
    "where $\\vec{k}=(2\\pi/3,0)$.$\\to$ 计算量允许的话可以画一个自旋结构因子二维图：横坐标为$k_x\\in [0, 2\\pi]$, 纵坐标为$k_y\\in [0, 2\\pi]$\n",
    "\n",
    "当然，也可以算$S^{yy}(\\vec{k})$ or $S^{zz}(\\vec{k})$"
   ]
  },
  {
   "cell_type": "code",
   "execution_count": 44,
   "metadata": {},
   "outputs": [],
   "source": [
    "def d1tod2(po, row_num, col_num):\n",
    "    # po -> (px, py)\n",
    "    if po < 0 or po >= row_num*col_num:\n",
    "        print(\"Wrong Index!\")\n",
    "    else:\n",
    "        return 0.5*((po-(po//col_num)*col_num+(po//col_num)/2)*2), (math.sqrt(3)/2)*(po//col_num)\n",
    "    \n",
    "def d1tod2pbc(po, row_num, col_num):\n",
    "    # po -> (px, py)\n",
    "    if po < 0 or po >= row_num*col_num:\n",
    "        print(\"Wrong Index!\")\n",
    "    else:\n",
    "        return 0.5*((po-(po//col_num)*col_num+(po//col_num)/2)*2)+col_num, (math.sqrt(3)/2)*(po//col_num)"
   ]
  },
  {
   "cell_type": "code",
   "execution_count": 45,
   "metadata": {},
   "outputs": [],
   "source": [
    "import cmath\n",
    "import math\n",
    "####### ################ Structure FactorX ###########################################\n",
    "msxsx = (np.kron(sx, sx)) \n",
    "sfx = []\n",
    "sitesfx = []\n",
    "for i in range(0, n_lattice):\n",
    "    xi, yi = d1tod2(i, row_num, col_num)\n",
    "    for k in range(i, n_lattice):\n",
    "        if i==k:\n",
    "            pass\n",
    "        else:\n",
    "            xk1, yk1 = d1tod2(k, row_num, col_num)\n",
    "            xk2, yk2 = d1tod2pbc(k, row_num, col_num)\n",
    "#             dis = min(math.sqrt(abs(xi-xk1)**2+abs(yi-yk1)**2), math.sqrt(abs(xi-xk2)**2+abs(yi-yk2)**2))\n",
    "            absx = min(abs(xi-xk1),abs(xi-xk2))\n",
    "            sfx.append((cmath.exp(-complex(0,2*absx*3.14/3))*msxsx).tolist())\n",
    "            sitesfx.append([i,k])\n",
    "\n",
    "structure_factorx = nk.operator.LocalOperator(hi, sfx, sitesfx)\n",
    "obs.update(StructureFactorX=structure_factorx)"
   ]
  },
  {
   "cell_type": "code",
   "execution_count": 46,
   "metadata": {},
   "outputs": [
    {
     "name": "stderr",
     "output_type": "stream",
     "text": [
      " 17%|█▋        | 170/1000 [16:46<1:21:53,  5.92s/it, Energy=-226.70 ± 0.12 [σ²=13.76, R̂=1.0045]]\n"
     ]
    },
    {
     "ename": "KeyboardInterrupt",
     "evalue": "",
     "output_type": "error",
     "traceback": [
      "\u001b[0;31m---------------------------------------------------------------------------\u001b[0m",
      "\u001b[0;31mKeyboardInterrupt\u001b[0m                         Traceback (most recent call last)",
      "\u001b[1;32m/usr/local/machine-learning-QM/my/test_ffn_structure_factor.ipynb Cell 9'\u001b[0m in \u001b[0;36m<cell line: 7>\u001b[0;34m()\u001b[0m\n\u001b[1;32m      <a href='vscode-notebook-cell://wsl%2Bubuntu-20.04/usr/local/machine-learning-QM/my/test_ffn_structure_factor.ipynb#ch0000003vscode-remote?line=3'>4</a>\u001b[0m gs \u001b[39m=\u001b[39m nk\u001b[39m.\u001b[39mdriver\u001b[39m.\u001b[39mVMC(H, optimizer, variational_state\u001b[39m=\u001b[39mvstate,preconditioner\u001b[39m=\u001b[39mnk\u001b[39m.\u001b[39moptimizer\u001b[39m.\u001b[39mSR(diag_shift\u001b[39m=\u001b[39m\u001b[39m0.01\u001b[39m))\n\u001b[1;32m      <a href='vscode-notebook-cell://wsl%2Bubuntu-20.04/usr/local/machine-learning-QM/my/test_ffn_structure_factor.ipynb#ch0000003vscode-remote?line=5'>6</a>\u001b[0m log\u001b[39m=\u001b[39mnk\u001b[39m.\u001b[39mlogging\u001b[39m.\u001b[39mRuntimeLog()\n\u001b[0;32m----> <a href='vscode-notebook-cell://wsl%2Bubuntu-20.04/usr/local/machine-learning-QM/my/test_ffn_structure_factor.ipynb#ch0000003vscode-remote?line=6'>7</a>\u001b[0m gs\u001b[39m.\u001b[39;49mrun(n_iter\u001b[39m=\u001b[39;49m\u001b[39m1000\u001b[39;49m,out\u001b[39m=\u001b[39;49mlog, obs\u001b[39m=\u001b[39;49mobs)\n\u001b[1;32m      <a href='vscode-notebook-cell://wsl%2Bubuntu-20.04/usr/local/machine-learning-QM/my/test_ffn_structure_factor.ipynb#ch0000003vscode-remote?line=8'>9</a>\u001b[0m ffn_energy\u001b[39m=\u001b[39mvstate\u001b[39m.\u001b[39mexpect(H)\n\u001b[1;32m     <a href='vscode-notebook-cell://wsl%2Bubuntu-20.04/usr/local/machine-learning-QM/my/test_ffn_structure_factor.ipynb#ch0000003vscode-remote?line=9'>10</a>\u001b[0m \u001b[39m#error=abs((ffn_energy.mean-eig_vals[0])/eig_vals[0])\u001b[39;00m\n",
      "File \u001b[0;32m/usr/local/lib/python3.8/dist-packages/netket/driver/abstract_variational_driver.py:254\u001b[0m, in \u001b[0;36mAbstractVariationalDriver.run\u001b[0;34m(self, n_iter, out, obs, show_progress, save_params_every, write_every, step_size, callback)\u001b[0m\n\u001b[1;32m    <a href='file:///usr/local/lib/python3.8/dist-packages/netket/driver/abstract_variational_driver.py?line=249'>250</a>\u001b[0m first_step \u001b[39m=\u001b[39m \u001b[39mTrue\u001b[39;00m\n\u001b[1;32m    <a href='file:///usr/local/lib/python3.8/dist-packages/netket/driver/abstract_variational_driver.py?line=251'>252</a>\u001b[0m \u001b[39mfor\u001b[39;00m step \u001b[39min\u001b[39;00m \u001b[39mself\u001b[39m\u001b[39m.\u001b[39miter(n_iter, step_size):\n\u001b[0;32m--> <a href='file:///usr/local/lib/python3.8/dist-packages/netket/driver/abstract_variational_driver.py?line=253'>254</a>\u001b[0m     log_data \u001b[39m=\u001b[39m \u001b[39mself\u001b[39;49m\u001b[39m.\u001b[39;49mestimate(obs)\n\u001b[1;32m    <a href='file:///usr/local/lib/python3.8/dist-packages/netket/driver/abstract_variational_driver.py?line=255'>256</a>\u001b[0m     \u001b[39m# if the cost-function is defined then report it in the progress bar\u001b[39;00m\n\u001b[1;32m    <a href='file:///usr/local/lib/python3.8/dist-packages/netket/driver/abstract_variational_driver.py?line=256'>257</a>\u001b[0m     \u001b[39mif\u001b[39;00m \u001b[39mself\u001b[39m\u001b[39m.\u001b[39m_loss_stats \u001b[39mis\u001b[39;00m \u001b[39mnot\u001b[39;00m \u001b[39mNone\u001b[39;00m:\n",
      "File \u001b[0;32m/usr/local/lib/python3.8/dist-packages/netket/driver/abstract_variational_driver.py:304\u001b[0m, in \u001b[0;36mAbstractVariationalDriver.estimate\u001b[0;34m(self, observables)\u001b[0m\n\u001b[1;32m    <a href='file:///usr/local/lib/python3.8/dist-packages/netket/driver/abstract_variational_driver.py?line=291'>292</a>\u001b[0m \u001b[39mdef\u001b[39;00m \u001b[39mestimate\u001b[39m(\u001b[39mself\u001b[39m, observables):\n\u001b[1;32m    <a href='file:///usr/local/lib/python3.8/dist-packages/netket/driver/abstract_variational_driver.py?line=292'>293</a>\u001b[0m     \u001b[39m\"\"\"\u001b[39;00m\n\u001b[1;32m    <a href='file:///usr/local/lib/python3.8/dist-packages/netket/driver/abstract_variational_driver.py?line=293'>294</a>\u001b[0m \u001b[39m    Return MCMC statistics for the expectation value of observables in the\u001b[39;00m\n\u001b[1;32m    <a href='file:///usr/local/lib/python3.8/dist-packages/netket/driver/abstract_variational_driver.py?line=294'>295</a>\u001b[0m \u001b[39m    current state of the driver.\u001b[39;00m\n\u001b[0;32m   (...)\u001b[0m\n\u001b[1;32m    <a href='file:///usr/local/lib/python3.8/dist-packages/netket/driver/abstract_variational_driver.py?line=301'>302</a>\u001b[0m \u001b[39m        for the corresponding operators as leaves.\u001b[39;00m\n\u001b[1;32m    <a href='file:///usr/local/lib/python3.8/dist-packages/netket/driver/abstract_variational_driver.py?line=302'>303</a>\u001b[0m \u001b[39m    \"\"\"\u001b[39;00m\n\u001b[0;32m--> <a href='file:///usr/local/lib/python3.8/dist-packages/netket/driver/abstract_variational_driver.py?line=303'>304</a>\u001b[0m     \u001b[39mreturn\u001b[39;00m tree_map(\u001b[39mself\u001b[39;49m\u001b[39m.\u001b[39;49m_estimate_stats, observables)\n",
      "File \u001b[0;32m/usr/local/lib/python3.8/dist-packages/jax/_src/tree_util.py:180\u001b[0m, in \u001b[0;36mtree_map\u001b[0;34m(f, tree, is_leaf, *rest)\u001b[0m\n\u001b[1;32m    <a href='file:///usr/local/lib/python3.8/dist-packages/jax/_src/tree_util.py?line=177'>178</a>\u001b[0m leaves, treedef \u001b[39m=\u001b[39m tree_flatten(tree, is_leaf)\n\u001b[1;32m    <a href='file:///usr/local/lib/python3.8/dist-packages/jax/_src/tree_util.py?line=178'>179</a>\u001b[0m all_leaves \u001b[39m=\u001b[39m [leaves] \u001b[39m+\u001b[39m [treedef\u001b[39m.\u001b[39mflatten_up_to(r) \u001b[39mfor\u001b[39;00m r \u001b[39min\u001b[39;00m rest]\n\u001b[0;32m--> <a href='file:///usr/local/lib/python3.8/dist-packages/jax/_src/tree_util.py?line=179'>180</a>\u001b[0m \u001b[39mreturn\u001b[39;00m treedef\u001b[39m.\u001b[39;49munflatten(f(\u001b[39m*\u001b[39;49mxs) \u001b[39mfor\u001b[39;49;00m xs \u001b[39min\u001b[39;49;00m \u001b[39mzip\u001b[39;49m(\u001b[39m*\u001b[39;49mall_leaves))\n",
      "File \u001b[0;32m/usr/local/lib/python3.8/dist-packages/jax/_src/tree_util.py:180\u001b[0m, in \u001b[0;36m<genexpr>\u001b[0;34m(.0)\u001b[0m\n\u001b[1;32m    <a href='file:///usr/local/lib/python3.8/dist-packages/jax/_src/tree_util.py?line=177'>178</a>\u001b[0m leaves, treedef \u001b[39m=\u001b[39m tree_flatten(tree, is_leaf)\n\u001b[1;32m    <a href='file:///usr/local/lib/python3.8/dist-packages/jax/_src/tree_util.py?line=178'>179</a>\u001b[0m all_leaves \u001b[39m=\u001b[39m [leaves] \u001b[39m+\u001b[39m [treedef\u001b[39m.\u001b[39mflatten_up_to(r) \u001b[39mfor\u001b[39;00m r \u001b[39min\u001b[39;00m rest]\n\u001b[0;32m--> <a href='file:///usr/local/lib/python3.8/dist-packages/jax/_src/tree_util.py?line=179'>180</a>\u001b[0m \u001b[39mreturn\u001b[39;00m treedef\u001b[39m.\u001b[39munflatten(f(\u001b[39m*\u001b[39;49mxs) \u001b[39mfor\u001b[39;00m xs \u001b[39min\u001b[39;00m \u001b[39mzip\u001b[39m(\u001b[39m*\u001b[39mall_leaves))\n",
      "File \u001b[0;32m/usr/local/lib/python3.8/dist-packages/netket/driver/abstract_variational_driver.py:106\u001b[0m, in \u001b[0;36mAbstractVariationalDriver._estimate_stats\u001b[0;34m(self, observable)\u001b[0m\n\u001b[1;32m     <a href='file:///usr/local/lib/python3.8/dist-packages/netket/driver/abstract_variational_driver.py?line=97'>98</a>\u001b[0m \u001b[39mdef\u001b[39;00m \u001b[39m_estimate_stats\u001b[39m(\u001b[39mself\u001b[39m, observable):\n\u001b[1;32m     <a href='file:///usr/local/lib/python3.8/dist-packages/netket/driver/abstract_variational_driver.py?line=98'>99</a>\u001b[0m     \u001b[39m\"\"\"\u001b[39;00m\n\u001b[1;32m    <a href='file:///usr/local/lib/python3.8/dist-packages/netket/driver/abstract_variational_driver.py?line=99'>100</a>\u001b[0m \u001b[39m    Returns the MCMC statistics for the expectation value of an observable.\u001b[39;00m\n\u001b[1;32m    <a href='file:///usr/local/lib/python3.8/dist-packages/netket/driver/abstract_variational_driver.py?line=100'>101</a>\u001b[0m \u001b[39m    Must be implemented by super-classes of AbstractVMC.\u001b[39;00m\n\u001b[0;32m   (...)\u001b[0m\n\u001b[1;32m    <a href='file:///usr/local/lib/python3.8/dist-packages/netket/driver/abstract_variational_driver.py?line=103'>104</a>\u001b[0m \u001b[39m    :return:\u001b[39;00m\n\u001b[1;32m    <a href='file:///usr/local/lib/python3.8/dist-packages/netket/driver/abstract_variational_driver.py?line=104'>105</a>\u001b[0m \u001b[39m    \"\"\"\u001b[39;00m\n\u001b[0;32m--> <a href='file:///usr/local/lib/python3.8/dist-packages/netket/driver/abstract_variational_driver.py?line=105'>106</a>\u001b[0m     \u001b[39mreturn\u001b[39;00m \u001b[39mself\u001b[39;49m\u001b[39m.\u001b[39;49mstate\u001b[39m.\u001b[39;49mexpect(observable)\n",
      "File \u001b[0;32m/usr/local/lib/python3.8/dist-packages/netket/vqs/mc/mc_state/state.py:564\u001b[0m, in \u001b[0;36mMCState.expect\u001b[0;34m(self, Ô)\u001b[0m\n\u001b[1;32m    <a href='file:///usr/local/lib/python3.8/dist-packages/netket/vqs/mc/mc_state/state.py?line=552'>553</a>\u001b[0m \u001b[39mdef\u001b[39;00m \u001b[39mexpect\u001b[39m(\u001b[39mself\u001b[39m, Ô: AbstractOperator) \u001b[39m-\u001b[39m\u001b[39m>\u001b[39m Stats:\n\u001b[1;32m    <a href='file:///usr/local/lib/python3.8/dist-packages/netket/vqs/mc/mc_state/state.py?line=553'>554</a>\u001b[0m     \u001b[39mr\u001b[39m\u001b[39m\"\"\"Estimates the quantum expectation value for a given operator O.\u001b[39;00m\n\u001b[1;32m    <a href='file:///usr/local/lib/python3.8/dist-packages/netket/vqs/mc/mc_state/state.py?line=554'>555</a>\u001b[0m \u001b[39m        In the case of a pure state $\\psi$, this is $<O>= <Psi|O|Psi>/<Psi|Psi>$\u001b[39;00m\n\u001b[1;32m    <a href='file:///usr/local/lib/python3.8/dist-packages/netket/vqs/mc/mc_state/state.py?line=555'>556</a>\u001b[0m \u001b[39m        otherwise for a mixed state $\\rho$, this is $<O> = \\Tr[\\rho \\hat{O}/\\Tr[\\rho]$.\u001b[39;00m\n\u001b[0;32m   (...)\u001b[0m\n\u001b[1;32m    <a href='file:///usr/local/lib/python3.8/dist-packages/netket/vqs/mc/mc_state/state.py?line=561'>562</a>\u001b[0m \u001b[39m        An estimation of the quantum expectation value <O>.\u001b[39;00m\n\u001b[1;32m    <a href='file:///usr/local/lib/python3.8/dist-packages/netket/vqs/mc/mc_state/state.py?line=562'>563</a>\u001b[0m \u001b[39m    \"\"\"\u001b[39;00m\n\u001b[0;32m--> <a href='file:///usr/local/lib/python3.8/dist-packages/netket/vqs/mc/mc_state/state.py?line=563'>564</a>\u001b[0m     \u001b[39mreturn\u001b[39;00m expect(\u001b[39mself\u001b[39;49m, Ô, \u001b[39mself\u001b[39;49m\u001b[39m.\u001b[39;49mchunk_size)\n",
      "File \u001b[0;32m/usr/local/lib/python3.8/dist-packages/plum/function.py:529\u001b[0m, in \u001b[0;36mplum.function.Function.__call__\u001b[0;34m()\u001b[0m\n",
      "File \u001b[0;32m/usr/local/lib/python3.8/dist-packages/netket/vqs/mc/mc_state/expect_chunked.py:76\u001b[0m, in \u001b[0;36mexpect_nochunking\u001b[0;34m(vstate, operator, chunk_size)\u001b[0m\n\u001b[1;32m     <a href='file:///usr/local/lib/python3.8/dist-packages/netket/vqs/mc/mc_state/expect_chunked.py?line=73'>74</a>\u001b[0m \u001b[39m@expect\u001b[39m\u001b[39m.\u001b[39mdispatch\n\u001b[1;32m     <a href='file:///usr/local/lib/python3.8/dist-packages/netket/vqs/mc/mc_state/expect_chunked.py?line=74'>75</a>\u001b[0m \u001b[39mdef\u001b[39;00m \u001b[39mexpect_nochunking\u001b[39m(vstate: MCState, operator: AbstractOperator, chunk_size: \u001b[39mNone\u001b[39;00m):\n\u001b[0;32m---> <a href='file:///usr/local/lib/python3.8/dist-packages/netket/vqs/mc/mc_state/expect_chunked.py?line=75'>76</a>\u001b[0m     \u001b[39mreturn\u001b[39;00m expect(vstate, operator)\n",
      "File \u001b[0;32m/usr/local/lib/python3.8/dist-packages/plum/function.py:531\u001b[0m, in \u001b[0;36mplum.function.Function.__call__\u001b[0;34m()\u001b[0m\n",
      "File \u001b[0;32m/usr/local/lib/python3.8/dist-packages/netket/vqs/mc/mc_state/expect.py:97\u001b[0m, in \u001b[0;36mexpect\u001b[0;34m(vstate, Ô)\u001b[0m\n\u001b[1;32m     <a href='file:///usr/local/lib/python3.8/dist-packages/netket/vqs/mc/mc_state/expect.py?line=92'>93</a>\u001b[0m σ, args \u001b[39m=\u001b[39m get_local_kernel_arguments(vstate, Ô)\n\u001b[1;32m     <a href='file:///usr/local/lib/python3.8/dist-packages/netket/vqs/mc/mc_state/expect.py?line=94'>95</a>\u001b[0m local_estimator_fun \u001b[39m=\u001b[39m get_local_kernel(vstate, Ô)\n\u001b[0;32m---> <a href='file:///usr/local/lib/python3.8/dist-packages/netket/vqs/mc/mc_state/expect.py?line=96'>97</a>\u001b[0m \u001b[39mreturn\u001b[39;00m _expect(\n\u001b[1;32m     <a href='file:///usr/local/lib/python3.8/dist-packages/netket/vqs/mc/mc_state/expect.py?line=97'>98</a>\u001b[0m     local_estimator_fun,\n\u001b[1;32m     <a href='file:///usr/local/lib/python3.8/dist-packages/netket/vqs/mc/mc_state/expect.py?line=98'>99</a>\u001b[0m     vstate\u001b[39m.\u001b[39;49m_apply_fun,\n\u001b[1;32m    <a href='file:///usr/local/lib/python3.8/dist-packages/netket/vqs/mc/mc_state/expect.py?line=99'>100</a>\u001b[0m     vstate\u001b[39m.\u001b[39;49msampler\u001b[39m.\u001b[39;49mmachine_pow,\n\u001b[1;32m    <a href='file:///usr/local/lib/python3.8/dist-packages/netket/vqs/mc/mc_state/expect.py?line=100'>101</a>\u001b[0m     vstate\u001b[39m.\u001b[39;49mparameters,\n\u001b[1;32m    <a href='file:///usr/local/lib/python3.8/dist-packages/netket/vqs/mc/mc_state/expect.py?line=101'>102</a>\u001b[0m     vstate\u001b[39m.\u001b[39;49mmodel_state,\n\u001b[1;32m    <a href='file:///usr/local/lib/python3.8/dist-packages/netket/vqs/mc/mc_state/expect.py?line=102'>103</a>\u001b[0m     σ,\n\u001b[1;32m    <a href='file:///usr/local/lib/python3.8/dist-packages/netket/vqs/mc/mc_state/expect.py?line=103'>104</a>\u001b[0m     args,\n\u001b[1;32m    <a href='file:///usr/local/lib/python3.8/dist-packages/netket/vqs/mc/mc_state/expect.py?line=104'>105</a>\u001b[0m )\n",
      "File \u001b[0;32m/usr/local/lib/python3.8/dist-packages/flax/struct.py:131\u001b[0m, in \u001b[0;36mdataclass.<locals>.clz_from_iterable\u001b[0;34m(meta, data)\u001b[0m\n\u001b[1;32m    <a href='file:///usr/local/lib/python3.8/dist-packages/flax/struct.py?line=127'>128</a>\u001b[0m   data \u001b[39m=\u001b[39m \u001b[39mtuple\u001b[39m(\u001b[39mgetattr\u001b[39m(x, name) \u001b[39mfor\u001b[39;00m name \u001b[39min\u001b[39;00m data_fields)\n\u001b[1;32m    <a href='file:///usr/local/lib/python3.8/dist-packages/flax/struct.py?line=128'>129</a>\u001b[0m   \u001b[39mreturn\u001b[39;00m data, meta\n\u001b[0;32m--> <a href='file:///usr/local/lib/python3.8/dist-packages/flax/struct.py?line=130'>131</a>\u001b[0m \u001b[39mdef\u001b[39;00m \u001b[39mclz_from_iterable\u001b[39m(meta, data):\n\u001b[1;32m    <a href='file:///usr/local/lib/python3.8/dist-packages/flax/struct.py?line=131'>132</a>\u001b[0m   meta_args \u001b[39m=\u001b[39m \u001b[39mtuple\u001b[39m(\u001b[39mzip\u001b[39m(meta_fields, meta))\n\u001b[1;32m    <a href='file:///usr/local/lib/python3.8/dist-packages/flax/struct.py?line=132'>133</a>\u001b[0m   data_args \u001b[39m=\u001b[39m \u001b[39mtuple\u001b[39m(\u001b[39mzip\u001b[39m(data_fields, data))\n",
      "\u001b[0;31mKeyboardInterrupt\u001b[0m: "
     ]
    }
   ],
   "source": [
    "optimizer = nk.optimizer.Sgd(learning_rate=0.01)\n",
    "\n",
    "# Notice the use, again of Stochastic Reconfiguration, which considerably improves the optimisation\n",
    "gs = nk.driver.VMC(H, optimizer, variational_state=vstate,preconditioner=nk.optimizer.SR(diag_shift=0.01))\n",
    "\n",
    "log=nk.logging.RuntimeLog()\n",
    "gs.run(n_iter=1000,out=log, obs=obs)\n",
    "\n",
    "ffn_energy=vstate.expect(H)\n",
    "#error=abs((ffn_energy.mean-eig_vals[0])/eig_vals[0])\n",
    "print(\"Optimized energy and relative error: \",ffn_energy)"
   ]
  },
  {
   "cell_type": "code",
   "execution_count": null,
   "metadata": {},
   "outputs": [
    {
     "name": "stdout",
     "output_type": "stream",
     "text": [
      "Mean                  : -49.33373122081338\n",
      "Error                 : 0.002722817480237666\n",
      "Variance              : 0.007473044910933297\n",
      "Convergence indicator : 1.0068810842480937\n",
      "Correlation time      : 0.0\n"
     ]
    }
   ],
   "source": [
    "print(\"Mean                  :\", ffn_energy.mean)\n",
    "print(\"Error                 :\", ffn_energy.error_of_mean)\n",
    "print(\"Variance              :\", ffn_energy.variance)\n",
    "print(\"Convergence indicator :\", ffn_energy.R_hat)\n",
    "print(\"Correlation time      :\", ffn_energy.tau_corr)"
   ]
  },
  {
   "cell_type": "code",
   "execution_count": null,
   "metadata": {},
   "outputs": [],
   "source": [
    "from matplotlib import pyplot as plt\n",
    "import json\n",
    "\n",
    "data = log.data\n",
    "\n",
    "iters = data['Energy']['iters']\n",
    "energy = data['Energy']['Mean']\n",
    "sf = data['StructureFactorX']['Mean']"
   ]
  },
  {
   "cell_type": "code",
   "execution_count": null,
   "metadata": {},
   "outputs": [
    {
     "name": "stderr",
     "output_type": "stream",
     "text": [
      "/usr/local/lib/python3.8/dist-packages/matplotlib/cbook/__init__.py:1298: ComplexWarning: Casting complex values to real discards the imaginary part\n",
      "  return np.asarray(x, float)\n"
     ]
    },
    {
     "data": {
      "image/png": "[encoded data removed]",
      "text/plain": [
       "<Figure size 432x288 with 2 Axes>"
      ]
     },
     "metadata": {},
     "output_type": "display_data"
    }
   ],
   "source": [
    "fig, ax1 = plt.subplots()\n",
    "ax1.plot(iters, energy, color='blue', label='Energy')\n",
    "ax1.set_ylabel('Energy')\n",
    "ax1.set_xlabel('Iteration')\n",
    "ax2 = ax1.twinx() \n",
    "ax2.plot(iters, np.array(sf), color='green', label='Structure Factor')\n",
    "ax2.set_ylabel('Structure Factor')\n",
    "ax1.legend(loc=2)\n",
    "ax2.legend(loc=1)\n",
    "plt.show()"
   ]
  },
  {
   "cell_type": "code",
   "execution_count": null,
   "metadata": {},
   "outputs": [],
   "source": []
  }
 ],
 "metadata": {
  "interpreter": {
   "hash": "916dbcbb3f70747c44a77c7bcd40155683ae19c65e1c03b4aa3499c5328201f1"
  },
  "kernelspec": {
   "display_name": "Python 3.8.10 64-bit",
   "language": "python",
   "name": "python3"
  },
  "language_info": {
   "codemirror_mode": {
    "name": "ipython",
    "version": 3
   },
   "file_extension": ".py",
   "mimetype": "text/x-python",
   "name": "python",
   "nbconvert_exporter": "python",
   "pygments_lexer": "ipython3",
   "version": "3.8.10"
  },
  "orig_nbformat": 4
 },
 "nbformat": 4,
 "nbformat_minor": 2
}

{
 "cells": [
  {
   "cell_type": "code",
   "execution_count": 1,
   "metadata": {},
   "outputs": [],
   "source": [
    "obs={}"
   ]
  },
  {
   "cell_type": "markdown",
   "metadata": {},
   "source": [
    "# spin-structure factor:"
   ]
  },
  {
   "cell_type": "markdown",
   "metadata": {},
   "source": [
    "有三个方向的密度图，分别对应以下三个公式，你可以挑选一个方向画画看，ps: X、Y、Z 每个方向都有不同的$k_x - k_y$的SF密度图\n",
    "$$\n",
    "X-direction:\\quad S_x(\\vec{k})=\\frac{1}{N(N-1)}\\sum_{l\\neq j}e^{-i\\vec{k}.(\\vec{r_l}-\\vec{r_j})}\\langle\\sigma_l^x\\sigma_j^x\\rangle,\n",
    "$$\n",
    "\n",
    "$$\n",
    "Y-direction:\\quad S_y(\\vec{k})=\\frac{1}{N(N-1)}\\sum_{l\\neq j}e^{-i\\vec{k}.(\\vec{r_l}-\\vec{r_j})}\\langle\\sigma_l^y\\sigma_j^y\\rangle,\n",
    "$$\n",
    "\n",
    "$$\n",
    "Z-direction:\\quad S_z(\\vec{k})=\\frac{1}{N(N-1)}\\sum_{l\\neq j}e^{-i\\vec{k}.(\\vec{r_l}-\\vec{r_j})}\\langle\\sigma_l^z\\sigma_j^z\\rangle,\n",
    "$$\n",
    "\n",
    "where $\\vec{k}=(k_x,k_y)$, $\\vec{r}=(r_x,r_y)$.$\\to$ 自旋结构因子二维图：横坐标为$k_x\\in [0, 2\\pi]$, 纵坐标为$k_y\\in [0, 2\\pi]$"
   ]
  },
  {
   "cell_type": "code",
   "execution_count": 2,
   "metadata": {},
   "outputs": [],
   "source": [
    "def d1tod2(po, row_num, col_num): # 1D -> 2D\n",
    "    # 某个node -> 输出其2D坐标(rx, ry)\n",
    "    if po < 0 or po >= row_num*col_num:\n",
    "        print(\"Wrong Index!\")\n",
    "    else:\n",
    "        return 0.5*((po-(po//col_num)*col_num+(po//col_num)/2)*2), (math.sqrt(3)/2)*(po//col_num)\n",
    "    \n",
    "def d1tod2pbc(po, row_num, col_num):\n",
    "    # position of node in PBC -> (rx, ry)\n",
    "    if po < 0 or po >= row_num*col_num:\n",
    "        print(\"Wrong Index!\")\n",
    "    else:\n",
    "        return 0.5*((po-(po//col_num)*col_num+(po//col_num)/2)*2)+col_num, (math.sqrt(3)/2)*(po//col_num)"
   ]
  },
  {
   "cell_type": "markdown",
   "metadata": {},
   "source": [
    "以\n",
    "$$\n",
    "S_x(\\vec{k})=\\frac{1}{N(N-1)}\\sum_{l\\neq j}e^{-i\\vec{k}.(\\vec{r_l}-\\vec{r_j})}\\langle\\sigma_l^x\\sigma_j^x\\rangle,\n",
    "$$\n",
    "为例"
   ]
  },
  {
   "cell_type": "code",
   "execution_count": null,
   "metadata": {},
   "outputs": [],
   "source": [
    "import cmath\n",
    "####### ################ Structure FactorX ###########################################\n",
    "msxsx = (np.kron(sx, sx)) #S_y(k): msysy ...\n",
    "sfx = []\n",
    "sitesfx = []\n",
    "\n",
    "for kx in np.arange(0.0, 6.5, 0.05):\n",
    "    for ky in np.arange(0.0, 6.5, 0.05):\n",
    "        \n",
    "        for i in np.arange(0.0, n_lattice):\n",
    "            xi, yi = d1tod2(i, row_num, col_num)\n",
    "            for k in np.arange(i, n_lattice):\n",
    "                if i==k:\n",
    "                    pass\n",
    "                else:\n",
    "                    xk1, yk1 = d1tod2(k, row_num, col_num)\n",
    "                    xk2, yk2 = d1tod2pbc(k, row_num, col_num)\n",
    "                    absx = min(abs(xi-xk1),abs(xi-xk2)) \n",
    "                    absy = min(abs(yi-yk1),abs(yi-yk2))\n",
    "                    sfx.append((cmath.exp(-complex(0,absx*kx+absy*ky))*msxsx).tolist())\n",
    "                    #sfy.append((cmath.exp(-complex(0,absx*kx+absy*ky))*msysy).tolist())\n",
    "                    #sfz.append((cmath.exp(-complex(0,absx*kx+absy*ky))*mszsz).tolist())\n",
    "                    sitesfx.append([i,k])\n",
    "\n",
    "                    structure_factorx = nk.operator.LocalOperator(hi, sfx, sitesfx)\n",
    "                    obs.update(StructureFactorX=structure_factorx)\n",
    "                    \n",
    "#        run code... "
   ]
  }
 ],
 "metadata": {
  "kernelspec": {
   "display_name": "Python 3",
   "language": "python",
   "name": "python3"
  },
  "language_info": {
   "codemirror_mode": {
    "name": "ipython",
    "version": 3
   },
   "file_extension": ".py",
   "mimetype": "text/x-python",
   "name": "python",
   "nbconvert_exporter": "python",
   "pygments_lexer": "ipython3",
   "version": "3.8.5"
  }
 },
 "nbformat": 4,
 "nbformat_minor": 4
}

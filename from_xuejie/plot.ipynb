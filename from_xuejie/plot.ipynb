{
 "cells": [
  {
   "cell_type": "code",
   "execution_count": 6,
   "metadata": {},
   "outputs": [
    {
     "ename": "NameError",
     "evalue": "name 'J' is not defined",
     "output_type": "error",
     "traceback": [
      "\u001b[0;31m---------------------------------------------------------------------------\u001b[0m",
      "\u001b[0;31mNameError\u001b[0m                                 Traceback (most recent call last)",
      "\u001b[1;32m/usr/local/machine-learnig-QM/xuejie/plot.ipynb Cell 1'\u001b[0m in \u001b[0;36m<cell line: 9>\u001b[0;34m()\u001b[0m\n\u001b[1;32m     <a href='vscode-notebook-cell://wsl%2Bubuntu-20.04/usr/local/machine-learnig-QM/xuejie/plot.ipynb#ch0000000vscode-remote?line=26'>27</a>\u001b[0m rho31x \u001b[39m=\u001b[39m []\n\u001b[1;32m     <a href='vscode-notebook-cell://wsl%2Bubuntu-20.04/usr/local/machine-learnig-QM/xuejie/plot.ipynb#ch0000000vscode-remote?line=27'>28</a>\u001b[0m rho32x \u001b[39m=\u001b[39m []\n\u001b[0;32m---> <a href='vscode-notebook-cell://wsl%2Bubuntu-20.04/usr/local/machine-learnig-QM/xuejie/plot.ipynb#ch0000000vscode-remote?line=28'>29</a>\u001b[0m \u001b[39mprint\u001b[39m(\u001b[39m\"\u001b[39m\u001b[39mJ=\u001b[39m\u001b[39m%0.2f\u001b[39;00m\u001b[39m is loadded\u001b[39m\u001b[39m\"\u001b[39m\u001b[39m%\u001b[39m(J))\n\u001b[1;32m     <a href='vscode-notebook-cell://wsl%2Bubuntu-20.04/usr/local/machine-learnig-QM/xuejie/plot.ipynb#ch0000000vscode-remote?line=29'>30</a>\u001b[0m \u001b[39mfor\u001b[39;00m iteration \u001b[39min\u001b[39;00m data[\u001b[39m\"\u001b[39m\u001b[39mOutput\u001b[39m\u001b[39m\"\u001b[39m]:\n\u001b[1;32m     <a href='vscode-notebook-cell://wsl%2Bubuntu-20.04/usr/local/machine-learnig-QM/xuejie/plot.ipynb#ch0000000vscode-remote?line=30'>31</a>\u001b[0m     iters\u001b[39m.\u001b[39mappend(iteration[\u001b[39m\"\u001b[39m\u001b[39mIteration\u001b[39m\u001b[39m\"\u001b[39m])\n",
      "\u001b[0;31mNameError\u001b[0m: name 'J' is not defined"
     ]
    }
   ],
   "source": [
    "import netket as nk\n",
    "import numpy as np\n",
    "import math\n",
    "import json\n",
    "\n",
    "#coherence\n",
    "#json.load(open)\n",
    "cox = []\n",
    "for h in np.arange(0, 1.01, 0.1):\n",
    "    data = json.load(open(\"test%0.2f.log\"%(h)))\n",
    "    iters = []\n",
    "    energy = []\n",
    "#     rho00x=[]\n",
    "#     rho11x=[]\n",
    "#     rho22x=[]\n",
    "#     rho33x=[]\n",
    "    rho01x = []\n",
    "    rho02x = []\n",
    "    rho03x = []\n",
    "    rho10x = []\n",
    "    rho12x = []\n",
    "    rho13x = []\n",
    "    rho20x = []\n",
    "    rho21x = []\n",
    "    rho23x = []\n",
    "    rho30x = []\n",
    "    rho31x = []\n",
    "    rho32x = []\n",
    "    print(\"J=%0.2f is loadded\"%(h))\n",
    "    for iteration in data[\"Output\"]:\n",
    "        iters.append(iteration[\"Iteration\"])\n",
    "        energy.append(iteration[\"Energy\"][\"Mean\"])\n",
    "#         rho00x.append(iteration[\"rhox00\"][\"Mean\"])\n",
    "#         rho11x.append(iteration[\"rhox11\"][\"Mean\"])\n",
    "#         rho22x.append(iteration[\"rhox22\"][\"Mean\"])\n",
    "#         rho33x.append(iteration[\"rhox33\"][\"Mean\"])        \n",
    "        rho01x.append(iteration[\"rhox01\"][\"Mean\"])\n",
    "        rho02x.append(iteration[\"rhox02\"][\"Mean\"])\n",
    "        rho03x.append(iteration[\"rhox03\"][\"Mean\"])\n",
    "        rho10x.append(iteration[\"rhox10\"][\"Mean\"])\n",
    "        rho12x.append(iteration[\"rhox12\"][\"Mean\"])\n",
    "        rho13x.append(iteration[\"rhox13\"][\"Mean\"])\n",
    "        rho20x.append(iteration[\"rhox20\"][\"Mean\"])\n",
    "        rho21x.append(iteration[\"rhox21\"][\"Mean\"])\n",
    "        rho23x.append(iteration[\"rhox23\"][\"Mean\"])\n",
    "        rho30x.append(iteration[\"rhox30\"][\"Mean\"])\n",
    "        rho31x.append(iteration[\"rhox31\"][\"Mean\"])\n",
    "        rho32x.append(iteration[\"rhox32\"][\"Mean\"])\n",
    "    ax=np.abs(np.mean(rho01x[-20:]))+np.abs(np.mean(rho02x[-20:]))+np.abs(np.mean(rho03x[-20:]))+np.abs(np.mean(rho10x[-20:]))+np.abs(np.mean(rho12x[-20:]))+np.abs(np.mean(rho13x[-20:]))+np.abs(np.mean(rho20x[-20:]))+np.abs(np.mean(rho21x[-20:]))+np.abs(np.mean(rho23x[-20:]))+np.abs(np.mean(rho30x[-20:]))+np.abs(np.mean(rho31x[-20:]))+np.abs(np.mean(rho32x[-20:]))\n",
    "    cox.append(ax)\n",
    "\n",
    "x=np.arange(0, 1.01, 0.1)\n",
    "fig, ax = plt.subplots()\n",
    "ax.plot(x, cox)\n",
    "ax.set_xlabel('h')\n",
    "ax.set_ylabel(\"Coherence\")\n",
    "plt.show()"
   ]
  },
  {
   "cell_type": "code",
   "execution_count": null,
   "metadata": {},
   "outputs": [],
   "source": []
  }
 ],
 "metadata": {
  "interpreter": {
   "hash": "987688c839ca28ac7d9017b372dc0b736c48f43e7527017ea291fc87bc3eeb80"
  },
  "kernelspec": {
   "display_name": "Python 3.8.10 ('.netket_cpu': venv)",
   "language": "python",
   "name": "python3"
  },
  "language_info": {
   "codemirror_mode": {
    "name": "ipython",
    "version": 3
   },
   "file_extension": ".py",
   "mimetype": "text/x-python",
   "name": "python",
   "nbconvert_exporter": "python",
   "pygments_lexer": "ipython3",
   "version": "3.8.10"
  },
  "orig_nbformat": 4
 },
 "nbformat": 4,
 "nbformat_minor": 2
}

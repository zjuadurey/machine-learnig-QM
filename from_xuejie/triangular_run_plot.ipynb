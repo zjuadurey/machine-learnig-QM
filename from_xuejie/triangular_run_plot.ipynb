{
 "cells": [
  {
   "cell_type": "code",
   "execution_count": null,
   "metadata": {},
   "outputs": [],
   "source": [
    "import netket as nk\n",
    "import numpy as np\n",
    "import math\n",
    "import json"
   ]
  },
  {
   "cell_type": "code",
   "execution_count": null,
   "metadata": {},
   "outputs": [],
   "source": [
    "#graph\n",
    "size = (4, 4)\n",
    "row_num,col_num = size\n",
    "n_lattice = row_num * col_num\n",
    "num = [ i for i in range(row_num * col_num)]\n",
    "\n",
    "begin = [ i * col_num for i in range(row_num)]\n",
    "end = [(i + 1) * col_num - 1 for i in range(row_num)]\n",
    "\n",
    "edgesx = []\n",
    "edgesy = []\n",
    "edgesz = []\n",
    "\n",
    "for i in num:\n",
    "    if i in begin:\n",
    "        edgesx.append([i, i + col_num - 1])\n",
    "    else:\n",
    "        edgesx.append([i, i - 1])\n",
    "\n",
    "for i in num:\n",
    "    if i in num [ :col_num]:\n",
    "        edgesy.append([i, num[- (col_num - i)]])\n",
    "    else:\n",
    "        edgesy.append([i, i - col_num])\n",
    "\n",
    "for i in num:\n",
    "    if i in num [-col_num:-1]:\n",
    "        edgesz.append([i, num[- (col_num*3 - i)]+1])\n",
    "    elif i in end:\n",
    "        if i==n_lattice-1:\n",
    "            edgesz.append([0, i])\n",
    "        else:\n",
    "            edgesz.append([i, i + 1])     \n",
    "    else:\n",
    "        edgesz.append([i, i + col_num + 1])\n",
    "        \n",
    "edges = edgesx + edgesz + edgesy\n",
    "\n",
    "graph = nk.graph.Graph(edges)\n",
    "hi = nk.hilbert.Spin(s = 0.5, graph = graph)#Hilbert space obtained as tensor product of local spin states.\n",
    "graph.nodes()#the number of nodes "
   ]
  },
  {
   "cell_type": "code",
   "execution_count": null,
   "metadata": {},
   "outputs": [],
   "source": [
    "edgesz# For example, a list of edges in the Z direction"
   ]
  },
  {
   "cell_type": "markdown",
   "metadata": {},
   "source": [
    "# 哈密顿的定义"
   ]
  },
  {
   "cell_type": "code",
   "execution_count": null,
   "metadata": {},
   "outputs": [],
   "source": [
    "#pauli matrix\n",
    "sx = [[0, 1], [1, 0]]\n",
    "sy = [[0, -1j], [1j, 0]]\n",
    "sz = [[1, 0], [0, -1]]\n",
    "#parameter\n",
    "h=1\n",
    "J=1\n",
    "#g = J / h\n",
    "ha = nk.operator.LocalOperator(hi)\n",
    "for i in edges:\n",
    "    ha += -J*nk.operator.LocalOperator(hi, np.kron(sz, sz), i)\n",
    "sxx = -h* nk.operator.LocalOperator(hi, [sx] * n_lattice, [[i] for i in range(n_lattice)])\n",
    "ha += sxx #This term is magnetization, which can be regarded as an operator Mx(g)"
   ]
  },
  {
   "cell_type": "code",
   "execution_count": null,
   "metadata": {},
   "outputs": [],
   "source": [
    "ma = nk.models.RBM(alpha=1)\n",
    "\n",
    "# We shall use an exchange Sampler which preserves the global magnetization (as this is a conserved quantity in the model)\n",
    "sa = nk.sampler.MetropolisExchange(hilbert=hi, graph=graph, d_max = 2)\n",
    "\n",
    "# Construct the variational state\n",
    "vs = nk.vqs.MCState(sa, ma, n_samples=1008)\n",
    "\n",
    "# We choose a basic, albeit important, Optimizer: the Stochastic Gradient Descent\n",
    "opt = nk.optimizer.Sgd(learning_rate=0.01)\n",
    "\n",
    "# Stochastic Reconfiguration\n",
    "sr = nk.optimizer.SR(diag_shift=0.01)\n",
    "\n",
    "# We can then specify a Variational Monte Carlo object, using the Hamiltonian, sampler and optimizers chosen.\n",
    "# Note that we also specify the method to learn the parameters of the wave-function: here we choose the efficient\n",
    "# Stochastic reconfiguration (Sr), here in an iterative setup\n",
    "gs = nk.VMC(hamiltonian=ha, optimizer=opt, variational_state=vs, preconditioner=sr)\n"
   ]
  },
  {
   "cell_type": "markdown",
   "metadata": {},
   "source": [
    "# Measuring Observables"
   ]
  },
  {
   "cell_type": "markdown",
   "metadata": {},
   "source": [
    "以下物理量与哈密顿量参数的关系"
   ]
  },
  {
   "cell_type": "code",
   "execution_count": null,
   "metadata": {},
   "outputs": [],
   "source": [
    "obs={}"
   ]
  },
  {
   "cell_type": "markdown",
   "metadata": {},
   "source": [
    "# spin-structure factor:"
   ]
  },
  {
   "cell_type": "markdown",
   "metadata": {},
   "source": [
    "$$\n",
    "S^{xx}(\\vec{k})=\\frac{1}{N(N-1)}\\sum_{l\\neq j}e^{-i\\vec{k}.(\\vec{r_l}-\\vec{r_j})}\\langle\\sigma_l^x\\sigma_j^x\\rangle,\n",
    "$$\n",
    "where $\\vec{k}=(2\\pi/3,0)$.$\\to$ 计算量允许的话可以画一个自旋结构因子二维图：横坐标为$k_x\\in [0, 2\\pi]$, 纵坐标为$k_y\\in [0, 2\\pi]$\n",
    "\n",
    "当然，也可以算$S^{yy}(\\vec{k})$ or $S^{zz}(\\vec{k})$"
   ]
  },
  {
   "cell_type": "code",
   "execution_count": null,
   "metadata": {},
   "outputs": [],
   "source": [
    "def d1tod2(po, row_num, col_num):\n",
    "    # po -> (px, py)\n",
    "    if po < 0 or po >= row_num*col_num:\n",
    "        print(\"Wrong Index!\")\n",
    "    else:\n",
    "        return 0.5*((po-(po//col_num)*col_num+(po//col_num)/2)*2), (math.sqrt(3)/2)*(po//col_num)\n",
    "    \n",
    "def d1tod2pbc(po, row_num, col_num):\n",
    "    # po -> (px, py)\n",
    "    if po < 0 or po >= row_num*col_num:\n",
    "        print(\"Wrong Index!\")\n",
    "    else:\n",
    "        return 0.5*((po-(po//col_num)*col_num+(po//col_num)/2)*2)+col_num, (math.sqrt(3)/2)*(po//col_num)"
   ]
  },
  {
   "cell_type": "code",
   "execution_count": null,
   "metadata": {},
   "outputs": [],
   "source": [
    "import cmath\n",
    "####### ################ Structure FactorX ###########################################\n",
    "msxsx = (np.kron(sx, sx)) \n",
    "sfx = []\n",
    "sitesfx = []\n",
    "for i in range(0, n_lattice):\n",
    "    xi, yi = d1tod2(i, row_num, col_num)\n",
    "    for k in range(i, n_lattice):\n",
    "        if i==k:\n",
    "            pass\n",
    "        else:\n",
    "            xk1, yk1 = d1tod2(k, row_num, col_num)\n",
    "            xk2, yk2 = d1tod2pbc(k, row_num, col_num)\n",
    "#             dis = min(math.sqrt(abs(xi-xk1)**2+abs(yi-yk1)**2), math.sqrt(abs(xi-xk2)**2+abs(yi-yk2)**2))\n",
    "            absx = min(abs(xi-xk1),abs(xi-xk2))\n",
    "            sfx.append((cmath.exp(-complex(0,2*absx*3.14/3))*msxsx).tolist())\n",
    "            sitesfx.append([i,k])\n",
    "\n",
    "structure_factorx = nk.operator.LocalOperator(hi, sfx, sitesfx)\n",
    "obs.update(StructureFactorX=structure_factorx)"
   ]
  },
  {
   "cell_type": "markdown",
   "metadata": {},
   "source": [
    "# Magnization:"
   ]
  },
  {
   "cell_type": "markdown",
   "metadata": {},
   "source": [
    "$$ M=\\sqrt{\\sum_\\gamma M_\\gamma^2}$$\n",
    "where,$$M_\\gamma=\\frac{1}{N}\\sum_{i}^N\\langle\\sigma_i^\\gamma\\rangle,\\quad \\gamma=x, y, z$$"
   ]
  },
  {
   "cell_type": "code",
   "execution_count": null,
   "metadata": {},
   "outputs": [],
   "source": [
    "Mx = -h* nk.operator.LocalOperator(hi, [sx] * n_lattice, [[i] for i in range(n_lattice)])\n",
    "My = -h* nk.operator.LocalOperator(hi, [sy] * n_lattice, [[i] for i in range(n_lattice)])\n",
    "Mz = -h* nk.operator.LocalOperator(hi, [sz] * n_lattice, [[i] for i in range(n_lattice)])\n",
    "obs.update(MX=Mx,MY=My,MZ=Mz)"
   ]
  },
  {
   "cell_type": "markdown",
   "metadata": {},
   "source": [
    "# Coherence"
   ]
  },
  {
   "cell_type": "markdown",
   "metadata": {},
   "source": [
    "$$C_{l_1}=\\sum_{i\\neq j}|\\rho_{ij}|$$"
   ]
  },
  {
   "cell_type": "code",
   "execution_count": null,
   "metadata": {},
   "outputs": [],
   "source": [
    "#############definition of the two-partite density element##########################\n",
    "ketvec = []\n",
    "for i in range(4):\n",
    "    kettrans = [[0],[0],[0],[0]]\n",
    "    kettrans[i] = [1]\n",
    "    ketvec.append(kettrans)\n",
    "   \n",
    "    \n",
    "bravec = []\n",
    "for i in range(4):\n",
    "    bratrans = [0,0,0,0]\n",
    "    bratrans[i] = 1\n",
    "    bravec.append(bratrans)\n",
    "\n",
    "# only act on x-direction edges! -> Cl1_x. You can also act on all edges: for k in range(len(edges)):...\n",
    "rhoterms = []\n",
    "for i in range(4):\n",
    "    for j in range(4):\n",
    "        for k in range(len(edgesx)):\n",
    "            rhoterms.append((np.kron(ketvec[i],bravec[j])/len(edgesx)).tolist())    \n",
    "\n",
    "rhoindexx = []\n",
    "for i in range(4):\n",
    "    for j in range(4):\n",
    "        rhoindexx.append('rhox%d%d'%(i,j)) # 2*2 Matrix's index"
   ]
  },
  {
   "cell_type": "code",
   "execution_count": null,
   "metadata": {},
   "outputs": [],
   "source": [
    "############################ coherence ############################################   \n",
    "for i in range(16):\n",
    "    rhoterms_factorx = nk.operator.LocalOperator(hi,rhoterms[i*len(edgesx):(i+1)*len(edgesx)],edgesx)\n",
    "#     gs.add_observable(rhoterms_factorx, rhoindexx[i])\n",
    "    obs.update({rhoindexx[i]:rhoterms_factorx})"
   ]
  },
  {
   "cell_type": "code",
   "execution_count": null,
   "metadata": {},
   "outputs": [],
   "source": [
    "obs"
   ]
  },
  {
   "cell_type": "code",
   "execution_count": 139,
   "metadata": {},
   "outputs": [
    {
     "name": "stderr",
     "output_type": "stream",
     "text": [
      "100%|██████████| 600/600 [01:16<00:00,  7.85it/s, Energy=-inf ± nan [σ²=nan]]                                                                                                                                                      \n"
     ]
    },
    {
     "data": {
      "text/plain": [
       "(JsonLog('test0.90', mode=write, autoflush_cost=0.005)\n",
       "   Runtime cost:\n",
       "   \tLog:    0.31812548637390137\n",
       "   \tParams: 0.003862142562866211,)"
      ]
     },
     "execution_count": 139,
     "metadata": {},
     "output_type": "execute_result"
    }
   ],
   "source": [
    "gs.run(out='test1.00', n_iter=600, obs=obs)"
   ]
  },
  {
   "cell_type": "markdown",
   "metadata": {},
   "source": [
    "# Plot"
   ]
  },
  {
   "cell_type": "code",
   "execution_count": 140,
   "metadata": {},
   "outputs": [
    {
     "ename": "AttributeError",
     "evalue": "'builtin_function_or_method' object has no attribute 'read'",
     "output_type": "error",
     "traceback": [
      "\u001b[0;31m---------------------------------------------------------------------------\u001b[0m",
      "\u001b[0;31mAttributeError\u001b[0m                            Traceback (most recent call last)",
      "\u001b[1;32m/usr/local/machine-learnig-QM/xuejie/triangular.ipynb Cell 24'\u001b[0m in \u001b[0;36m<cell line: 2>\u001b[0;34m()\u001b[0m\n\u001b[1;32m      <a href='vscode-notebook-cell://wsl%2Bubuntu-20.04/usr/local/machine-learnig-QM/xuejie/triangular.ipynb#ch0000023vscode-remote?line=0'>1</a>\u001b[0m \u001b[39m#coherence\u001b[39;00m\n\u001b[0;32m----> <a href='vscode-notebook-cell://wsl%2Bubuntu-20.04/usr/local/machine-learnig-QM/xuejie/triangular.ipynb#ch0000023vscode-remote?line=1'>2</a>\u001b[0m json\u001b[39m.\u001b[39;49mload(\u001b[39mopen\u001b[39;49m)\n\u001b[1;32m      <a href='vscode-notebook-cell://wsl%2Bubuntu-20.04/usr/local/machine-learnig-QM/xuejie/triangular.ipynb#ch0000023vscode-remote?line=2'>3</a>\u001b[0m cox \u001b[39m=\u001b[39m []\n\u001b[1;32m      <a href='vscode-notebook-cell://wsl%2Bubuntu-20.04/usr/local/machine-learnig-QM/xuejie/triangular.ipynb#ch0000023vscode-remote?line=3'>4</a>\u001b[0m \u001b[39mfor\u001b[39;00m h \u001b[39min\u001b[39;00m np\u001b[39m.\u001b[39marange(\u001b[39m0\u001b[39m, \u001b[39m1.01\u001b[39m, \u001b[39m0.1\u001b[39m):\n",
      "File \u001b[0;32m/usr/lib/python3.8/json/__init__.py:293\u001b[0m, in \u001b[0;36mload\u001b[0;34m(fp, cls, object_hook, parse_float, parse_int, parse_constant, object_pairs_hook, **kw)\u001b[0m\n\u001b[1;32m    <a href='file:///usr/lib/python3.8/json/__init__.py?line=273'>274</a>\u001b[0m \u001b[39mdef\u001b[39;00m \u001b[39mload\u001b[39m(fp, \u001b[39m*\u001b[39m, \u001b[39mcls\u001b[39m\u001b[39m=\u001b[39m\u001b[39mNone\u001b[39;00m, object_hook\u001b[39m=\u001b[39m\u001b[39mNone\u001b[39;00m, parse_float\u001b[39m=\u001b[39m\u001b[39mNone\u001b[39;00m,\n\u001b[1;32m    <a href='file:///usr/lib/python3.8/json/__init__.py?line=274'>275</a>\u001b[0m         parse_int\u001b[39m=\u001b[39m\u001b[39mNone\u001b[39;00m, parse_constant\u001b[39m=\u001b[39m\u001b[39mNone\u001b[39;00m, object_pairs_hook\u001b[39m=\u001b[39m\u001b[39mNone\u001b[39;00m, \u001b[39m*\u001b[39m\u001b[39m*\u001b[39mkw):\n\u001b[1;32m    <a href='file:///usr/lib/python3.8/json/__init__.py?line=275'>276</a>\u001b[0m     \u001b[39m\"\"\"Deserialize ``fp`` (a ``.read()``-supporting file-like object containing\u001b[39;00m\n\u001b[1;32m    <a href='file:///usr/lib/python3.8/json/__init__.py?line=276'>277</a>\u001b[0m \u001b[39m    a JSON document) to a Python object.\u001b[39;00m\n\u001b[1;32m    <a href='file:///usr/lib/python3.8/json/__init__.py?line=277'>278</a>\u001b[0m \n\u001b[0;32m   (...)\u001b[0m\n\u001b[1;32m    <a href='file:///usr/lib/python3.8/json/__init__.py?line=290'>291</a>\u001b[0m \u001b[39m    kwarg; otherwise ``JSONDecoder`` is used.\u001b[39;00m\n\u001b[1;32m    <a href='file:///usr/lib/python3.8/json/__init__.py?line=291'>292</a>\u001b[0m \u001b[39m    \"\"\"\u001b[39;00m\n\u001b[0;32m--> <a href='file:///usr/lib/python3.8/json/__init__.py?line=292'>293</a>\u001b[0m     \u001b[39mreturn\u001b[39;00m loads(fp\u001b[39m.\u001b[39;49mread(),\n\u001b[1;32m    <a href='file:///usr/lib/python3.8/json/__init__.py?line=293'>294</a>\u001b[0m         \u001b[39mcls\u001b[39m\u001b[39m=\u001b[39m\u001b[39mcls\u001b[39m, object_hook\u001b[39m=\u001b[39mobject_hook,\n\u001b[1;32m    <a href='file:///usr/lib/python3.8/json/__init__.py?line=294'>295</a>\u001b[0m         parse_float\u001b[39m=\u001b[39mparse_float, parse_int\u001b[39m=\u001b[39mparse_int,\n\u001b[1;32m    <a href='file:///usr/lib/python3.8/json/__init__.py?line=295'>296</a>\u001b[0m         parse_constant\u001b[39m=\u001b[39mparse_constant, object_pairs_hook\u001b[39m=\u001b[39mobject_pairs_hook, \u001b[39m*\u001b[39m\u001b[39m*\u001b[39mkw)\n",
      "\u001b[0;31mAttributeError\u001b[0m: 'builtin_function_or_method' object has no attribute 'read'"
     ]
    }
   ],
   "source": [
    "#coherence\n",
    "json.load(open)\n",
    "cox = []\n",
    "for h in np.arange(0, 1.01, 0.1):\n",
    "    data = json.load(open(\"<text%0.2f>.log\"%(h)))\n",
    "    iters = []\n",
    "    energy = []\n",
    "#     rho00x=[]\n",
    "#     rho11x=[]\n",
    "#     rho22x=[]\n",
    "#     rho33x=[]\n",
    "    rho01x = []\n",
    "    rho02x = []\n",
    "    rho03x = []\n",
    "    rho10x = []\n",
    "    rho12x = []\n",
    "    rho13x = []\n",
    "    rho20x = []\n",
    "    rho21x = []\n",
    "    rho23x = []\n",
    "    rho30x = []\n",
    "    rho31x = []\n",
    "    rho32x = []\n",
    "    print(\"J=%0.2f is loadded\"%(J))\n",
    "    for iteration in data[\"Output\"]:\n",
    "        iters.append(iteration[\"Iteration\"])\n",
    "        energy.append(iteration[\"Energy\"][\"Mean\"])\n",
    "#         rho00x.append(iteration[\"rhox00\"][\"Mean\"])\n",
    "#         rho11x.append(iteration[\"rhox11\"][\"Mean\"])\n",
    "#         rho22x.append(iteration[\"rhox22\"][\"Mean\"])\n",
    "#         rho33x.append(iteration[\"rhox33\"][\"Mean\"])        \n",
    "        rho01x.append(iteration[\"rhox01\"][\"Mean\"])\n",
    "        rho02x.append(iteration[\"rhox02\"][\"Mean\"])\n",
    "        rho03x.append(iteration[\"rhox03\"][\"Mean\"])\n",
    "        rho10x.append(iteration[\"rhox10\"][\"Mean\"])\n",
    "        rho12x.append(iteration[\"rhox12\"][\"Mean\"])\n",
    "        rho13x.append(iteration[\"rhox13\"][\"Mean\"])\n",
    "        rho20x.append(iteration[\"rhox20\"][\"Mean\"])\n",
    "        rho21x.append(iteration[\"rhox21\"][\"Mean\"])\n",
    "        rho23x.append(iteration[\"rhox23\"][\"Mean\"])\n",
    "        rho30x.append(iteration[\"rhox30\"][\"Mean\"])\n",
    "        rho31x.append(iteration[\"rhox31\"][\"Mean\"])\n",
    "        rho32x.append(iteration[\"rhox32\"][\"Mean\"])\n",
    "    ax=np.abs(np.mean(rho01x[-20:]))+np.abs(np.mean(rho02x[-20:]))+np.abs(np.mean(rho03x[-20:]))+np.abs(np.mean(rho10x[-20:]))+np.abs(np.mean(rho12x[-20:]))+np.abs(np.mean(rho13x[-20:]))+np.abs(np.mean(rho20x[-20:]))+np.abs(np.mean(rho21x[-20:]))+np.abs(np.mean(rho23x[-20:]))+np.abs(np.mean(rho30x[-20:]))+np.abs(np.mean(rho31x[-20:]))+np.abs(np.mean(rho32x[-20:]))\n",
    "    cox.append(ax)\n",
    "\n",
    "x=np.arange(0, 1.01, 0.1)\n",
    "fig, ax = plt.subplots()\n",
    "ax.plot(x, cox)\n",
    "ax.set_xlabel('h')\n",
    "ax.set_ylabel(\"Coherence\")\n",
    "plt.show()"
   ]
  },
  {
   "cell_type": "code",
   "execution_count": null,
   "metadata": {},
   "outputs": [],
   "source": []
  }
 ],
 "metadata": {
  "kernelspec": {
   "display_name": "Python 3",
   "language": "python",
   "name": "python3"
  },
  "language_info": {
   "codemirror_mode": {
    "name": "ipython",
    "version": 3
   },
   "file_extension": ".py",
   "mimetype": "text/x-python",
   "name": "python",
   "nbconvert_exporter": "python",
   "pygments_lexer": "ipython3",
   "version": "3.8.10"
  }
 },
 "nbformat": 4,
 "nbformat_minor": 4
}

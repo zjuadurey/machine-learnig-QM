{
 "cells": [
  {
   "cell_type": "code",
   "execution_count": 1,
   "metadata": {},
   "outputs": [],
   "source": [
    "import netket as nk\n",
    "import numpy as np\n",
    "import json\n",
    "from matplotlib import pyplot as plt"
   ]
  },
  {
   "cell_type": "markdown",
   "metadata": {},
   "source": [
    "# For all sites"
   ]
  },
  {
   "cell_type": "code",
   "execution_count": 10,
   "metadata": {},
   "outputs": [],
   "source": [
    "#graph\n",
    "size = (5,5)\n",
    "row_num,col_num = size\n",
    "n_lattice = row_num * col_num\n",
    "num = [ i for i in range(row_num * col_num)]\n",
    "\n",
    "begin = [ i * col_num for i in range(row_num)]\n",
    "end = [(i + 1) * col_num - 1 for i in range(row_num)]\n",
    "\n",
    "edgesx = []\n",
    "edgesy = []\n",
    "edgesz = []\n",
    "\n",
    "for i in num:\n",
    "    if i in begin:\n",
    "        edgesx.append([i, i + col_num - 1])\n",
    "    else:\n",
    "        edgesx.append([i, i - 1])\n",
    "\n",
    "for i in num:\n",
    "    if i in num [ :col_num]:\n",
    "        edgesy.append([i, num[- (col_num - i)]])\n",
    "    else:\n",
    "        edgesy.append([i, i - col_num])\n",
    "\n",
    "for i in num:\n",
    "    if i in begin:\n",
    "        edgesz.append([i, (i + 7) % n_lattice])\n",
    "    else:\n",
    "        edgesz.append([i, (i + 3) % n_lattice])\n",
    "        \n",
    "edges = edgesx + edgesz + edgesy\n",
    "graph = nk.graph.Graph(edges)\n",
    "hi = nk.hilbert.Spin(s = 0.5, N = graph.n_nodes)\n",
    "#pauli matrix\n",
    "sx = [[0, 1], [1, 0]]\n",
    "sy = [[0, -1j], [1j, 0]]\n",
    "sz = [[1, 0], [0, -1]]\n",
    "L = graph.n_nodes"
   ]
  },
  {
   "cell_type": "markdown",
   "metadata": {},
   "source": [
    "# The basic cluster contains seven sites: paper"
   ]
  },
  {
   "cell_type": "code",
   "execution_count": 1,
   "metadata": {},
   "outputs": [
    {
     "ename": "ImportError",
     "evalue": "cannot import name 'legacy' from 'netket' (/usr/local/machine-learnig-QM/.netket_cpu/lib/python3.8/site-packages/netket/__init__.py)",
     "output_type": "error",
     "traceback": [
      "\u001b[0;31m---------------------------------------------------------------------------\u001b[0m",
      "\u001b[0;31mImportError\u001b[0m                               Traceback (most recent call last)",
      "\u001b[1;32m/usr/local/machine-learnig-QM/xuejie/4_4_xuejie.ipynb Cell 5'\u001b[0m in \u001b[0;36m<cell line: 1>\u001b[0;34m()\u001b[0m\n\u001b[0;32m----> <a href='vscode-notebook-cell://wsl%2Bubuntu-20.04/usr/local/machine-learnig-QM/xuejie/4_4_xuejie.ipynb#ch0000004vscode-remote?line=0'>1</a>\u001b[0m \u001b[39mfrom\u001b[39;00m \u001b[39mnetket\u001b[39;00m \u001b[39mimport\u001b[39;00m legacy \u001b[39mas\u001b[39;00m nk\n\u001b[1;32m      <a href='vscode-notebook-cell://wsl%2Bubuntu-20.04/usr/local/machine-learnig-QM/xuejie/4_4_xuejie.ipynb#ch0000004vscode-remote?line=2'>3</a>\u001b[0m edges7\u001b[39m=\u001b[39m[]\n\u001b[1;32m      <a href='vscode-notebook-cell://wsl%2Bubuntu-20.04/usr/local/machine-learnig-QM/xuejie/4_4_xuejie.ipynb#ch0000004vscode-remote?line=3'>4</a>\u001b[0m \u001b[39mfor\u001b[39;00m i \u001b[39min\u001b[39;00m \u001b[39mrange\u001b[39m(\u001b[39m1\u001b[39m,\u001b[39m7\u001b[39m):\n",
      "\u001b[0;31mImportError\u001b[0m: cannot import name 'legacy' from 'netket' (/usr/local/machine-learnig-QM/.netket_cpu/lib/python3.8/site-packages/netket/__init__.py)"
     ]
    }
   ],
   "source": [
    "from netket import legacy as nk\n",
    "\n",
    "edges7=[]\n",
    "for i in range(1,7):\n",
    "    edges7.append([0,i])\n",
    "for i in range(1, 6):\n",
    "    edges7.append([i,i+1])\n",
    "edges7.append([1,6])\n",
    "graph = nk.graph.Graph(edges7)\n",
    "hi = nk.hilbert.Spin(s = 0.5, N=graph.n_nodes)\n",
    "L = graph.n_nodes\n",
    "h = 1\n",
    "\n",
    "exact_result = []\n",
    "e_m=[]\n",
    "\n",
    "for J in np.arange(0, 1.01, 0.1):\n",
    "    ha = nk.operator.LocalOperator(hi)\n",
    "    for i in edges7:\n",
    "        ha += nk.operator.LocalOperator(hi, (-J*np.kron(sz,sz)).tolist(), i)\n",
    "    for i in range(L):\n",
    "        ha += -h*nk.operator.LocalOperator(hi, sx ,[i])\n",
    "    ma=nk.machine.RbmSpin(hilbert=hi, alpha=1)\n",
    "    ma.init_random_parameters(seed=123,sigma=0.01)\n",
    "    sa=nk.sampler.MetropolisLocal(machine=ma)\n",
    "    op=nk.optimizer.Sgd(learning_rate=0.01)\n",
    "#     op=nk.optimizer.AdaGrad(learning_rate=0.1)\n",
    "    gs=nk.variational.Vmc(hamiltonian=ha,sampler=sa,optimizer=op,n_samples=600\n",
    "                                  ,use_iterative=True,diag_shift=1e-8,method='Sr')\n",
    "############################ coherence #######################################################    \n",
    "    for i in range(16):\n",
    "        rhoterms_factorx = nk.operator.LocalOperator(hi,rhoterms[i*len(edgesx):(i+1)*len(edgesx)],edgesx)\n",
    "        gs.add_observable(rhoterms_factorx, rhoindexx[i])\n",
    "############################ Magnization ########################################## \n",
    "#     sxx = nk.operator.LocalOperator(hi, [sx] * L, [[i] for i in range(L)])\n",
    "#     gs.add_observable(sxx, \"MX\")d\n",
    "#     res = nk.exact.lanczos_ed(ha, first_n=1, compute_eigenvectors=True)\n",
    "#     exact_result.append(res.eigenvalues[0])\n",
    "#     e_m.append(res.mean(sxx, 0)/L)\n",
    "# #     print(\"Mx: {0:.3f}\".format((res.mean(sxx, 0)/L)))\n",
    "#     print('The exact ground-state energy is E0=',res.eigenvalues[0])  \n",
    "    gs.run(n_iter=300,output_prefix=\"<sites=7text%0.2f>\"%(J))"
   ]
  },
  {
   "cell_type": "code",
   "execution_count": null,
   "metadata": {},
   "outputs": [
    {
     "data": {
      "text/plain": [
       "[<matplotlib.lines.Line2D at 0x7fc47d96a518>]"
      ]
     },
     "execution_count": 33,
     "metadata": {},
     "output_type": "execute_result"
    },
    {
     "data": {
      "image/png": "[encoded data removed]",
      "text/plain": [
       "<Figure size 432x288 with 1 Axes>"
      ]
     },
     "metadata": {
      "needs_background": "light"
     },
     "output_type": "display_data"
    }
   ],
   "source": [
    "plt.plot(e_m)"
   ]
  },
  {
   "cell_type": "markdown",
   "metadata": {},
   "source": [
    "# Compute"
   ]
  },
  {
   "cell_type": "code",
   "execution_count": null,
   "metadata": {},
   "outputs": [],
   "source": [
    "sx = [[0, 1], [1, 0]]\n",
    "sy = [[0, -1j], [1j, 0]]\n",
    "sz = [[1, 0], [0, -1]]\n",
    "h = 1\n",
    "#############definition of the two-partite density element##########################\n",
    "ketvec = []\n",
    "for i in range(4):\n",
    "    kettrans = [[0],[0],[0],[0]]\n",
    "    kettrans[i] = [1]\n",
    "    ketvec.append(kettrans)\n",
    "   \n",
    "    \n",
    "bravec = []\n",
    "for i in range(4):\n",
    "    bratrans = [0,0,0,0]\n",
    "    bratrans[i] = 1\n",
    "    bravec.append(bratrans)\n",
    "\n",
    "rhoterms = []\n",
    "for i in range(4):\n",
    "    for j in range(4):\n",
    "        for k in range(len(edgesx)):\n",
    "            rhoterms.append((np.kron(ketvec[i],bravec[j])/len(edgesx)).tolist())    \n",
    "\n",
    "rhoindexx = []\n",
    "for i in range(4):\n",
    "    for j in range(4):\n",
    "        rhoindexx.append('rhox%d%d'%(i,j))"
   ]
  },
  {
   "cell_type": "code",
   "execution_count": null,
   "metadata": {},
   "outputs": [
    {
     "name": "stderr",
     "output_type": "stream",
     "text": [
      "/home/lcx/.local/lib/python3.6/site-packages/ipykernel_launcher.py:19: FutureWarning: Call to deprecated function 'add_observable'\n",
      "100%|██████████| 100/100 [01:20<00:00,  1.24it/s, Energy=(-24.99926 + 0.00037i) ± 0.00100 [var=0.00048, R=1.00354]]\n",
      "100%|██████████| 100/100 [01:24<00:00,  1.18it/s, Energy=(-25.1991 + 0.0010i) ± 0.0015 [var=0.0018, R=0.99685]]\n",
      "100%|██████████| 100/100 [01:25<00:00,  1.16it/s, Energy=(-25.996 - 0.000i) ± 0.012 [var=0.056, R=1.00611]]   \n",
      "100%|██████████| 100/100 [01:27<00:00,  1.14it/s, Energy=(-29.166 + 0.001i) ± 0.059 [var=0.863, R=1.01934]]\n",
      "100%|██████████| 100/100 [01:29<00:00,  1.11it/s, Energy=(-35.283 - 0.000i) ± 0.032 [var=0.236, R=1.02085]]\n",
      "100%|██████████| 100/100 [01:31<00:00,  1.10it/s, Energy=(-41.720 - 0.002i) ± 0.012 [var=0.074, R=1.00282]]   \n",
      "100%|██████████| 100/100 [01:32<00:00,  1.08it/s, Energy=(-48.5012 - 0.0045i) ± 0.0091 [var=0.0462, R=1.00119]]\n",
      "100%|██████████| 100/100 [01:34<00:00,  1.05it/s, Energy=(-55.5238 + 0.0018i) ± 0.0052 [var=0.0180, R=0.99864]]\n",
      "100%|██████████| 100/100 [01:33<00:00,  1.07it/s, Energy=(-62.6348 + 0.0008i) ± 0.0085 [var=0.0387, R=1.00184]]\n",
      "100%|██████████| 100/100 [01:34<00:00,  1.06it/s, Energy=(-69.8454 + 0.0019i) ± 0.0054 [var=0.0078, R=1.01609]]\n",
      "100%|██████████| 100/100 [01:34<00:00,  1.05it/s, Energy=(-77.1133 + 0.0004i) ± 0.0045 [var=0.0108, R=1.00191]]\n"
     ]
    }
   ],
   "source": [
    "exact_result = []\n",
    "e_m=[]\n",
    "\n",
    "for J in np.arange(0, 1.01, 0.1):\n",
    "    ha = nk.operator.LocalOperator(hi)\n",
    "    for i in edges:\n",
    "        ha += nk.operator.LocalOperator(hi, (-J*np.kron(sz,sz)).tolist(), i)\n",
    "    for i in range(L):\n",
    "        ha += -h*nk.operator.LocalOperator(hi, sx ,[i])\n",
    "    ma=nk.machine.RbmSpin(hilbert=hi, alpha=1)\n",
    "    ma.init_random_parameters(seed=123,sigma=0.01)\n",
    "    sa=nk.sampler.MetropolisLocal(machine=ma)\n",
    "    op=nk.optimizer.Sgd(learning_rate=0.01)\n",
    "    gs=nk.variational.Vmc(hamiltonian=ha,sampler=sa,optimizer=op,n_samples=600\n",
    "                                  ,use_iterative=True,diag_shift=1e-8,method='Sr')\n",
    "############################ coherence ############################################   \n",
    "    for i in range(16):\n",
    "        rhoterms_factorx = nk.operator.LocalOperator(hi,rhoterms[i*len(edgesx):(i+1)*len(edgesx)],edgesx)\n",
    "        gs.add_observable(rhoterms_factorx, rhoindexx[i])\n",
    "############################ Magnization ########################################## \n",
    "#     sxx = nk.operator.LocalOperator(hi, [sx] * L, [[i] for i in range(L)])\n",
    "#     gs.add_observable(sxx, \"MX\")\n",
    "########################### exact #################################################\n",
    "#     res = nk.exact.lanczos_ed(ha, first_n=1, compute_eigenvectors=True)\n",
    "#     exact_result.append(res.eigenvalues[0])#exact energy\n",
    "#     e_m.append(res.mean(sxx, 0)/L)#exact magnization\n",
    "# #     print(\"Mx: {0:.3f}\".format((res.mean(sxx, 0)/L)))\n",
    "#     print('The exact ground-state energy is E0=',res.eigenvalues[0])  \n",
    "    gs.run(n_iter=100,output_prefix=\"<5text%0.2f>\"%(J))"
   ]
  },
  {
   "cell_type": "markdown",
   "metadata": {},
   "source": [
    "# add spin-structure factor:\n"
   ]
  },
  {
   "cell_type": "markdown",
   "metadata": {},
   "source": [
    "$$\n",
    "S^{xx}(\\vec{k})=\\frac{1}{N(N-1)}\\sum_{l\\neq j}e^{-i\\vec{k}.(\\vec{r_l}-\\vec{r_j})}\\langle\\sigma_l^x\\sigma_j^x\\rangle,\n",
    "$$\n",
    "where $\\vec{k}=(2\\pi/3,0)$"
   ]
  },
  {
   "cell_type": "code",
   "execution_count": null,
   "metadata": {},
   "outputs": [],
   "source": [
    "####### ################ Structure FactorX ###########################################\n",
    "msxsx = (np.kron(sx, sx)) \n",
    "sfx = []\n",
    "sitesfx = []\n",
    "for i in range(0, L):\n",
    "    for k in range(0, L):\n",
    "        if i==k:\n",
    "            pass\n",
    "        else:\n",
    "            sfx.append((cmath.exp(-complex(0,2*(k-i)*3.14/3))*msxsx).tolist())\n",
    "            sitesfx.append([i,k])\n",
    "structure_factorx = netket.operator.LocalOperator(hi, sfx, sitesfx)\n",
    "gs.add_observable(structure_factorx, \"Structure FactorX\")"
   ]
  },
  {
   "cell_type": "markdown",
   "metadata": {},
   "source": [
    "# Plot"
   ]
  },
  {
   "cell_type": "code",
   "execution_count": null,
   "metadata": {},
   "outputs": [
    {
     "name": "stdout",
     "output_type": "stream",
     "text": [
      "J=0.00 is loadded\n",
      "J=0.10 is loadded\n",
      "J=0.20 is loadded\n",
      "J=0.30 is loadded\n",
      "J=0.40 is loadded\n",
      "J=0.50 is loadded\n",
      "J=0.60 is loadded\n",
      "J=0.70 is loadded\n",
      "J=0.80 is loadded\n",
      "J=0.90 is loadded\n",
      "J=1.00 is loadded\n"
     ]
    },
    {
     "data": {
      "image/png": "[encoded data removed]",
      "text/plain": [
       "<Figure size 432x288 with 1 Axes>"
      ]
     },
     "metadata": {
      "needs_background": "light"
     },
     "output_type": "display_data"
    }
   ],
   "source": [
    "Energy = []\n",
    "Energy_std = []#errorbar\n",
    "MX_RBM=[]\n",
    "for J in np.arange(0, 1.01, 0.1):\n",
    "    data = json.load(open(\"<text%0.2f>.log\"%(J)))\n",
    "    iters = []\n",
    "    energy = []\n",
    "    ma = []\n",
    "    print(\"J=%0.2f is loadded\"%(J))\n",
    "    for iteration in data[\"Output\"]:\n",
    "        iters.append(iteration[\"Iteration\"])\n",
    "        energy.append(iteration[\"Energy\"][\"Mean\"])\n",
    "        ma.append(iteration[\"MX\"][\"Mean\"]/L)\n",
    "    Energy.append(np.mean(energy[-20:]))\n",
    "    Energy_std = np.std(energy[-20:])\n",
    "    MX_RBM.append(np.mean(ma[-20:]))\n",
    "    \n",
    "x=np.arange(0, 1.01, 0.1)\n",
    "fig, ax = plt.subplots()\n",
    "ax.plot(x, Energy, label='RBM')\n",
    "ax.plot(x, exact_result, linestyle='--', label='Exact')\n",
    "ax.legend()\n",
    "ax.set_xlabel('J')\n",
    "ax.set_ylabel(\"Energy\")\n",
    "plt.show()"
   ]
  },
  {
   "cell_type": "code",
   "execution_count": null,
   "metadata": {},
   "outputs": [
    {
     "data": {
      "image/png": "[encoded data removed]",
      "text/plain": [
       "<Figure size 432x288 with 1 Axes>"
      ]
     },
     "metadata": {
      "needs_background": "light"
     },
     "output_type": "display_data"
    }
   ],
   "source": [
    "x=np.arange(0, 1.01, 0.1)\n",
    "fig, ax = plt.subplots()\n",
    "ax.plot(x, MX_RBM, label='RBM')\n",
    "ax.plot(x, e_m, label='Exact')\n",
    "ax.legend()\n",
    "ax.set_xlabel('J')\n",
    "ax.set_ylabel(\"Magnization\")\n",
    "plt.show()"
   ]
  },
  {
   "cell_type": "markdown",
   "metadata": {},
   "source": [
    "$l_1$-norm coherence:  $$C_{l_1}=\\sum_{i\\neq j}|\\rho_{ij}|$$"
   ]
  },
  {
   "cell_type": "code",
   "execution_count": null,
   "metadata": {},
   "outputs": [
    {
     "name": "stdout",
     "output_type": "stream",
     "text": [
      "J=0.00 is loadded\n",
      "J=0.10 is loadded\n",
      "J=0.20 is loadded\n",
      "J=0.30 is loadded\n",
      "J=0.40 is loadded\n",
      "J=0.50 is loadded\n",
      "J=0.60 is loadded\n",
      "J=0.70 is loadded\n",
      "J=0.80 is loadded\n",
      "J=0.90 is loadded\n",
      "J=1.00 is loadded\n"
     ]
    },
    {
     "data": {
      "image/png": "[encoded data removed]",
      "text/plain": [
       "<Figure size 432x288 with 1 Axes>"
      ]
     },
     "metadata": {
      "needs_background": "light"
     },
     "output_type": "display_data"
    }
   ],
   "source": [
    "cox = []\n",
    "for J in np.arange(0, 1.01, 0.1):\n",
    "    data = json.load(open(\"<text%0.2f>.log\"%(J)))\n",
    "    iters = []\n",
    "    energy = []\n",
    "    rho00x=[]\n",
    "    rho11x=[]\n",
    "    rho22x=[]\n",
    "    rho33x=[]\n",
    "    rho01x = []\n",
    "    rho02x = []\n",
    "    rho03x = []\n",
    "    rho10x = []\n",
    "    rho12x = []\n",
    "    rho13x = []\n",
    "    rho20x = []\n",
    "    rho21x = []\n",
    "    rho23x = []\n",
    "    rho30x = []\n",
    "    rho31x = []\n",
    "    rho32x = []\n",
    "    print(\"J=%0.2f is loadded\"%(J))\n",
    "    for iteration in data[\"Output\"]:\n",
    "        iters.append(iteration[\"Iteration\"])\n",
    "        energy.append(iteration[\"Energy\"][\"Mean\"])\n",
    "        rho00x.append(iteration[\"rhox00\"][\"Mean\"])\n",
    "        rho11x.append(iteration[\"rhox11\"][\"Mean\"])\n",
    "        rho22x.append(iteration[\"rhox22\"][\"Mean\"])\n",
    "        rho33x.append(iteration[\"rhox33\"][\"Mean\"])        \n",
    "        rho01x.append(iteration[\"rhox01\"][\"Mean\"])\n",
    "        rho02x.append(iteration[\"rhox02\"][\"Mean\"])\n",
    "        rho03x.append(iteration[\"rhox03\"][\"Mean\"])\n",
    "        rho10x.append(iteration[\"rhox10\"][\"Mean\"])\n",
    "        rho12x.append(iteration[\"rhox12\"][\"Mean\"])\n",
    "        rho13x.append(iteration[\"rhox13\"][\"Mean\"])\n",
    "        rho20x.append(iteration[\"rhox20\"][\"Mean\"])\n",
    "        rho21x.append(iteration[\"rhox21\"][\"Mean\"])\n",
    "        rho23x.append(iteration[\"rhox23\"][\"Mean\"])\n",
    "        rho30x.append(iteration[\"rhox30\"][\"Mean\"])\n",
    "        rho31x.append(iteration[\"rhox31\"][\"Mean\"])\n",
    "        rho32x.append(iteration[\"rhox32\"][\"Mean\"])\n",
    "    ax=np.abs(np.mean(rho01x[-20:]))+np.abs(np.mean(rho02x[-20:]))+np.abs(np.mean(rho03x[-20:]))+np.abs(np.mean(rho10x[-20:]))+np.abs(np.mean(rho12x[-20:]))+np.abs(np.mean(rho13x[-20:]))+np.abs(np.mean(rho20x[-20:]))+np.abs(np.mean(rho21x[-20:]))+np.abs(np.mean(rho23x[-20:]))+np.abs(np.mean(rho30x[-20:]))+np.abs(np.mean(rho31x[-20:]))+np.abs(np.mean(rho32x[-20:]))\n",
    "    cox.append(ax)\n",
    "\n",
    "x=np.arange(0, 1.01, 0.1)\n",
    "fig, ax = plt.subplots()\n",
    "ax.plot(x, cox)\n",
    "ax.set_xlabel('J')\n",
    "ax.set_ylabel(\"Coherence\")\n",
    "plt.show()"
   ]
  },
  {
   "cell_type": "code",
   "execution_count": null,
   "metadata": {},
   "outputs": [
    {
     "name": "stdout",
     "output_type": "stream",
     "text": [
      "J=0.00 is loadded\n",
      "J=0.10 is loadded\n",
      "J=0.20 is loadded\n",
      "J=0.30 is loadded\n",
      "J=0.40 is loadded\n",
      "J=0.50 is loadded\n",
      "J=0.60 is loadded\n",
      "J=0.70 is loadded\n",
      "J=0.80 is loadded\n",
      "J=0.90 is loadded\n",
      "J=1.00 is loadded\n"
     ]
    },
    {
     "data": {
      "image/png": "[encoded data removed]",
      "text/plain": [
       "<Figure size 432x288 with 1 Axes>"
      ]
     },
     "metadata": {
      "needs_background": "light"
     },
     "output_type": "display_data"
    }
   ],
   "source": [
    "cox5 = []\n",
    "for J in np.arange(0, 1.01, 0.1):\n",
    "    data = json.load(open(\"<5text%0.2f>.log\"%(J)))\n",
    "    iters = []\n",
    "    energy = []\n",
    "    rho00x=[]\n",
    "    rho11x=[]\n",
    "    rho22x=[]\n",
    "    rho33x=[]\n",
    "    rho01x = []\n",
    "    rho02x = []\n",
    "    rho03x = []\n",
    "    rho10x = []\n",
    "    rho12x = []\n",
    "    rho13x = []\n",
    "    rho20x = []\n",
    "    rho21x = []\n",
    "    rho23x = []\n",
    "    rho30x = []\n",
    "    rho31x = []\n",
    "    rho32x = []\n",
    "    print(\"J=%0.2f is loadded\"%(J))\n",
    "    for iteration in data[\"Output\"]:\n",
    "        iters.append(iteration[\"Iteration\"])\n",
    "        energy.append(iteration[\"Energy\"][\"Mean\"])\n",
    "        rho00x.append(iteration[\"rhox00\"][\"Mean\"])\n",
    "        rho11x.append(iteration[\"rhox11\"][\"Mean\"])\n",
    "        rho22x.append(iteration[\"rhox22\"][\"Mean\"])\n",
    "        rho33x.append(iteration[\"rhox33\"][\"Mean\"])        \n",
    "        rho01x.append(iteration[\"rhox01\"][\"Mean\"])\n",
    "        rho02x.append(iteration[\"rhox02\"][\"Mean\"])\n",
    "        rho03x.append(iteration[\"rhox03\"][\"Mean\"])\n",
    "        rho10x.append(iteration[\"rhox10\"][\"Mean\"])\n",
    "        rho12x.append(iteration[\"rhox12\"][\"Mean\"])\n",
    "        rho13x.append(iteration[\"rhox13\"][\"Mean\"])\n",
    "        rho20x.append(iteration[\"rhox20\"][\"Mean\"])\n",
    "        rho21x.append(iteration[\"rhox21\"][\"Mean\"])\n",
    "        rho23x.append(iteration[\"rhox23\"][\"Mean\"])\n",
    "        rho30x.append(iteration[\"rhox30\"][\"Mean\"])\n",
    "        rho31x.append(iteration[\"rhox31\"][\"Mean\"])\n",
    "        rho32x.append(iteration[\"rhox32\"][\"Mean\"])\n",
    "    ax=np.abs(np.mean(rho01x[-20:]))+np.abs(np.mean(rho02x[-20:]))+np.abs(np.mean(rho03x[-20:]))+np.abs(np.mean(rho10x[-20:]))+np.abs(np.mean(rho12x[-20:]))+np.abs(np.mean(rho13x[-20:]))+np.abs(np.mean(rho20x[-20:]))+np.abs(np.mean(rho21x[-20:]))+np.abs(np.mean(rho23x[-20:]))+np.abs(np.mean(rho30x[-20:]))+np.abs(np.mean(rho31x[-20:]))+np.abs(np.mean(rho32x[-20:]))\n",
    "    cox5.append(ax)\n",
    "\n",
    "x=np.arange(0, 1.01, 0.1)\n",
    "fig, ax = plt.subplots()\n",
    "ax.plot(x, cox5)\n",
    "ax.set_xlabel('J')\n",
    "ax.set_ylabel(\"Coherence\")\n",
    "plt.show()"
   ]
  },
  {
   "cell_type": "code",
   "execution_count": null,
   "metadata": {},
   "outputs": [
    {
     "data": {
      "image/png": "[encoded data removed]",
      "text/plain": [
       "<Figure size 432x288 with 1 Axes>"
      ]
     },
     "metadata": {
      "needs_background": "light"
     },
     "output_type": "display_data"
    },
    {
     "data": {
      "text/plain": [
       "<Figure size 432x288 with 0 Axes>"
      ]
     },
     "metadata": {},
     "output_type": "display_data"
    }
   ],
   "source": [
    "fig, ax = plt.subplots()\n",
    "ax.plot(x, cox, label='4*4')\n",
    "ax.plot(x, cox5, label='5*5')\n",
    "ax.legend()\n",
    "ax.set_xlabel('g')\n",
    "ax.set_ylabel(\"C\")\n",
    "plt.show()\n",
    "plt.savefig(\"co.pdf\")"
   ]
  },
  {
   "cell_type": "markdown",
   "metadata": {},
   "source": [
    "# Plot coherence\\energy\\magnization\\structure factorx for different size in one plot:"
   ]
  },
  {
   "cell_type": "code",
   "execution_count": null,
   "metadata": {},
   "outputs": [],
   "source": []
  }
 ],
 "metadata": {
  "kernelspec": {
   "display_name": "Python 3",
   "language": "python",
   "name": "python3"
  },
  "language_info": {
   "codemirror_mode": {
    "name": "ipython",
    "version": 3
   },
   "file_extension": ".py",
   "mimetype": "text/x-python",
   "name": "python",
   "nbconvert_exporter": "python",
   "pygments_lexer": "ipython3",
   "version": "3.8.10"
  }
 },
 "nbformat": 4,
 "nbformat_minor": 4
}

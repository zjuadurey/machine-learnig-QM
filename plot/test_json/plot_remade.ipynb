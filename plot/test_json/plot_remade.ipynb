{
 "cells": [
  {
   "cell_type": "code",
   "execution_count": 28,
   "metadata": {},
   "outputs": [],
   "source": [
    "import json\n",
    "import numpy as np\n",
    "import math\n",
    "import json\n",
    "import matplotlib.pyplot as plt"
   ]
  },
  {
   "cell_type": "code",
   "execution_count": 54,
   "metadata": {},
   "outputs": [
    {
     "name": "stdout",
     "output_type": "stream",
     "text": [
      "g=0.00 is loadded\n",
      "g=0.10 is loadded\n",
      "g=0.20 is loadded\n",
      "g=0.30 is loadded\n",
      "g=0.40 is loadded\n",
      "g=0.50 is loadded\n",
      "g=0.60 is loadded\n",
      "g=0.70 is loadded\n",
      "g=0.80 is loadded\n",
      "g=0.90 is loadded\n",
      "g=1.00 is loadded\n"
     ]
    }
   ],
   "source": [
    "#StructureFactorX.real\n",
    "#energy\n",
    "\n",
    "stuXr = []\n",
    "energy = []\n",
    "\n",
    "for g in np.arange(0, 1.01, 0.1):\n",
    "    data = json.load(open(\"<text%0.2f_iter_10>.log\"%(g)))\n",
    "    print(\"g=%0.2f is loadded\"%(g))\n",
    "    enegry_each_g = []\n",
    "    for iteration in data[\"Energy\"][\"Mean\"]:\n",
    "        enegry_each_g.append(iteration)\n",
    "    enegry_each_g_mean = abs(np.mean(enegry_each_g[-5:]))\n",
    "    energy.append(enegry_each_g_mean)\n"
   ]
  },
  {
   "cell_type": "code",
   "execution_count": 55,
   "metadata": {},
   "outputs": [
    {
     "data": {
      "text/plain": [
       "[12.159181012038422,\n",
       " 12.236652019917742,\n",
       " 12.055904485295779,\n",
       " 10.376130533821081,\n",
       " 12.830279842487107,\n",
       " 12.546915950988316,\n",
       " 14.254850868801658,\n",
       " 11.962903714937356,\n",
       " 19.096923602511662,\n",
       " 15.36374982937195,\n",
       " 23.52135357591767]"
      ]
     },
     "execution_count": 55,
     "metadata": {},
     "output_type": "execute_result"
    }
   ],
   "source": [
    "energy"
   ]
  },
  {
   "cell_type": "code",
   "execution_count": 40,
   "metadata": {},
   "outputs": [
    {
     "data": {
      "text/plain": [
       "[0, 1, 2, 3, 4, 5, 6, 7, 8, 9]"
      ]
     },
     "execution_count": 40,
     "metadata": {},
     "output_type": "execute_result"
    }
   ],
   "source": [
    "data[\"Energy\"][\"iters\"]"
   ]
  },
  {
   "cell_type": "code",
   "execution_count": 42,
   "metadata": {},
   "outputs": [
    {
     "data": {
      "text/plain": [
       "[-9.79025659081064,\n",
       " -10.082409469499012,\n",
       " -10.527779734836676,\n",
       " -10.930780108865639,\n",
       " -11.23739194013511,\n",
       " -11.551205024036342,\n",
       " -11.875227785870683,\n",
       " -12.036535421096247,\n",
       " -12.628357257239431,\n",
       " -12.704579571949406]"
      ]
     },
     "execution_count": 42,
     "metadata": {},
     "output_type": "execute_result"
    }
   ],
   "source": [
    "data[\"Energy\"][\"Mean\"]"
   ]
  },
  {
   "cell_type": "code",
   "execution_count": 56,
   "metadata": {},
   "outputs": [
    {
     "data": {
      "image/png": "[encoded data removed]",
      "text/plain": [
       "<Figure size 432x288 with 1 Axes>"
      ]
     },
     "metadata": {
      "needs_background": "light"
     },
     "output_type": "display_data"
    }
   ],
   "source": [
    "x=np.arange(0, 1.01, 0.1)\n",
    "fig, ax = plt.subplots()\n",
    "ax.plot(x, energy)\n",
    "ax.set_xlabel('h')\n",
    "ax.set_ylabel(\"energy\")\n",
    "plt.show()"
   ]
  },
  {
   "cell_type": "code",
   "execution_count": 32,
   "metadata": {},
   "outputs": [
    {
     "data": {
      "text/plain": [
       "array([0. , 0.1, 0.2, 0.3, 0.4, 0.5, 0.6, 0.7, 0.8, 0.9, 1. ])"
      ]
     },
     "execution_count": 32,
     "metadata": {},
     "output_type": "execute_result"
    }
   ],
   "source": [
    "x"
   ]
  },
  {
   "cell_type": "code",
   "execution_count": null,
   "metadata": {},
   "outputs": [],
   "source": []
  }
 ],
 "metadata": {
  "interpreter": {
   "hash": "987688c839ca28ac7d9017b372dc0b736c48f43e7527017ea291fc87bc3eeb80"
  },
  "kernelspec": {
   "display_name": "Python 3.8.10 ('.netket_cpu': venv)",
   "language": "python",
   "name": "python3"
  },
  "language_info": {
   "codemirror_mode": {
    "name": "ipython",
    "version": 3
   },
   "file_extension": ".py",
   "mimetype": "text/x-python",
   "name": "python",
   "nbconvert_exporter": "python",
   "pygments_lexer": "ipython3",
   "version": "3.8.10"
  },
  "orig_nbformat": 4
 },
 "nbformat": 4,
 "nbformat_minor": 2
}

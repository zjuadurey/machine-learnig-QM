{
 "cells": [
  {
   "cell_type": "code",
   "execution_count": null,
   "metadata": {},
   "outputs": [],
   "source": []
  },
  {
   "cell_type": "code",
   "execution_count": 13,
   "metadata": {},
   "outputs": [],
   "source": [
    "import json\n",
    "import numpy as np\n",
    "import math\n",
    "import json\n",
    "import matplotlib.pyplot as plt"
   ]
  },
  {
   "cell_type": "code",
   "execution_count": 14,
   "metadata": {},
   "outputs": [],
   "source": [
    "#StructureFactorX.real\n",
    "#stuXr\n",
    "L = 7\n",
    "iter = 1000\n",
    "stuXr_1 = []\n",
    "g = 0.01\n",
    "\n",
    "for kx in np.arange(0, 101, 5):\n",
    "    for ky in np.arange(0, 101, 5):\n",
    "        #print(\"%d %d\"%(kx, ky))\n",
    "        stuXr_each_kx_ky = []\n",
    "        data = json.load(open(\"log_data_%d*%d_structure_factor_x_g_%0.2f/<text%0.2f_iter_%d_%d*%d_kx_%d_ky_%d>.log\"%(L, L, g, g, iter, L, L, kx, ky),))\n",
    "        for iteration in data[\"StructureFactorX\"][\"Mean\"][\"real\"]:\n",
    "            stuXr_each_kx_ky.append(iteration)\n",
    "        stuXr_each_kx_ky_mean = abs(np.mean(stuXr_each_kx_ky[-20:]))\n",
    "        stuXr_1.append(stuXr_each_kx_ky_mean)\n",
    "                               "
   ]
  },
  {
   "cell_type": "code",
   "execution_count": null,
   "metadata": {},
   "outputs": [],
   "source": [
    "stuXr_2 = []\n",
    "g2 = 1\n",
    "\n",
    "for kx in np.arange(0, 101, 5):\n",
    "    for ky in np.arange(0, 101, 5):\n",
    "        #print(\"%d %d\"%(kx, ky))\n",
    "        stuXr_each_kx_ky = []\n",
    "        data = json.load(open(\"log_data_%d*%d_structure_factor_x_g_%0.2f/<text%0.2f_iter_%d_%d*%d_kx_%d_ky_%d>.log\"%(L, L, g2, g2, iter, L, L, kx, ky),))\n",
    "        for iteration in data[\"StructureFactorX\"][\"Mean\"][\"real\"]:\n",
    "            stuXr_each_kx_ky.append(iteration)\n",
    "        stuXr_each_kx_ky_mean = abs(np.mean(stuXr_each_kx_ky[-20:]))\n",
    "        stuXr_2.append(stuXr_each_kx_ky_mean)"
   ]
  },
  {
   "cell_type": "code",
   "execution_count": 15,
   "metadata": {},
   "outputs": [],
   "source": [
    "G1 = np.reshape(stuXr_1, (-1, 21))\n",
    "G2 = np.reshape(stuXr_2, (-1, 21))"
   ]
  },
  {
   "cell_type": "code",
   "execution_count": 20,
   "metadata": {},
   "outputs": [
    {
     "name": "stderr",
     "output_type": "stream",
     "text": [
      "/tmp/ipykernel_23340/3660633077.py:10: MatplotlibDeprecationWarning: Auto-removal of grids by pcolor() and pcolormesh() is deprecated since 3.5 and will be removed two minor releases later; please call grid(False) first.\n",
      "  pcm = ax.pcolormesh(B,\n",
      "/tmp/ipykernel_23340/3660633077.py:12: MatplotlibDeprecationWarning: Auto-removal of grids by pcolor() and pcolormesh() is deprecated since 3.5 and will be removed two minor releases later; please call grid(False) first.\n",
      "  fig.colorbar(pcm, ax=ax)\n"
     ]
    },
    {
     "data": {
      "image/png": "[encoded data removed]",
      "text/plain": [
       "<Figure size 432x288 with 2 Axes>"
      ]
     },
     "metadata": {},
     "output_type": "display_data"
    }
   ],
   "source": [
    "# Fixing random state for reproducibility\n",
    "np.random.seed(1968011)\n",
    "plt.style.use('seaborn-darkgrid') # 设置画图的风格 \n",
    "fig, axs = plt.subplots(1, 1)\n",
    "#cmaps = 'viridis'\n",
    "cmaps = 'RdBu_r'\n",
    "for col in range(1):\n",
    "    for row in range(1):\n",
    "        ax = axs\n",
    "        pcm = ax.pcolormesh(B,\n",
    "                            cmap=cmaps)\n",
    "        fig.colorbar(pcm, ax=ax)\n",
    "plt.xlabel('kx')\n",
    "plt.ylabel(\"ky\")\n",
    "plt.title(\"StructureFactorX.real %d x %d g %.2f\"%(L, L, g))\n",
    "plt.savefig(\"pic_structure_factor_x_2_d/g_%.2f_%d*%d.png\"%(g, L, L))\n",
    "plt.show()"
   ]
  }
 ],
 "metadata": {
  "interpreter": {
   "hash": "987688c839ca28ac7d9017b372dc0b736c48f43e7527017ea291fc87bc3eeb80"
  },
  "kernelspec": {
   "display_name": "Python 3.8.10 ('.netket_cpu': venv)",
   "language": "python",
   "name": "python3"
  },
  "language_info": {
   "codemirror_mode": {
    "name": "ipython",
    "version": 3
   },
   "file_extension": ".py",
   "mimetype": "text/x-python",
   "name": "python",
   "nbconvert_exporter": "python",
   "pygments_lexer": "ipython3",
   "version": "3.8.10"
  },
  "orig_nbformat": 4
 },
 "nbformat": 4,
 "nbformat_minor": 2
}

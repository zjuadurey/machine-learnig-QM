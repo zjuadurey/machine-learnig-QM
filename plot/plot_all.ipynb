{
 "cells": [
  {
   "cell_type": "code",
   "execution_count": 35,
   "metadata": {},
   "outputs": [],
   "source": [
    "import json\n",
    "import numpy as np\n",
    "import math\n",
    "import json\n",
    "import matplotlib.pyplot as plt"
   ]
  },
  {
   "cell_type": "code",
   "execution_count": 36,
   "metadata": {},
   "outputs": [
    {
     "name": "stdout",
     "output_type": "stream",
     "text": [
      "g=0.00 is loadded\n",
      "g=0.05 is loadded\n",
      "g=0.10 is loadded\n",
      "g=0.15 is loadded\n",
      "g=0.20 is loadded\n",
      "g=0.25 is loadded\n",
      "g=0.30 is loadded\n",
      "g=0.35 is loadded\n",
      "g=0.40 is loadded\n",
      "g=0.45 is loadded\n",
      "g=0.50 is loadded\n",
      "g=0.55 is loadded\n",
      "g=0.60 is loadded\n",
      "g=0.65 is loadded\n",
      "g=0.70 is loadded\n",
      "g=0.75 is loadded\n",
      "g=0.80 is loadded\n",
      "g=0.85 is loadded\n",
      "g=0.90 is loadded\n",
      "g=0.95 is loadded\n",
      "g=1.00 is loadded\n"
     ]
    }
   ],
   "source": [
    "#StructureFactorX.real\n",
    "#energy\n",
    "L = 7\n",
    "iter = 1000\n",
    "stuXr = []\n",
    "energy = []\n",
    "#coherence\n",
    "cox = []\n",
    "\n",
    "for g in np.arange(0, 1.01, 0.05):\n",
    "    data = json.load(open(\"log_data_%d*%d_all/<text%0.2f_iter_%d_%d*%d>.log\"%(L, L, g, iter, L, L),))\n",
    "    print(\"g=%0.2f is loadded\"%(g))\n",
    "    energy_each_g = []\n",
    "    stuXr_each_g = []\n",
    "\n",
    "    rho01x = []\n",
    "    rho02x = []\n",
    "    rho03x = []\n",
    "    rho10x = []\n",
    "    rho12x = []\n",
    "    rho13x = []\n",
    "    rho20x = []\n",
    "    rho21x = []\n",
    "    rho23x = []\n",
    "    rho30x = []\n",
    "    rho31x = []\n",
    "    rho32x = []\n",
    "\n",
    "\n",
    "    for iteration in data[\"StructureFactorX\"][\"Mean\"][\"real\"]:\n",
    "        stuXr_each_g.append(iteration)\n",
    "    stuXr_each_g_mean = abs(np.mean(stuXr_each_g[-20:]))\n",
    "    stuXr.append(stuXr_each_g_mean)\n",
    "\n",
    "    for iteration in data[\"Energy\"][\"Mean\"]:\n",
    "        energy_each_g.append(iteration)\n",
    "    energy_each_g_mean = abs(np.mean(energy_each_g[-20:]))\n",
    "    energy.append(energy_each_g_mean)\n",
    "\n",
    "    for iteration in data[\"rhox01\"][\"Mean\"]:\n",
    "        rho01x.append(iteration)\n",
    "    for iteration in data[\"rhox02\"][\"Mean\"]:\n",
    "        rho02x.append(iteration)\n",
    "    for iteration in data[\"rhox03\"][\"Mean\"]:\n",
    "        rho03x.append(iteration)\n",
    "    for iteration in data[\"rhox10\"][\"Mean\"]:\n",
    "        rho10x.append(iteration)\n",
    "    for iteration in data[\"rhox12\"][\"Mean\"]:\n",
    "        rho12x.append(iteration)\n",
    "    for iteration in data[\"rhox13\"][\"Mean\"]:\n",
    "        rho13x.append(iteration)\n",
    "    for iteration in data[\"rhox20\"][\"Mean\"]:\n",
    "        rho20x.append(iteration)\n",
    "    for iteration in data[\"rhox21\"][\"Mean\"]:\n",
    "        rho21x.append(iteration)\n",
    "    for iteration in data[\"rhox23\"][\"Mean\"]:\n",
    "        rho23x.append(iteration)\n",
    "    for iteration in data[\"rhox30\"][\"Mean\"]:\n",
    "        rho30x.append(iteration)\n",
    "    for iteration in data[\"rhox31\"][\"Mean\"]:\n",
    "        rho31x.append(iteration)\n",
    "    for iteration in data[\"rhox32\"][\"Mean\"]:\n",
    "        rho32x.append(iteration)\n",
    "        \n",
    "    ax=np.abs(np.mean(rho01x[-20:]))+np.abs(np.mean(rho02x[-20:]))+np.abs(np.mean(rho03x[-20:]))+np.abs(np.mean(rho10x[-20:]))+np.abs(np.mean(rho12x[-20:]))+np.abs(np.mean(rho13x[-20:]))+np.abs(np.mean(rho20x[-20:]))+np.abs(np.mean(rho21x[-20:]))+np.abs(np.mean(rho23x[-20:]))+np.abs(np.mean(rho30x[-20:]))+np.abs(np.mean(rho31x[-20:]))+np.abs(np.mean(rho32x[-20:]))\n",
    "    cox.append(ax)\n",
    "\n"
   ]
  },
  {
   "cell_type": "code",
   "execution_count": 37,
   "metadata": {},
   "outputs": [
    {
     "data": {
      "text/plain": [
       "[2.510213676201159,\n",
       " 2.9931682790477203,\n",
       " 2.8838217380035673,\n",
       " 2.909688805825441,\n",
       " 2.7217247405210414,\n",
       " 1.8932236540925322,\n",
       " 1.4843170776277863,\n",
       " 1.214746369485571,\n",
       " 1.0831082044498153,\n",
       " 0.9047393372890953,\n",
       " 0.7965668338236921,\n",
       " 0.7101548214260552,\n",
       " 0.685538600940267,\n",
       " 0.5859844478592671,\n",
       " 0.5333432813341696,\n",
       " 0.5147086261860803,\n",
       " 0.4613105129222368,\n",
       " 0.4387912860781718,\n",
       " 0.40981225265885124,\n",
       " 0.38253295777601515,\n",
       " 0.36541737756467774]"
      ]
     },
     "execution_count": 37,
     "metadata": {},
     "output_type": "execute_result"
    }
   ],
   "source": [
    "cox"
   ]
  },
  {
   "cell_type": "code",
   "execution_count": 38,
   "metadata": {},
   "outputs": [
    {
     "data": {
      "image/png": "[encoded data removed]",
      "text/plain": [
       "<Figure size 432x288 with 1 Axes>"
      ]
     },
     "metadata": {},
     "output_type": "display_data"
    }
   ],
   "source": [
    "x=np.arange(0, 1.01, 0.05)\n",
    "plt.style.use('seaborn-darkgrid') # 设置画图的风格 \n",
    "fig, ax = plt.subplots()\n",
    "ax.plot(x, stuXr)\n",
    "ax.set_xlabel('g')\n",
    "ax.set_ylabel(\"StructureFactorX.real\")\n",
    "plt.title(\"%d x %d\"%(L, L))\n",
    "plt.show()"
   ]
  },
  {
   "cell_type": "code",
   "execution_count": 39,
   "metadata": {},
   "outputs": [
    {
     "data": {
      "text/plain": [
       "[7.478720068820534,\n",
       " 10.406549362484515,\n",
       " 10.137606415647703,\n",
       " 9.66566133932765,\n",
       " 8.325680674968847,\n",
       " 4.269560693296728,\n",
       " 3.3326547157198405,\n",
       " 1.935415218817522,\n",
       " 2.5819496225816434,\n",
       " 1.1884314560134133,\n",
       " 0.8800001810650894,\n",
       " 0.8738791126559459,\n",
       " 0.4668960135324697,\n",
       " 0.5264793084900334,\n",
       " 0.6558597811514503,\n",
       " 0.8201636638303877,\n",
       " 0.19440480872208618,\n",
       " 0.5558827954570256,\n",
       " 0.3245554044916615,\n",
       " 0.21238634578920018,\n",
       " 0.26069199249674574]"
      ]
     },
     "execution_count": 39,
     "metadata": {},
     "output_type": "execute_result"
    }
   ],
   "source": [
    "stuXr"
   ]
  },
  {
   "cell_type": "code",
   "execution_count": 40,
   "metadata": {},
   "outputs": [
    {
     "data": {
      "image/png": "[encoded data removed]",
      "text/plain": [
       "<Figure size 432x288 with 1 Axes>"
      ]
     },
     "metadata": {},
     "output_type": "display_data"
    }
   ],
   "source": [
    "x=np.arange(0, 1.01, 0.05)\n",
    "plt.style.use('seaborn-darkgrid') # 设置画图的风格 \n",
    "fig, ax = plt.subplots()\n",
    "ax.plot(x, energy)\n",
    "ax.set_xlabel('g')\n",
    "ax.set_ylabel(\"Energy\")\n",
    "plt.title(\"%d x %d\"%(L, L))\n",
    "plt.show()"
   ]
  },
  {
   "cell_type": "code",
   "execution_count": 41,
   "metadata": {},
   "outputs": [
    {
     "data": {
      "image/png": "[encoded data removed]",
      "text/plain": [
       "<Figure size 432x288 with 1 Axes>"
      ]
     },
     "metadata": {},
     "output_type": "display_data"
    }
   ],
   "source": [
    "x=np.arange(0, 1.01, 0.05)\n",
    "plt.style.use('seaborn-darkgrid') # 设置画图的风格 \n",
    "fig, ax = plt.subplots()\n",
    "ax.plot(x, cox)\n",
    "ax.set_xlabel('g')\n",
    "ax.set_ylabel(\"Cox\")\n",
    "plt.title(\"%d x %d\"%(L, L))\n",
    "plt.show()"
   ]
  },
  {
   "cell_type": "code",
   "execution_count": null,
   "metadata": {},
   "outputs": [],
   "source": []
  }
 ],
 "metadata": {
  "interpreter": {
   "hash": "987688c839ca28ac7d9017b372dc0b736c48f43e7527017ea291fc87bc3eeb80"
  },
  "kernelspec": {
   "display_name": "Python 3.8.10 ('.netket_cpu': venv)",
   "language": "python",
   "name": "python3"
  },
  "language_info": {
   "codemirror_mode": {
    "name": "ipython",
    "version": 3
   },
   "file_extension": ".py",
   "mimetype": "text/x-python",
   "name": "python",
   "nbconvert_exporter": "python",
   "pygments_lexer": "ipython3",
   "version": "3.8.10"
  },
  "orig_nbformat": 4
 },
 "nbformat": 4,
 "nbformat_minor": 2
}

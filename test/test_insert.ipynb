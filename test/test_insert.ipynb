{
 "cells": [
  {
   "cell_type": "code",
   "execution_count": 8,
   "metadata": {},
   "outputs": [
    {
     "name": "stdout",
     "output_type": "stream",
     "text": [
      "15\n"
     ]
    },
    {
     "data": {
      "image/png": "[encoded data removed]",
      "text/plain": [
       "<Figure size 432x288 with 2 Axes>"
      ]
     },
     "metadata": {
      "needs_background": "light"
     },
     "output_type": "display_data"
    }
   ],
   "source": [
    "# -*- coding: utf-8 -*- \n",
    "\"\"\" \n",
    "演示二维插值。 \n",
    "\"\"\" \n",
    "import numpy as np \n",
    "from scipy import interpolate \n",
    "import pylab as pl \n",
    "import matplotlib as mpl \n",
    " \n",
    "def func(x, y): \n",
    " return (x+y)*np.exp(-5.0*(x**2 + y**2)) \n",
    " \n",
    "# X-Y轴分为15*15的网格 \n",
    "y,x= np.mgrid[-1:1:15j, -1:1:15j] \n",
    " \n",
    "fvals = func(x,y) # 计算每个网格点上的函数值 15*15的值 \n",
    "print (len(fvals[0])) \n",
    " \n",
    "#三次样条二维插值 \n",
    "newfunc = interpolate.interp2d(x, y, fvals, kind='cubic') \n",
    " \n",
    "# 计算100*100的网格上的插值 \n",
    "xnew = np.linspace(-1,1,15)#x \n",
    "ynew = np.linspace(-1,1,15)#y \n",
    "fnew = newfunc(xnew, ynew)#仅仅是y值 100*100的值 \n",
    " \n",
    "# 绘图 \n",
    "# 为了更明显地比较插值前后的区别，使用关键字参数interpolation='nearest' \n",
    "# 关闭imshow()内置的插值运算。 \n",
    "pl.subplot(121) \n",
    "im1=pl.imshow(fvals, extent=[-1,1,-1,1], cmap=mpl.cm.hot, interpolation='nearest', origin=\"lower\")#pl.cm.jet \n",
    "#extent=[-1,1,-1,1]为x,y范围 favals为 \n",
    "pl.colorbar(im1, fraction=0.046, pad=0.04) \n",
    " \n",
    "\n",
    " \n",
    "pl.show() "
   ]
  },
  {
   "cell_type": "code",
   "execution_count": 6,
   "metadata": {},
   "outputs": [
    {
     "ename": "ValueError",
     "evalue": "'cubic' is not a valid value for interpolation; supported values are 'antialiased', 'none', 'nearest', 'bilinear', 'bicubic', 'spline16', 'spline36', 'hanning', 'hamming', 'hermite', 'kaiser', 'quadric', 'catrom', 'gaussian', 'bessel', 'mitchell', 'sinc', 'lanczos', 'blackman'",
     "output_type": "error",
     "traceback": [
      "\u001b[0;31m---------------------------------------------------------------------------\u001b[0m",
      "\u001b[0;31mValueError\u001b[0m                                Traceback (most recent call last)",
      "\u001b[1;32m/usr/local/machine-learnig-QM/test/test_insert.ipynb Cell 2'\u001b[0m in \u001b[0;36m<cell line: 2>\u001b[0;34m()\u001b[0m\n\u001b[1;32m      <a href='vscode-notebook-cell://wsl%2Bubuntu-20.04/usr/local/machine-learnig-QM/test/test_insert.ipynb#ch0000001vscode-remote?line=0'>1</a>\u001b[0m pl\u001b[39m.\u001b[39msubplot(\u001b[39m122\u001b[39m) \n\u001b[0;32m----> <a href='vscode-notebook-cell://wsl%2Bubuntu-20.04/usr/local/machine-learnig-QM/test/test_insert.ipynb#ch0000001vscode-remote?line=1'>2</a>\u001b[0m im2\u001b[39m=\u001b[39mpl\u001b[39m.\u001b[39;49mimshow(fnew, extent\u001b[39m=\u001b[39;49m[\u001b[39m-\u001b[39;49m\u001b[39m1\u001b[39;49m,\u001b[39m1\u001b[39;49m,\u001b[39m-\u001b[39;49m\u001b[39m1\u001b[39;49m,\u001b[39m1\u001b[39;49m], cmap\u001b[39m=\u001b[39;49mmpl\u001b[39m.\u001b[39;49mcm\u001b[39m.\u001b[39;49mhot, interpolation\u001b[39m=\u001b[39;49m\u001b[39m'\u001b[39;49m\u001b[39mcubic\u001b[39;49m\u001b[39m'\u001b[39;49m, origin\u001b[39m=\u001b[39;49m\u001b[39m\"\u001b[39;49m\u001b[39mlower\u001b[39;49m\u001b[39m\"\u001b[39;49m) \n\u001b[1;32m      <a href='vscode-notebook-cell://wsl%2Bubuntu-20.04/usr/local/machine-learnig-QM/test/test_insert.ipynb#ch0000001vscode-remote?line=2'>3</a>\u001b[0m pl\u001b[39m.\u001b[39mcolorbar(im2, fraction\u001b[39m=\u001b[39m\u001b[39m0.046\u001b[39m, pad\u001b[39m=\u001b[39m\u001b[39m0.04\u001b[39m)\n",
      "File \u001b[0;32m/usr/local/machine-learnig-QM/.netket_cpu/lib/python3.8/site-packages/matplotlib/_api/deprecation.py:456\u001b[0m, in \u001b[0;36mmake_keyword_only.<locals>.wrapper\u001b[0;34m(*args, **kwargs)\u001b[0m\n\u001b[1;32m    <a href='file:///usr/local/machine-learnig-QM/.netket_cpu/lib/python3.8/site-packages/matplotlib/_api/deprecation.py?line=449'>450</a>\u001b[0m \u001b[39mif\u001b[39;00m \u001b[39mlen\u001b[39m(args) \u001b[39m>\u001b[39m name_idx:\n\u001b[1;32m    <a href='file:///usr/local/machine-learnig-QM/.netket_cpu/lib/python3.8/site-packages/matplotlib/_api/deprecation.py?line=450'>451</a>\u001b[0m     warn_deprecated(\n\u001b[1;32m    <a href='file:///usr/local/machine-learnig-QM/.netket_cpu/lib/python3.8/site-packages/matplotlib/_api/deprecation.py?line=451'>452</a>\u001b[0m         since, message\u001b[39m=\u001b[39m\u001b[39m\"\u001b[39m\u001b[39mPassing the \u001b[39m\u001b[39m%(name)s\u001b[39;00m\u001b[39m \u001b[39m\u001b[39m%(obj_type)s\u001b[39;00m\u001b[39m \u001b[39m\u001b[39m\"\u001b[39m\n\u001b[1;32m    <a href='file:///usr/local/machine-learnig-QM/.netket_cpu/lib/python3.8/site-packages/matplotlib/_api/deprecation.py?line=452'>453</a>\u001b[0m         \u001b[39m\"\u001b[39m\u001b[39mpositionally is deprecated since Matplotlib \u001b[39m\u001b[39m%(since)s\u001b[39;00m\u001b[39m; the \u001b[39m\u001b[39m\"\u001b[39m\n\u001b[1;32m    <a href='file:///usr/local/machine-learnig-QM/.netket_cpu/lib/python3.8/site-packages/matplotlib/_api/deprecation.py?line=453'>454</a>\u001b[0m         \u001b[39m\"\u001b[39m\u001b[39mparameter will become keyword-only \u001b[39m\u001b[39m%(removal)s\u001b[39;00m\u001b[39m.\u001b[39m\u001b[39m\"\u001b[39m,\n\u001b[1;32m    <a href='file:///usr/local/machine-learnig-QM/.netket_cpu/lib/python3.8/site-packages/matplotlib/_api/deprecation.py?line=454'>455</a>\u001b[0m         name\u001b[39m=\u001b[39mname, obj_type\u001b[39m=\u001b[39m\u001b[39mf\u001b[39m\u001b[39m\"\u001b[39m\u001b[39mparameter of \u001b[39m\u001b[39m{\u001b[39;00mfunc\u001b[39m.\u001b[39m\u001b[39m__name__\u001b[39m\u001b[39m}\u001b[39;00m\u001b[39m()\u001b[39m\u001b[39m\"\u001b[39m)\n\u001b[0;32m--> <a href='file:///usr/local/machine-learnig-QM/.netket_cpu/lib/python3.8/site-packages/matplotlib/_api/deprecation.py?line=455'>456</a>\u001b[0m \u001b[39mreturn\u001b[39;00m func(\u001b[39m*\u001b[39;49margs, \u001b[39m*\u001b[39;49m\u001b[39m*\u001b[39;49mkwargs)\n",
      "File \u001b[0;32m/usr/local/machine-learnig-QM/.netket_cpu/lib/python3.8/site-packages/matplotlib/pyplot.py:2640\u001b[0m, in \u001b[0;36mimshow\u001b[0;34m(X, cmap, norm, aspect, interpolation, alpha, vmin, vmax, origin, extent, interpolation_stage, filternorm, filterrad, resample, url, data, **kwargs)\u001b[0m\n\u001b[1;32m   <a href='file:///usr/local/machine-learnig-QM/.netket_cpu/lib/python3.8/site-packages/matplotlib/pyplot.py?line=2633'>2634</a>\u001b[0m \u001b[39m@_copy_docstring_and_deprecators\u001b[39m(Axes\u001b[39m.\u001b[39mimshow)\n\u001b[1;32m   <a href='file:///usr/local/machine-learnig-QM/.netket_cpu/lib/python3.8/site-packages/matplotlib/pyplot.py?line=2634'>2635</a>\u001b[0m \u001b[39mdef\u001b[39;00m \u001b[39mimshow\u001b[39m(\n\u001b[1;32m   <a href='file:///usr/local/machine-learnig-QM/.netket_cpu/lib/python3.8/site-packages/matplotlib/pyplot.py?line=2635'>2636</a>\u001b[0m         X, cmap\u001b[39m=\u001b[39m\u001b[39mNone\u001b[39;00m, norm\u001b[39m=\u001b[39m\u001b[39mNone\u001b[39;00m, aspect\u001b[39m=\u001b[39m\u001b[39mNone\u001b[39;00m, interpolation\u001b[39m=\u001b[39m\u001b[39mNone\u001b[39;00m,\n\u001b[1;32m   <a href='file:///usr/local/machine-learnig-QM/.netket_cpu/lib/python3.8/site-packages/matplotlib/pyplot.py?line=2636'>2637</a>\u001b[0m         alpha\u001b[39m=\u001b[39m\u001b[39mNone\u001b[39;00m, vmin\u001b[39m=\u001b[39m\u001b[39mNone\u001b[39;00m, vmax\u001b[39m=\u001b[39m\u001b[39mNone\u001b[39;00m, origin\u001b[39m=\u001b[39m\u001b[39mNone\u001b[39;00m, extent\u001b[39m=\u001b[39m\u001b[39mNone\u001b[39;00m, \u001b[39m*\u001b[39m,\n\u001b[1;32m   <a href='file:///usr/local/machine-learnig-QM/.netket_cpu/lib/python3.8/site-packages/matplotlib/pyplot.py?line=2637'>2638</a>\u001b[0m         interpolation_stage\u001b[39m=\u001b[39m\u001b[39mNone\u001b[39;00m, filternorm\u001b[39m=\u001b[39m\u001b[39mTrue\u001b[39;00m, filterrad\u001b[39m=\u001b[39m\u001b[39m4.0\u001b[39m,\n\u001b[1;32m   <a href='file:///usr/local/machine-learnig-QM/.netket_cpu/lib/python3.8/site-packages/matplotlib/pyplot.py?line=2638'>2639</a>\u001b[0m         resample\u001b[39m=\u001b[39m\u001b[39mNone\u001b[39;00m, url\u001b[39m=\u001b[39m\u001b[39mNone\u001b[39;00m, data\u001b[39m=\u001b[39m\u001b[39mNone\u001b[39;00m, \u001b[39m*\u001b[39m\u001b[39m*\u001b[39mkwargs):\n\u001b[0;32m-> <a href='file:///usr/local/machine-learnig-QM/.netket_cpu/lib/python3.8/site-packages/matplotlib/pyplot.py?line=2639'>2640</a>\u001b[0m     __ret \u001b[39m=\u001b[39m gca()\u001b[39m.\u001b[39;49mimshow(\n\u001b[1;32m   <a href='file:///usr/local/machine-learnig-QM/.netket_cpu/lib/python3.8/site-packages/matplotlib/pyplot.py?line=2640'>2641</a>\u001b[0m         X, cmap\u001b[39m=\u001b[39;49mcmap, norm\u001b[39m=\u001b[39;49mnorm, aspect\u001b[39m=\u001b[39;49maspect,\n\u001b[1;32m   <a href='file:///usr/local/machine-learnig-QM/.netket_cpu/lib/python3.8/site-packages/matplotlib/pyplot.py?line=2641'>2642</a>\u001b[0m         interpolation\u001b[39m=\u001b[39;49minterpolation, alpha\u001b[39m=\u001b[39;49malpha, vmin\u001b[39m=\u001b[39;49mvmin,\n\u001b[1;32m   <a href='file:///usr/local/machine-learnig-QM/.netket_cpu/lib/python3.8/site-packages/matplotlib/pyplot.py?line=2642'>2643</a>\u001b[0m         vmax\u001b[39m=\u001b[39;49mvmax, origin\u001b[39m=\u001b[39;49morigin, extent\u001b[39m=\u001b[39;49mextent,\n\u001b[1;32m   <a href='file:///usr/local/machine-learnig-QM/.netket_cpu/lib/python3.8/site-packages/matplotlib/pyplot.py?line=2643'>2644</a>\u001b[0m         interpolation_stage\u001b[39m=\u001b[39;49minterpolation_stage,\n\u001b[1;32m   <a href='file:///usr/local/machine-learnig-QM/.netket_cpu/lib/python3.8/site-packages/matplotlib/pyplot.py?line=2644'>2645</a>\u001b[0m         filternorm\u001b[39m=\u001b[39;49mfilternorm, filterrad\u001b[39m=\u001b[39;49mfilterrad, resample\u001b[39m=\u001b[39;49mresample,\n\u001b[1;32m   <a href='file:///usr/local/machine-learnig-QM/.netket_cpu/lib/python3.8/site-packages/matplotlib/pyplot.py?line=2645'>2646</a>\u001b[0m         url\u001b[39m=\u001b[39;49murl, \u001b[39m*\u001b[39;49m\u001b[39m*\u001b[39;49m({\u001b[39m\"\u001b[39;49m\u001b[39mdata\u001b[39;49m\u001b[39m\"\u001b[39;49m: data} \u001b[39mif\u001b[39;49;00m data \u001b[39mis\u001b[39;49;00m \u001b[39mnot\u001b[39;49;00m \u001b[39mNone\u001b[39;49;00m \u001b[39melse\u001b[39;49;00m {}),\n\u001b[1;32m   <a href='file:///usr/local/machine-learnig-QM/.netket_cpu/lib/python3.8/site-packages/matplotlib/pyplot.py?line=2646'>2647</a>\u001b[0m         \u001b[39m*\u001b[39;49m\u001b[39m*\u001b[39;49mkwargs)\n\u001b[1;32m   <a href='file:///usr/local/machine-learnig-QM/.netket_cpu/lib/python3.8/site-packages/matplotlib/pyplot.py?line=2647'>2648</a>\u001b[0m     sci(__ret)\n\u001b[1;32m   <a href='file:///usr/local/machine-learnig-QM/.netket_cpu/lib/python3.8/site-packages/matplotlib/pyplot.py?line=2648'>2649</a>\u001b[0m     \u001b[39mreturn\u001b[39;00m __ret\n",
      "File \u001b[0;32m/usr/local/machine-learnig-QM/.netket_cpu/lib/python3.8/site-packages/matplotlib/_api/deprecation.py:456\u001b[0m, in \u001b[0;36mmake_keyword_only.<locals>.wrapper\u001b[0;34m(*args, **kwargs)\u001b[0m\n\u001b[1;32m    <a href='file:///usr/local/machine-learnig-QM/.netket_cpu/lib/python3.8/site-packages/matplotlib/_api/deprecation.py?line=449'>450</a>\u001b[0m \u001b[39mif\u001b[39;00m \u001b[39mlen\u001b[39m(args) \u001b[39m>\u001b[39m name_idx:\n\u001b[1;32m    <a href='file:///usr/local/machine-learnig-QM/.netket_cpu/lib/python3.8/site-packages/matplotlib/_api/deprecation.py?line=450'>451</a>\u001b[0m     warn_deprecated(\n\u001b[1;32m    <a href='file:///usr/local/machine-learnig-QM/.netket_cpu/lib/python3.8/site-packages/matplotlib/_api/deprecation.py?line=451'>452</a>\u001b[0m         since, message\u001b[39m=\u001b[39m\u001b[39m\"\u001b[39m\u001b[39mPassing the \u001b[39m\u001b[39m%(name)s\u001b[39;00m\u001b[39m \u001b[39m\u001b[39m%(obj_type)s\u001b[39;00m\u001b[39m \u001b[39m\u001b[39m\"\u001b[39m\n\u001b[1;32m    <a href='file:///usr/local/machine-learnig-QM/.netket_cpu/lib/python3.8/site-packages/matplotlib/_api/deprecation.py?line=452'>453</a>\u001b[0m         \u001b[39m\"\u001b[39m\u001b[39mpositionally is deprecated since Matplotlib \u001b[39m\u001b[39m%(since)s\u001b[39;00m\u001b[39m; the \u001b[39m\u001b[39m\"\u001b[39m\n\u001b[1;32m    <a href='file:///usr/local/machine-learnig-QM/.netket_cpu/lib/python3.8/site-packages/matplotlib/_api/deprecation.py?line=453'>454</a>\u001b[0m         \u001b[39m\"\u001b[39m\u001b[39mparameter will become keyword-only \u001b[39m\u001b[39m%(removal)s\u001b[39;00m\u001b[39m.\u001b[39m\u001b[39m\"\u001b[39m,\n\u001b[1;32m    <a href='file:///usr/local/machine-learnig-QM/.netket_cpu/lib/python3.8/site-packages/matplotlib/_api/deprecation.py?line=454'>455</a>\u001b[0m         name\u001b[39m=\u001b[39mname, obj_type\u001b[39m=\u001b[39m\u001b[39mf\u001b[39m\u001b[39m\"\u001b[39m\u001b[39mparameter of \u001b[39m\u001b[39m{\u001b[39;00mfunc\u001b[39m.\u001b[39m\u001b[39m__name__\u001b[39m\u001b[39m}\u001b[39;00m\u001b[39m()\u001b[39m\u001b[39m\"\u001b[39m)\n\u001b[0;32m--> <a href='file:///usr/local/machine-learnig-QM/.netket_cpu/lib/python3.8/site-packages/matplotlib/_api/deprecation.py?line=455'>456</a>\u001b[0m \u001b[39mreturn\u001b[39;00m func(\u001b[39m*\u001b[39;49margs, \u001b[39m*\u001b[39;49m\u001b[39m*\u001b[39;49mkwargs)\n",
      "File \u001b[0;32m/usr/local/machine-learnig-QM/.netket_cpu/lib/python3.8/site-packages/matplotlib/__init__.py:1412\u001b[0m, in \u001b[0;36m_preprocess_data.<locals>.inner\u001b[0;34m(ax, data, *args, **kwargs)\u001b[0m\n\u001b[1;32m   <a href='file:///usr/local/machine-learnig-QM/.netket_cpu/lib/python3.8/site-packages/matplotlib/__init__.py?line=1408'>1409</a>\u001b[0m \u001b[39m@functools\u001b[39m\u001b[39m.\u001b[39mwraps(func)\n\u001b[1;32m   <a href='file:///usr/local/machine-learnig-QM/.netket_cpu/lib/python3.8/site-packages/matplotlib/__init__.py?line=1409'>1410</a>\u001b[0m \u001b[39mdef\u001b[39;00m \u001b[39minner\u001b[39m(ax, \u001b[39m*\u001b[39margs, data\u001b[39m=\u001b[39m\u001b[39mNone\u001b[39;00m, \u001b[39m*\u001b[39m\u001b[39m*\u001b[39mkwargs):\n\u001b[1;32m   <a href='file:///usr/local/machine-learnig-QM/.netket_cpu/lib/python3.8/site-packages/matplotlib/__init__.py?line=1410'>1411</a>\u001b[0m     \u001b[39mif\u001b[39;00m data \u001b[39mis\u001b[39;00m \u001b[39mNone\u001b[39;00m:\n\u001b[0;32m-> <a href='file:///usr/local/machine-learnig-QM/.netket_cpu/lib/python3.8/site-packages/matplotlib/__init__.py?line=1411'>1412</a>\u001b[0m         \u001b[39mreturn\u001b[39;00m func(ax, \u001b[39m*\u001b[39;49m\u001b[39mmap\u001b[39;49m(sanitize_sequence, args), \u001b[39m*\u001b[39;49m\u001b[39m*\u001b[39;49mkwargs)\n\u001b[1;32m   <a href='file:///usr/local/machine-learnig-QM/.netket_cpu/lib/python3.8/site-packages/matplotlib/__init__.py?line=1413'>1414</a>\u001b[0m     bound \u001b[39m=\u001b[39m new_sig\u001b[39m.\u001b[39mbind(ax, \u001b[39m*\u001b[39margs, \u001b[39m*\u001b[39m\u001b[39m*\u001b[39mkwargs)\n\u001b[1;32m   <a href='file:///usr/local/machine-learnig-QM/.netket_cpu/lib/python3.8/site-packages/matplotlib/__init__.py?line=1414'>1415</a>\u001b[0m     auto_label \u001b[39m=\u001b[39m (bound\u001b[39m.\u001b[39marguments\u001b[39m.\u001b[39mget(label_namer)\n\u001b[1;32m   <a href='file:///usr/local/machine-learnig-QM/.netket_cpu/lib/python3.8/site-packages/matplotlib/__init__.py?line=1415'>1416</a>\u001b[0m                   \u001b[39mor\u001b[39;00m bound\u001b[39m.\u001b[39mkwargs\u001b[39m.\u001b[39mget(label_namer))\n",
      "File \u001b[0;32m/usr/local/machine-learnig-QM/.netket_cpu/lib/python3.8/site-packages/matplotlib/axes/_axes.py:5482\u001b[0m, in \u001b[0;36mAxes.imshow\u001b[0;34m(self, X, cmap, norm, aspect, interpolation, alpha, vmin, vmax, origin, extent, interpolation_stage, filternorm, filterrad, resample, url, **kwargs)\u001b[0m\n\u001b[1;32m   <a href='file:///usr/local/machine-learnig-QM/.netket_cpu/lib/python3.8/site-packages/matplotlib/axes/_axes.py?line=5479'>5480</a>\u001b[0m     aspect \u001b[39m=\u001b[39m rcParams[\u001b[39m'\u001b[39m\u001b[39mimage.aspect\u001b[39m\u001b[39m'\u001b[39m]\n\u001b[1;32m   <a href='file:///usr/local/machine-learnig-QM/.netket_cpu/lib/python3.8/site-packages/matplotlib/axes/_axes.py?line=5480'>5481</a>\u001b[0m \u001b[39mself\u001b[39m\u001b[39m.\u001b[39mset_aspect(aspect)\n\u001b[0;32m-> <a href='file:///usr/local/machine-learnig-QM/.netket_cpu/lib/python3.8/site-packages/matplotlib/axes/_axes.py?line=5481'>5482</a>\u001b[0m im \u001b[39m=\u001b[39m mimage\u001b[39m.\u001b[39;49mAxesImage(\u001b[39mself\u001b[39;49m, cmap, norm, interpolation,\n\u001b[1;32m   <a href='file:///usr/local/machine-learnig-QM/.netket_cpu/lib/python3.8/site-packages/matplotlib/axes/_axes.py?line=5482'>5483</a>\u001b[0m                       origin, extent, filternorm\u001b[39m=\u001b[39;49mfilternorm,\n\u001b[1;32m   <a href='file:///usr/local/machine-learnig-QM/.netket_cpu/lib/python3.8/site-packages/matplotlib/axes/_axes.py?line=5483'>5484</a>\u001b[0m                       filterrad\u001b[39m=\u001b[39;49mfilterrad, resample\u001b[39m=\u001b[39;49mresample,\n\u001b[1;32m   <a href='file:///usr/local/machine-learnig-QM/.netket_cpu/lib/python3.8/site-packages/matplotlib/axes/_axes.py?line=5484'>5485</a>\u001b[0m                       interpolation_stage\u001b[39m=\u001b[39;49minterpolation_stage,\n\u001b[1;32m   <a href='file:///usr/local/machine-learnig-QM/.netket_cpu/lib/python3.8/site-packages/matplotlib/axes/_axes.py?line=5485'>5486</a>\u001b[0m                       \u001b[39m*\u001b[39;49m\u001b[39m*\u001b[39;49mkwargs)\n\u001b[1;32m   <a href='file:///usr/local/machine-learnig-QM/.netket_cpu/lib/python3.8/site-packages/matplotlib/axes/_axes.py?line=5487'>5488</a>\u001b[0m im\u001b[39m.\u001b[39mset_data(X)\n\u001b[1;32m   <a href='file:///usr/local/machine-learnig-QM/.netket_cpu/lib/python3.8/site-packages/matplotlib/axes/_axes.py?line=5488'>5489</a>\u001b[0m im\u001b[39m.\u001b[39mset_alpha(alpha)\n",
      "File \u001b[0;32m/usr/local/machine-learnig-QM/.netket_cpu/lib/python3.8/site-packages/matplotlib/image.py:929\u001b[0m, in \u001b[0;36mAxesImage.__init__\u001b[0;34m(self, ax, cmap, norm, interpolation, origin, extent, filternorm, filterrad, resample, interpolation_stage, **kwargs)\u001b[0m\n\u001b[1;32m    <a href='file:///usr/local/machine-learnig-QM/.netket_cpu/lib/python3.8/site-packages/matplotlib/image.py?line=912'>913</a>\u001b[0m \u001b[39mdef\u001b[39;00m \u001b[39m__init__\u001b[39m(\u001b[39mself\u001b[39m, ax,\n\u001b[1;32m    <a href='file:///usr/local/machine-learnig-QM/.netket_cpu/lib/python3.8/site-packages/matplotlib/image.py?line=913'>914</a>\u001b[0m              cmap\u001b[39m=\u001b[39m\u001b[39mNone\u001b[39;00m,\n\u001b[1;32m    <a href='file:///usr/local/machine-learnig-QM/.netket_cpu/lib/python3.8/site-packages/matplotlib/image.py?line=914'>915</a>\u001b[0m              norm\u001b[39m=\u001b[39m\u001b[39mNone\u001b[39;00m,\n\u001b[0;32m   (...)\u001b[0m\n\u001b[1;32m    <a href='file:///usr/local/machine-learnig-QM/.netket_cpu/lib/python3.8/site-packages/matplotlib/image.py?line=923'>924</a>\u001b[0m              \u001b[39m*\u001b[39m\u001b[39m*\u001b[39mkwargs\n\u001b[1;32m    <a href='file:///usr/local/machine-learnig-QM/.netket_cpu/lib/python3.8/site-packages/matplotlib/image.py?line=924'>925</a>\u001b[0m              ):\n\u001b[1;32m    <a href='file:///usr/local/machine-learnig-QM/.netket_cpu/lib/python3.8/site-packages/matplotlib/image.py?line=926'>927</a>\u001b[0m     \u001b[39mself\u001b[39m\u001b[39m.\u001b[39m_extent \u001b[39m=\u001b[39m extent\n\u001b[0;32m--> <a href='file:///usr/local/machine-learnig-QM/.netket_cpu/lib/python3.8/site-packages/matplotlib/image.py?line=928'>929</a>\u001b[0m     \u001b[39msuper\u001b[39;49m()\u001b[39m.\u001b[39;49m\u001b[39m__init__\u001b[39;49m(\n\u001b[1;32m    <a href='file:///usr/local/machine-learnig-QM/.netket_cpu/lib/python3.8/site-packages/matplotlib/image.py?line=929'>930</a>\u001b[0m         ax,\n\u001b[1;32m    <a href='file:///usr/local/machine-learnig-QM/.netket_cpu/lib/python3.8/site-packages/matplotlib/image.py?line=930'>931</a>\u001b[0m         cmap\u001b[39m=\u001b[39;49mcmap,\n\u001b[1;32m    <a href='file:///usr/local/machine-learnig-QM/.netket_cpu/lib/python3.8/site-packages/matplotlib/image.py?line=931'>932</a>\u001b[0m         norm\u001b[39m=\u001b[39;49mnorm,\n\u001b[1;32m    <a href='file:///usr/local/machine-learnig-QM/.netket_cpu/lib/python3.8/site-packages/matplotlib/image.py?line=932'>933</a>\u001b[0m         interpolation\u001b[39m=\u001b[39;49minterpolation,\n\u001b[1;32m    <a href='file:///usr/local/machine-learnig-QM/.netket_cpu/lib/python3.8/site-packages/matplotlib/image.py?line=933'>934</a>\u001b[0m         origin\u001b[39m=\u001b[39;49morigin,\n\u001b[1;32m    <a href='file:///usr/local/machine-learnig-QM/.netket_cpu/lib/python3.8/site-packages/matplotlib/image.py?line=934'>935</a>\u001b[0m         filternorm\u001b[39m=\u001b[39;49mfilternorm,\n\u001b[1;32m    <a href='file:///usr/local/machine-learnig-QM/.netket_cpu/lib/python3.8/site-packages/matplotlib/image.py?line=935'>936</a>\u001b[0m         filterrad\u001b[39m=\u001b[39;49mfilterrad,\n\u001b[1;32m    <a href='file:///usr/local/machine-learnig-QM/.netket_cpu/lib/python3.8/site-packages/matplotlib/image.py?line=936'>937</a>\u001b[0m         resample\u001b[39m=\u001b[39;49mresample,\n\u001b[1;32m    <a href='file:///usr/local/machine-learnig-QM/.netket_cpu/lib/python3.8/site-packages/matplotlib/image.py?line=937'>938</a>\u001b[0m         interpolation_stage\u001b[39m=\u001b[39;49minterpolation_stage,\n\u001b[1;32m    <a href='file:///usr/local/machine-learnig-QM/.netket_cpu/lib/python3.8/site-packages/matplotlib/image.py?line=938'>939</a>\u001b[0m         \u001b[39m*\u001b[39;49m\u001b[39m*\u001b[39;49mkwargs\n\u001b[1;32m    <a href='file:///usr/local/machine-learnig-QM/.netket_cpu/lib/python3.8/site-packages/matplotlib/image.py?line=939'>940</a>\u001b[0m     )\n",
      "File \u001b[0;32m/usr/local/machine-learnig-QM/.netket_cpu/lib/python3.8/site-packages/matplotlib/image.py:253\u001b[0m, in \u001b[0;36m_ImageBase.__init__\u001b[0;34m(self, ax, cmap, norm, interpolation, origin, filternorm, filterrad, resample, interpolation_stage, **kwargs)\u001b[0m\n\u001b[1;32m    <a href='file:///usr/local/machine-learnig-QM/.netket_cpu/lib/python3.8/site-packages/matplotlib/image.py?line=250'>251</a>\u001b[0m \u001b[39mself\u001b[39m\u001b[39m.\u001b[39mset_filternorm(filternorm)\n\u001b[1;32m    <a href='file:///usr/local/machine-learnig-QM/.netket_cpu/lib/python3.8/site-packages/matplotlib/image.py?line=251'>252</a>\u001b[0m \u001b[39mself\u001b[39m\u001b[39m.\u001b[39mset_filterrad(filterrad)\n\u001b[0;32m--> <a href='file:///usr/local/machine-learnig-QM/.netket_cpu/lib/python3.8/site-packages/matplotlib/image.py?line=252'>253</a>\u001b[0m \u001b[39mself\u001b[39;49m\u001b[39m.\u001b[39;49mset_interpolation(interpolation)\n\u001b[1;32m    <a href='file:///usr/local/machine-learnig-QM/.netket_cpu/lib/python3.8/site-packages/matplotlib/image.py?line=253'>254</a>\u001b[0m \u001b[39mself\u001b[39m\u001b[39m.\u001b[39mset_interpolation_stage(interpolation_stage)\n\u001b[1;32m    <a href='file:///usr/local/machine-learnig-QM/.netket_cpu/lib/python3.8/site-packages/matplotlib/image.py?line=254'>255</a>\u001b[0m \u001b[39mself\u001b[39m\u001b[39m.\u001b[39mset_resample(resample)\n",
      "File \u001b[0;32m/usr/local/machine-learnig-QM/.netket_cpu/lib/python3.8/site-packages/matplotlib/image.py:780\u001b[0m, in \u001b[0;36m_ImageBase.set_interpolation\u001b[0;34m(self, s)\u001b[0m\n\u001b[1;32m    <a href='file:///usr/local/machine-learnig-QM/.netket_cpu/lib/python3.8/site-packages/matplotlib/image.py?line=777'>778</a>\u001b[0m     s \u001b[39m=\u001b[39m mpl\u001b[39m.\u001b[39mrcParams[\u001b[39m'\u001b[39m\u001b[39mimage.interpolation\u001b[39m\u001b[39m'\u001b[39m]\n\u001b[1;32m    <a href='file:///usr/local/machine-learnig-QM/.netket_cpu/lib/python3.8/site-packages/matplotlib/image.py?line=778'>779</a>\u001b[0m s \u001b[39m=\u001b[39m s\u001b[39m.\u001b[39mlower()\n\u001b[0;32m--> <a href='file:///usr/local/machine-learnig-QM/.netket_cpu/lib/python3.8/site-packages/matplotlib/image.py?line=779'>780</a>\u001b[0m _api\u001b[39m.\u001b[39;49mcheck_in_list(_interpd_, interpolation\u001b[39m=\u001b[39;49ms)\n\u001b[1;32m    <a href='file:///usr/local/machine-learnig-QM/.netket_cpu/lib/python3.8/site-packages/matplotlib/image.py?line=780'>781</a>\u001b[0m \u001b[39mself\u001b[39m\u001b[39m.\u001b[39m_interpolation \u001b[39m=\u001b[39m s\n\u001b[1;32m    <a href='file:///usr/local/machine-learnig-QM/.netket_cpu/lib/python3.8/site-packages/matplotlib/image.py?line=781'>782</a>\u001b[0m \u001b[39mself\u001b[39m\u001b[39m.\u001b[39mstale \u001b[39m=\u001b[39m \u001b[39mTrue\u001b[39;00m\n",
      "File \u001b[0;32m/usr/local/machine-learnig-QM/.netket_cpu/lib/python3.8/site-packages/matplotlib/_api/__init__.py:129\u001b[0m, in \u001b[0;36mcheck_in_list\u001b[0;34m(_values, _print_supported_values, **kwargs)\u001b[0m\n\u001b[1;32m    <a href='file:///usr/local/machine-learnig-QM/.netket_cpu/lib/python3.8/site-packages/matplotlib/_api/__init__.py?line=126'>127</a>\u001b[0m \u001b[39mif\u001b[39;00m _print_supported_values:\n\u001b[1;32m    <a href='file:///usr/local/machine-learnig-QM/.netket_cpu/lib/python3.8/site-packages/matplotlib/_api/__init__.py?line=127'>128</a>\u001b[0m     msg \u001b[39m+\u001b[39m\u001b[39m=\u001b[39m \u001b[39mf\u001b[39m\u001b[39m\"\u001b[39m\u001b[39m; supported values are \u001b[39m\u001b[39m{\u001b[39;00m\u001b[39m'\u001b[39m\u001b[39m, \u001b[39m\u001b[39m'\u001b[39m\u001b[39m.\u001b[39mjoin(\u001b[39mmap\u001b[39m(\u001b[39mrepr\u001b[39m, values))\u001b[39m}\u001b[39;00m\u001b[39m\"\u001b[39m\n\u001b[0;32m--> <a href='file:///usr/local/machine-learnig-QM/.netket_cpu/lib/python3.8/site-packages/matplotlib/_api/__init__.py?line=128'>129</a>\u001b[0m \u001b[39mraise\u001b[39;00m \u001b[39mValueError\u001b[39;00m(msg)\n",
      "\u001b[0;31mValueError\u001b[0m: 'cubic' is not a valid value for interpolation; supported values are 'antialiased', 'none', 'nearest', 'bilinear', 'bicubic', 'spline16', 'spline36', 'hanning', 'hamming', 'hermite', 'kaiser', 'quadric', 'catrom', 'gaussian', 'bessel', 'mitchell', 'sinc', 'lanczos', 'blackman'"
     ]
    },
    {
     "data": {
      "image/png": "[encoded data removed]",
      "text/plain": [
       "<Figure size 432x288 with 1 Axes>"
      ]
     },
     "metadata": {
      "needs_background": "light"
     },
     "output_type": "display_data"
    }
   ],
   "source": [
    "pl.subplot(122) \n",
    "im2=pl.imshow(fnew, extent=[-1,1,-1,1], cmap=mpl.cm.hot, interpolation='quadric', origin=\"lower\") \n",
    "pl.colorbar(im2, fraction=0.046, pad=0.04)"
   ]
  },
  {
   "cell_type": "code",
   "execution_count": null,
   "metadata": {},
   "outputs": [
    {
     "data": {
      "text/plain": [
       "array([[-9.07998595e-05, -3.17691371e-04, -9.00983235e-04,\n",
       "        -2.06904540e-03, -3.84226823e-03, -5.75982125e-03,\n",
       "        -6.95350504e-03, -6.73794700e-03, -5.21512878e-03,\n",
       "        -3.19990070e-03, -1.53690729e-03, -5.64285109e-04,\n",
       "        -1.50163873e-04, -2.44377977e-05,  0.00000000e+00],\n",
       "       [-3.17691371e-04, -1.10496428e-03, -3.11195332e-03,\n",
       "        -7.08732356e-03, -1.30297209e-02, -1.92912962e-02,\n",
       "        -2.29253910e-02, -2.17613446e-02, -1.63752793e-02,\n",
       "        -9.64564809e-03, -4.34324031e-03, -1.41746471e-03,\n",
       "        -2.82904847e-04, -1.43121624e-19,  2.44377977e-05],\n",
       "       [-9.00983235e-04, -3.11195332e-03, -8.69188130e-03,\n",
       "        -1.95973869e-02, -3.55841003e-02, -5.18612356e-02,\n",
       "        -6.03730839e-02, -5.57157368e-02, -4.02487226e-02,\n",
       "        -2.22262438e-02, -8.89602507e-03, -2.17748744e-03,\n",
       "        -6.75494873e-19,  2.82904847e-04,  1.50163873e-04],\n",
       "       [-2.06904540e-03, -7.08732356e-03, -1.95973869e-02,\n",
       "        -4.36402788e-02, -7.80020315e-02, -1.11362236e-01,\n",
       "        -1.26038720e-01, -1.11663114e-01, -7.56232323e-02,\n",
       "        -3.71207452e-02, -1.11431474e-02,  0.00000000e+00,\n",
       "         2.17748744e-03,  1.41746471e-03,  5.64285109e-04],\n",
       "       [-3.84226823e-03, -1.30297209e-02, -3.55841003e-02,\n",
       "        -7.80020315e-02, -1.36574452e-01, -1.89568878e-01,\n",
       "        -2.05970165e-01, -1.71072950e-01, -1.02985082e-01,\n",
       "        -3.79137756e-02, -3.53798904e-17,  1.11431474e-02,\n",
       "         8.89602507e-03,  4.34324031e-03,  1.53690729e-03],\n",
       "       [-5.75982125e-03, -1.92912962e-02, -5.18612356e-02,\n",
       "        -1.11362236e-01, -1.89568878e-01, -2.52601453e-01,\n",
       "        -2.57302732e-01, -1.89962948e-01, -8.57675773e-02,\n",
       "        -9.81553820e-17,  3.79137756e-02,  3.71207452e-02,\n",
       "         2.22262438e-02,  9.64564809e-03,  3.19990070e-03],\n",
       "       [-6.95350504e-03, -2.29253910e-02, -6.03730839e-02,\n",
       "        -1.26038720e-01, -2.05970165e-01, -2.57302732e-01,\n",
       "        -2.32970230e-01, -1.28998956e-01, -9.05271198e-17,\n",
       "         8.57675773e-02,  1.02985082e-01,  7.56232323e-02,\n",
       "         4.02487226e-02,  1.63752793e-02,  5.21512878e-03],\n",
       "       [-6.73794700e-03, -2.17613446e-02, -5.57157368e-02,\n",
       "        -1.11663114e-01, -1.71072950e-01, -1.89962948e-01,\n",
       "        -1.28998956e-01,  0.00000000e+00,  1.28998956e-01,\n",
       "         1.89962948e-01,  1.71072950e-01,  1.11663114e-01,\n",
       "         5.57157368e-02,  2.17613446e-02,  6.73794700e-03],\n",
       "       [-5.21512878e-03, -1.63752793e-02, -4.02487226e-02,\n",
       "        -7.56232323e-02, -1.02985082e-01, -8.57675773e-02,\n",
       "        -9.05271198e-17,  1.28998956e-01,  2.32970230e-01,\n",
       "         2.57302732e-01,  2.05970165e-01,  1.26038720e-01,\n",
       "         6.03730839e-02,  2.29253910e-02,  6.95350504e-03],\n",
       "       [-3.19990070e-03, -9.64564809e-03, -2.22262438e-02,\n",
       "        -3.71207452e-02, -3.79137756e-02, -9.81553820e-17,\n",
       "         8.57675773e-02,  1.89962948e-01,  2.57302732e-01,\n",
       "         2.52601453e-01,  1.89568878e-01,  1.11362236e-01,\n",
       "         5.18612356e-02,  1.92912962e-02,  5.75982125e-03],\n",
       "       [-1.53690729e-03, -4.34324031e-03, -8.89602507e-03,\n",
       "        -1.11431474e-02, -3.53798904e-17,  3.79137756e-02,\n",
       "         1.02985082e-01,  1.71072950e-01,  2.05970165e-01,\n",
       "         1.89568878e-01,  1.36574452e-01,  7.80020315e-02,\n",
       "         3.55841003e-02,  1.30297209e-02,  3.84226823e-03],\n",
       "       [-5.64285109e-04, -1.41746471e-03, -2.17748744e-03,\n",
       "         0.00000000e+00,  1.11431474e-02,  3.71207452e-02,\n",
       "         7.56232323e-02,  1.11663114e-01,  1.26038720e-01,\n",
       "         1.11362236e-01,  7.80020315e-02,  4.36402788e-02,\n",
       "         1.95973869e-02,  7.08732356e-03,  2.06904540e-03],\n",
       "       [-1.50163873e-04, -2.82904847e-04, -6.75494873e-19,\n",
       "         2.17748744e-03,  8.89602507e-03,  2.22262438e-02,\n",
       "         4.02487226e-02,  5.57157368e-02,  6.03730839e-02,\n",
       "         5.18612356e-02,  3.55841003e-02,  1.95973869e-02,\n",
       "         8.69188130e-03,  3.11195332e-03,  9.00983235e-04],\n",
       "       [-2.44377977e-05, -1.43121624e-19,  2.82904847e-04,\n",
       "         1.41746471e-03,  4.34324031e-03,  9.64564809e-03,\n",
       "         1.63752793e-02,  2.17613446e-02,  2.29253910e-02,\n",
       "         1.92912962e-02,  1.30297209e-02,  7.08732356e-03,\n",
       "         3.11195332e-03,  1.10496428e-03,  3.17691371e-04],\n",
       "       [ 0.00000000e+00,  2.44377977e-05,  1.50163873e-04,\n",
       "         5.64285109e-04,  1.53690729e-03,  3.19990070e-03,\n",
       "         5.21512878e-03,  6.73794700e-03,  6.95350504e-03,\n",
       "         5.75982125e-03,  3.84226823e-03,  2.06904540e-03,\n",
       "         9.00983235e-04,  3.17691371e-04,  9.07998595e-05]])"
      ]
     },
     "execution_count": 11,
     "metadata": {},
     "output_type": "execute_result"
    }
   ],
   "source": [
    "fvals"
   ]
  }
 ],
 "metadata": {
  "interpreter": {
   "hash": "987688c839ca28ac7d9017b372dc0b736c48f43e7527017ea291fc87bc3eeb80"
  },
  "kernelspec": {
   "display_name": "Python 3.8.10 ('.netket_cpu': venv)",
   "language": "python",
   "name": "python3"
  },
  "language_info": {
   "codemirror_mode": {
    "name": "ipython",
    "version": 3
   },
   "file_extension": ".py",
   "mimetype": "text/x-python",
   "name": "python",
   "nbconvert_exporter": "python",
   "pygments_lexer": "ipython3",
   "version": "3.8.10"
  },
  "orig_nbformat": 4
 },
 "nbformat": 4,
 "nbformat_minor": 2
}
